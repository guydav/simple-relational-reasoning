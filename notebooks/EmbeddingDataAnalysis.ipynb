{
 "cells": [
  {
   "cell_type": "code",
   "execution_count": 4,
   "metadata": {},
   "outputs": [],
   "source": [
    "import glob\n",
    "import os\n",
    "\n",
    "import numpy as np\n",
    "import pandas as pd\n",
    "import scipy\n",
    "from scipy import stats\n",
    "\n",
    "from mpl_toolkits.mplot3d import Axes3D\n",
    "import matplotlib\n",
    "import matplotlib.pyplot as plt\n",
    "from matplotlib import patches\n",
    "from matplotlib import path as mpath\n",
    "import matplotlib.gridspec as gridspec\n"
   ]
  },
  {
   "cell_type": "code",
   "execution_count": 2,
   "metadata": {},
   "outputs": [],
   "source": [
    "FIGURE_TEMPLATE = r'''\\begin{{figure}}[!htb]\n",
    "% \\vspace{{-0.225in}}\n",
    "\\centering\n",
    "\\includegraphics[width=\\linewidth]{{figures/{save_path}}}\n",
    "\\caption{{ {{\\bf FIGURE TITLE.}} FIGURE DESCRIPTION.}}\n",
    "\\label{{fig:{label_name}}}\n",
    "% \\vspace{{-0.2in}}\n",
    "\\end{{figure}}\n",
    "'''\n",
    "WRAPFIGURE_TEMPLATE = r'''\\begin{{wrapfigure}}{{r}}{{0.5\\linewidth}}\n",
    "\\vspace{{-.3in}}\n",
    "\\begin{{spacing}}{{1.0}}\n",
    "\\centering\n",
    "\\includegraphics[width=0.95\\linewidth]{{figures/{save_path}}}\n",
    "\\caption{{ {{\\bf FIGURE TITLE.}} FIGURE DESCRIPTION.}}\n",
    "\\label{{fig:{label_name}}}\n",
    "\\end{{spacing}}\n",
    "% \\vspace{{-.25in}}\n",
    "\\end{{wrapfigure}}'''\n",
    "\n",
    "SAVE_PATH_PREFIX = 'figures'\n",
    "\n",
    "\n",
    "def save_plot(save_path, bbox_inches='tight', should_print=False):\n",
    "    if save_path is not None:\n",
    "        save_path_no_ext = os.path.splitext(save_path)[0]\n",
    "        if should_print:\n",
    "            print('Figure:\\n')\n",
    "            print(FIGURE_TEMPLATE.format(save_path=save_path, label_name=save_path_no_ext.replace('/', '-').replace('_', '-')))\n",
    "            print('\\nWrapfigure:\\n')\n",
    "            print(WRAPFIGURE_TEMPLATE.format(save_path=save_path, label_name=save_path_no_ext.replace('/', '-').replace('_', '-')))\n",
    "            print('')\n",
    "        \n",
    "        if not save_path.startswith(SAVE_PATH_PREFIX):\n",
    "            save_path = os.path.join(SAVE_PATH_PREFIX, save_path)\n",
    "        \n",
    "        folder, filename = os.path.split(save_path)\n",
    "        os.makedirs(folder, exist_ok=True)\n",
    "        plt.savefig(save_path, bbox_inches=bbox_inches, facecolor=plt.gcf().get_facecolor(), edgecolor='none')"
   ]
  },
  {
   "cell_type": "code",
   "execution_count": 12,
   "metadata": {},
   "outputs": [],
   "source": [
    "def load_and_join_dataframes(folder, ext='.csv') -> pd.DataFrame:\n",
    "    files = glob.glob(os.path.join(folder, '*' + ext))\n",
    "    df = pd.concat([pd.read_csv(f) for f in files])\n",
    "    df.reset_index(drop=True, inplace=True)\n",
    "    return df\n",
    "    \n",
    "combined_df = load_and_join_dataframes('../embedding_outputs')\n",
    "combined_df.drop(columns=[combined_df.columns[0]], inplace=True)\n",
    "combined_df.rotate_angle.fillna(0, inplace=True)\n",
    "combined_df.rotate_angle = combined_df.rotate_angle.astype(int)"
   ]
  },
  {
   "cell_type": "code",
   "execution_count": 13,
   "metadata": {},
   "outputs": [
    {
     "data": {
      "text/html": [
       "<div>\n",
       "<style scoped>\n",
       "    .dataframe tbody tr th:only-of-type {\n",
       "        vertical-align: middle;\n",
       "    }\n",
       "\n",
       "    .dataframe tbody tr th {\n",
       "        vertical-align: top;\n",
       "    }\n",
       "\n",
       "    .dataframe thead th {\n",
       "        text-align: right;\n",
       "    }\n",
       "</style>\n",
       "<table border=\"1\" class=\"dataframe\">\n",
       "  <thead>\n",
       "    <tr style=\"text-align: right;\">\n",
       "      <th></th>\n",
       "      <th>model_name</th>\n",
       "      <th>condition</th>\n",
       "      <th>acc_mean</th>\n",
       "      <th>acc_std</th>\n",
       "      <th>acc_sem</th>\n",
       "      <th>relation</th>\n",
       "      <th>two_reference_objects</th>\n",
       "      <th>adjacent_reference_objects</th>\n",
       "      <th>n_target_types</th>\n",
       "      <th>transpose_stimuli</th>\n",
       "      <th>n_habituation_stimuli</th>\n",
       "      <th>rotate_angle</th>\n",
       "      <th>seed</th>\n",
       "      <th>n_examples</th>\n",
       "      <th>extra_diagonal_margin</th>\n",
       "    </tr>\n",
       "  </thead>\n",
       "  <tbody>\n",
       "    <tr>\n",
       "      <th>0</th>\n",
       "      <td>mobilenet-random</td>\n",
       "      <td>different_shapes</td>\n",
       "      <td>0.508789</td>\n",
       "      <td>0.499923</td>\n",
       "      <td>0.015623</td>\n",
       "      <td>above_below</td>\n",
       "      <td>0</td>\n",
       "      <td>0</td>\n",
       "      <td>1</td>\n",
       "      <td>0</td>\n",
       "      <td>1</td>\n",
       "      <td>0</td>\n",
       "      <td>34</td>\n",
       "      <td>1024</td>\n",
       "      <td>5</td>\n",
       "    </tr>\n",
       "    <tr>\n",
       "      <th>1</th>\n",
       "      <td>mobilenet-random</td>\n",
       "      <td>split_text</td>\n",
       "      <td>0.117188</td>\n",
       "      <td>0.321644</td>\n",
       "      <td>0.010051</td>\n",
       "      <td>above_below</td>\n",
       "      <td>0</td>\n",
       "      <td>0</td>\n",
       "      <td>1</td>\n",
       "      <td>0</td>\n",
       "      <td>1</td>\n",
       "      <td>0</td>\n",
       "      <td>34</td>\n",
       "      <td>1024</td>\n",
       "      <td>5</td>\n",
       "    </tr>\n",
       "    <tr>\n",
       "      <th>2</th>\n",
       "      <td>mobilenet-random</td>\n",
       "      <td>random_color</td>\n",
       "      <td>0.493164</td>\n",
       "      <td>0.499953</td>\n",
       "      <td>0.015624</td>\n",
       "      <td>above_below</td>\n",
       "      <td>0</td>\n",
       "      <td>0</td>\n",
       "      <td>1</td>\n",
       "      <td>0</td>\n",
       "      <td>1</td>\n",
       "      <td>0</td>\n",
       "      <td>34</td>\n",
       "      <td>1024</td>\n",
       "      <td>5</td>\n",
       "    </tr>\n",
       "    <tr>\n",
       "      <th>3</th>\n",
       "      <td>resnext-random</td>\n",
       "      <td>different_shapes</td>\n",
       "      <td>0.469727</td>\n",
       "      <td>0.499083</td>\n",
       "      <td>0.015596</td>\n",
       "      <td>above_below</td>\n",
       "      <td>0</td>\n",
       "      <td>0</td>\n",
       "      <td>1</td>\n",
       "      <td>0</td>\n",
       "      <td>1</td>\n",
       "      <td>0</td>\n",
       "      <td>34</td>\n",
       "      <td>1024</td>\n",
       "      <td>5</td>\n",
       "    </tr>\n",
       "    <tr>\n",
       "      <th>4</th>\n",
       "      <td>resnext-random</td>\n",
       "      <td>split_text</td>\n",
       "      <td>0.115234</td>\n",
       "      <td>0.319305</td>\n",
       "      <td>0.009978</td>\n",
       "      <td>above_below</td>\n",
       "      <td>0</td>\n",
       "      <td>0</td>\n",
       "      <td>1</td>\n",
       "      <td>0</td>\n",
       "      <td>1</td>\n",
       "      <td>0</td>\n",
       "      <td>34</td>\n",
       "      <td>1024</td>\n",
       "      <td>5</td>\n",
       "    </tr>\n",
       "  </tbody>\n",
       "</table>\n",
       "</div>"
      ],
      "text/plain": [
       "         model_name         condition  acc_mean   acc_std   acc_sem  \\\n",
       "0  mobilenet-random  different_shapes  0.508789  0.499923  0.015623   \n",
       "1  mobilenet-random        split_text  0.117188  0.321644  0.010051   \n",
       "2  mobilenet-random      random_color  0.493164  0.499953  0.015624   \n",
       "3    resnext-random  different_shapes  0.469727  0.499083  0.015596   \n",
       "4    resnext-random        split_text  0.115234  0.319305  0.009978   \n",
       "\n",
       "      relation  two_reference_objects  adjacent_reference_objects  \\\n",
       "0  above_below                      0                           0   \n",
       "1  above_below                      0                           0   \n",
       "2  above_below                      0                           0   \n",
       "3  above_below                      0                           0   \n",
       "4  above_below                      0                           0   \n",
       "\n",
       "   n_target_types  transpose_stimuli  n_habituation_stimuli  rotate_angle  \\\n",
       "0               1                  0                      1             0   \n",
       "1               1                  0                      1             0   \n",
       "2               1                  0                      1             0   \n",
       "3               1                  0                      1             0   \n",
       "4               1                  0                      1             0   \n",
       "\n",
       "   seed  n_examples  extra_diagonal_margin  \n",
       "0    34        1024                      5  \n",
       "1    34        1024                      5  \n",
       "2    34        1024                      5  \n",
       "3    34        1024                      5  \n",
       "4    34        1024                      5  "
      ]
     },
     "execution_count": 13,
     "metadata": {},
     "output_type": "execute_result"
    }
   ],
   "source": [
    "combined_df.head()"
   ]
  },
  {
   "cell_type": "code",
   "execution_count": 14,
   "metadata": {},
   "outputs": [
    {
     "data": {
      "text/plain": [
       "array([ 0, 30, 45, 60])"
      ]
     },
     "execution_count": 14,
     "metadata": {},
     "output_type": "execute_result"
    }
   ],
   "source": [
    "combined_df.rotate_angle.unique()"
   ]
  },
  {
   "cell_type": "code",
   "execution_count": 18,
   "metadata": {},
   "outputs": [
    {
     "data": {
      "text/plain": [
       "model_name             condition       \n",
       "mobilenet-imagenet     different_shapes    0.784180\n",
       "                       random_color        0.686523\n",
       "                       split_text          0.157227\n",
       "mobilenet-random       different_shapes    0.535156\n",
       "                       random_color        0.541016\n",
       "                       split_text          0.124023\n",
       "mobilenet-saycam(S)    different_shapes    0.890625\n",
       "                       random_color        0.879883\n",
       "                       split_text          0.187500\n",
       "resnext-DINO-ImageNet  different_shapes    0.757812\n",
       "                       random_color        0.738281\n",
       "                       split_text          0.160156\n",
       "resnext-DINO-S         different_shapes    0.877930\n",
       "                       random_color        0.884766\n",
       "                       split_text          0.175781\n",
       "resnext-imagenet       different_shapes    0.862305\n",
       "                       random_color        0.857422\n",
       "                       split_text          0.186523\n",
       "resnext-random         different_shapes    0.499023\n",
       "                       random_color        0.448242\n",
       "                       split_text          0.128906\n",
       "resnext-saycam(S)      different_shapes    0.994141\n",
       "                       random_color        0.990234\n",
       "                       split_text          0.218750\n",
       "resnext-saycam(S)-h    different_shapes    0.922852\n",
       "                       random_color        0.935547\n",
       "                       split_text          0.205078\n",
       "resnext-saycam(S)-hv   different_shapes    0.812500\n",
       "                       random_color        0.790039\n",
       "                       split_text          0.174805\n",
       "resnext-saycam(S)-s    different_shapes    0.830078\n",
       "                       random_color        0.821289\n",
       "                       split_text          0.166016\n",
       "resnext-saycam(S)-v    different_shapes    0.952148\n",
       "                       random_color        0.952148\n",
       "                       split_text          0.189453\n",
       "Name: acc_mean, dtype: float64"
      ]
     },
     "execution_count": 18,
     "metadata": {},
     "output_type": "execute_result"
    }
   ],
   "source": [
    "combined_df.groupby(['model_name', 'condition']).acc_mean.max()"
   ]
  },
  {
   "cell_type": "code",
   "execution_count": 38,
   "metadata": {},
   "outputs": [
    {
     "data": {
      "text/plain": [
       "[(0.0, 1.0), (0.0, 1.0), (0.0, 1.0)]"
      ]
     },
     "execution_count": 38,
     "metadata": {},
     "output_type": "execute_result"
    },
    {
     "data": {
      "image/png": "[encoded data removed]",
      "text/plain": [
       "<Figure size 864x216 with 3 Axes>"
      ]
     },
     "metadata": {
      "needs_background": "light"
     },
     "output_type": "display_data"
    }
   ],
   "source": [
    "axes = combined_df.acc_mean.hist(by=combined_df.condition, density=True, figsize=(12, 3), layout=(1, 3))\n",
    "[ax.set_xlim(0, 1) for ax in axes]"
   ]
  },
  {
   "cell_type": "code",
   "execution_count": null,
   "metadata": {},
   "outputs": [],
   "source": []
  }
 ],
 "metadata": {
  "interpreter": {
   "hash": "c7f8e00f851a7185e5345342178c14041451eaa6562c62790473e641b6de40ed"
  },
  "kernelspec": {
   "display_name": "Python 3.8.2 ('torch')",
   "language": "python",
   "name": "python3"
  },
  "language_info": {
   "codemirror_mode": {
    "name": "ipython",
    "version": 3
   },
   "file_extension": ".py",
   "mimetype": "text/x-python",
   "name": "python",
   "nbconvert_exporter": "python",
   "pygments_lexer": "ipython3",
   "version": "3.8.2"
  },
  "orig_nbformat": 4
 },
 "nbformat": 4,
 "nbformat_minor": 2
}
