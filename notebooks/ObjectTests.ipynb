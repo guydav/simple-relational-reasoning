{
 "cells": [
  {
   "cell_type": "code",
   "execution_count": 1,
   "metadata": {},
   "outputs": [],
   "source": [
    "%load_ext autoreload\n",
    "%autoreload 2\n",
    "%matplotlib inline"
   ]
  },
  {
   "cell_type": "code",
   "execution_count": 8,
   "metadata": {},
   "outputs": [],
   "source": [
    "import os\n",
    "import sys\n",
    "sys.path.append(os.path.abspath('..'))\n",
    "\n",
    "import numpy as np\n",
    "import matplotlib.pyplot as plt\n",
    "\n",
    "import torch\n",
    "from torch import nn\n",
    "import torch.nn.functional as F\n",
    "\n",
    "from pytorch_lightning import Trainer"
   ]
  },
  {
   "cell_type": "code",
   "execution_count": 4,
   "metadata": {},
   "outputs": [],
   "source": [
    "from simple_relational_reasoning.datagen import object_fields\n",
    "from simple_relational_reasoning.datagen import object_gen\n",
    "from simple_relational_reasoning.models import MLPModel"
   ]
  },
  {
   "cell_type": "code",
   "execution_count": 5,
   "metadata": {},
   "outputs": [
    {
     "data": {
      "text/plain": [
       "(torch.Size([20, 16, 6]), torch.Size([20]), tensor(20))"
      ]
     },
     "execution_count": 5,
     "metadata": {},
     "output_type": "execute_result"
    }
   ],
   "source": [
    "float_cfgs = ( \n",
    "    object_gen.FieldConfig('x', 'float_position', ), \n",
    "    object_gen.FieldConfig('y', 'float_position', ), \n",
    "    object_gen.FieldConfig('color', 'one_hot', dict(n_types=4))\n",
    ")\n",
    "\n",
    "\n",
    "DISTANCE_THRESHOLD = 0.44  # approximately balanced for 16 objects\n",
    "\n",
    "\n",
    "def float_adjacent_relation_evaluator(objects, field_slices, x_field_name='x', y_field_name='y', \n",
    "                                      distance_threshold=DISTANCE_THRESHOLD):\n",
    "    # assert(x_field_name in field_slices)\n",
    "    # assert(y_field_name in field_slices)\n",
    "    object_positions = torch.cat((objects[:, field_slices[x_field_name]], objects[:, field_slices[y_field_name]]), dim=1).to(torch.float).unsqueeze(0)\n",
    "    l2_distances = torch.cdist(object_positions, object_positions, 2)\n",
    "    return l2_distances[l2_distances > 0].min() < distance_threshold\n",
    "    \n",
    "    \n",
    "float_gen = object_gen.ObjectGenerator(16, float_cfgs, float_adjacent_relation_evaluator, \n",
    "                                 object_dtype=torch.float, label_dtype=torch.long,\n",
    "                                # max_recursion_depth=100\n",
    "                                )\n",
    "\n",
    "X, y = float_gen(20)\n",
    "X.shape, y.shape, y.sum()"
   ]
  },
  {
   "cell_type": "code",
   "execution_count": 11,
   "metadata": {},
   "outputs": [],
   "source": [
    "X, y = gen(10000)\n",
    "min_distances = []\n",
    "for b in range(X.shape[0]):\n",
    "    d = torch.cdist(X[b,:,:2], X[b,:,:2], 2)\n",
    "    min_distances.append(d[d > 0].min().numpy())"
   ]
  },
  {
   "cell_type": "code",
   "execution_count": 12,
   "metadata": {},
   "outputs": [
    {
     "data": {
      "text/plain": [
       "(array([ 890., 2157., 2419., 2067., 1373.,  693.,  303.,   79.,   16.,\n",
       "           3.]),\n",
       " array([0.00033779, 0.015593  , 0.0308482 , 0.04610341, 0.06135862,\n",
       "        0.07661382, 0.09186903, 0.10712423, 0.12237944, 0.13763463,\n",
       "        0.15288985], dtype=float32),\n",
       " <a list of 10 Patch objects>)"
      ]
     },
     "execution_count": 12,
     "metadata": {},
     "output_type": "execute_result"
    },
    {
     "data": {
      "image/png": "[encoded data removed]",
      "text/plain": [
       "<Figure size 432x288 with 1 Axes>"
      ]
     },
     "metadata": {
      "needs_background": "light"
     },
     "output_type": "display_data"
    }
   ],
   "source": [
    "plt.hist(min_distances)"
   ]
  },
  {
   "cell_type": "code",
   "execution_count": 13,
   "metadata": {},
   "outputs": [
    {
     "data": {
      "text/plain": [
       "(0.045578454, 0.043074124)"
      ]
     },
     "execution_count": 13,
     "metadata": {},
     "output_type": "execute_result"
    }
   ],
   "source": [
    "np.mean(min_distances), np.median(min_distances)"
   ]
  },
  {
   "cell_type": "code",
   "execution_count": 28,
   "metadata": {},
   "outputs": [],
   "source": [
    "t = torch.arange(4).unsqueeze(1)\n",
    "o = t.repeat((1, 6))\n",
    "b = o.unsqueeze(0).repeat((2, 1, 1))\n",
    "B, N, K = b.shape"
   ]
  },
  {
   "cell_type": "code",
   "execution_count": 30,
   "metadata": {},
   "outputs": [],
   "source": [
    "x_1 = b.unsqueeze(1).repeat((1, N, 1, 1))\n",
    "x_2 = b.unsqueeze(2).repeat((1, 1, N, 1))"
   ]
  },
  {
   "cell_type": "code",
   "execution_count": 31,
   "metadata": {},
   "outputs": [
    {
     "data": {
      "text/plain": [
       "(torch.Size([2, 4, 4, 6]), torch.Size([2, 4, 4, 6]))"
      ]
     },
     "execution_count": 31,
     "metadata": {},
     "output_type": "execute_result"
    }
   ],
   "source": [
    "x_1.shape, x_2.shape"
   ]
  },
  {
   "cell_type": "code",
   "execution_count": 36,
   "metadata": {},
   "outputs": [],
   "source": [
    "x = torch.cat([x_1, x_2], 3)"
   ]
  },
  {
   "cell_type": "code",
   "execution_count": 37,
   "metadata": {},
   "outputs": [
    {
     "data": {
      "text/plain": [
       "torch.Size([2, 4, 4, 12])"
      ]
     },
     "execution_count": 37,
     "metadata": {},
     "output_type": "execute_result"
    }
   ],
   "source": [
    "x.shape"
   ]
  },
  {
   "cell_type": "code",
   "execution_count": 39,
   "metadata": {},
   "outputs": [
    {
     "data": {
      "text/plain": [
       "tensor([[24, 24, 24, 24, 24, 24, 24, 24, 24, 24, 24, 24],\n",
       "        [24, 24, 24, 24, 24, 24, 24, 24, 24, 24, 24, 24]])"
      ]
     },
     "execution_count": 39,
     "metadata": {},
     "output_type": "execute_result"
    }
   ],
   "source": [
    "x.sum(2).sum(1)"
   ]
  },
  {
   "cell_type": "code",
   "execution_count": null,
   "metadata": {},
   "outputs": [],
   "source": []
  }
 ],
 "metadata": {
  "kernelspec": {
   "display_name": "torch",
   "language": "python",
   "name": "python3"
  },
  "language_info": {
   "codemirror_mode": {
    "name": "ipython",
    "version": 3
   },
   "file_extension": ".py",
   "mimetype": "text/x-python",
   "name": "python",
   "nbconvert_exporter": "python",
   "pygments_lexer": "ipython3",
   "version": "3.8.2 (default, Mar 26 2020, 10:43:30) \n[Clang 4.0.1 (tags/RELEASE_401/final)]"
  },
  "vscode": {
   "interpreter": {
    "hash": "c7f8e00f851a7185e5345342178c14041451eaa6562c62790473e641b6de40ed"
   }
  }
 },
 "nbformat": 4,
 "nbformat_minor": 2
}
