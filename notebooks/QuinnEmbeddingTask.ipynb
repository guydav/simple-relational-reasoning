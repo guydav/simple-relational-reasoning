{
 "cells": [
  {
   "cell_type": "code",
   "execution_count": 1,
   "metadata": {},
   "outputs": [],
   "source": [
    "%load_ext autoreload\n",
    "%autoreload 2\n",
    "%matplotlib inline"
   ]
  },
  {
   "cell_type": "code",
   "execution_count": 2,
   "metadata": {},
   "outputs": [],
   "source": [
    "import os\n",
    "import sys\n",
    "sys.path.append(os.path.abspath('.'))\n",
    "sys.path.append(os.path.abspath('..'))\n",
    "sys.path.append(os.path.abspath('../run'))\n",
    "import random\n",
    "from collections import defaultdict, namedtuple\n",
    "import itertools\n",
    "from abc import abstractmethod\n",
    "from functools import lru_cache\n",
    "\n",
    "import numpy as np\n",
    "import matplotlib\n",
    "from matplotlib import colors\n",
    "import matplotlib.pyplot as plt\n",
    "import matplotlib.patches as mpatches\n",
    "from matplotlib.collections import PatchCollection\n",
    "from matplotlib.figure import Figure\n",
    "from matplotlib.backends.backend_agg import FigureCanvas\n",
    "import colorcet as cc\n",
    "import cv2\n",
    "\n",
    "from IPython.display import display, Markdown, Latex\n",
    "\n",
    "import torch\n",
    "from torch import nn\n",
    "import torch.nn.functional as F\n",
    "import torchvision\n",
    "import torchvision.models as models\n",
    "import torchvision.transforms as transforms\n",
    "from torch.utils.data import TensorDataset, DataLoader\n",
    "\n",
    "from MulticoreTSNE import MulticoreTSNE as TSNE\n",
    "from sklearn.decomposition import PCA\n",
    "from tqdm.notebook import tqdm\n",
    "import tabulate\n",
    "\n",
    "from quinn_embedding_stimuli import *\n",
    "from quinn_embedding_models import *"
   ]
  },
  {
   "cell_type": "code",
   "execution_count": 3,
   "metadata": {},
   "outputs": [],
   "source": [
    "RANDOM_SEED = 33\n",
    "torch.manual_seed(RANDOM_SEED)\n",
    "if torch.cuda.is_available():\n",
    "    device = torch.device('cuda:0')\n",
    "else:\n",
    "    device = 'cpu'"
   ]
  },
  {
   "cell_type": "code",
   "execution_count": 177,
   "metadata": {},
   "outputs": [],
   "source": [
    "FIGURE_TEMPLATE = r'''\\begin{{figure}}[!htb]\n",
    "% \\vspace{{-0.225in}}\n",
    "\\centering\n",
    "\\includegraphics[width=\\linewidth]{{figures/{save_path}}}\n",
    "\\caption{{ {{\\bf FIGURE TITLE.}} FIGURE DESCRIPTION.}}\n",
    "\\label{{fig:{label_name}}}\n",
    "% \\vspace{{-0.2in}}\n",
    "\\end{{figure}}\n",
    "'''\n",
    "WRAPFIGURE_TEMPLATE = r'''\\begin{{wrapfigure}}{{r}}{{0.5\\linewidth}}\n",
    "\\vspace{{-.3in}}\n",
    "\\begin{{spacing}}{{1.0}}\n",
    "\\centering\n",
    "\\includegraphics[width=0.95\\linewidth]{{figures/{save_path}}}\n",
    "\\caption{{ {{\\bf FIGURE TITLE.}} FIGURE DESCRIPTION.}}\n",
    "\\label{{fig:{label_name}}}\n",
    "\\end{{spacing}}\n",
    "% \\vspace{{-.25in}}\n",
    "\\end{{wrapfigure}}'''\n",
    "\n",
    "SAVE_PATH_PREFIX = 'figures'\n",
    "\n",
    "\n",
    "def save_plot(save_path, bbox_inches='tight', should_print=False):\n",
    "    if save_path is not None:\n",
    "        save_path_no_ext = os.path.splitext(save_path)[0]\n",
    "        if should_print:\n",
    "            print('Figure:\\n')\n",
    "            print(FIGURE_TEMPLATE.format(save_path=save_path, label_name=save_path_no_ext.replace('/', '-').replace('_', '-')))\n",
    "            print('\\nWrapfigure:\\n')\n",
    "            print(WRAPFIGURE_TEMPLATE.format(save_path=save_path, label_name=save_path_no_ext.replace('/', '-').replace('_', '-')))\n",
    "            print('')\n",
    "        \n",
    "        if not save_path.startswith(SAVE_PATH_PREFIX):\n",
    "            save_path = os.path.join(SAVE_PATH_PREFIX, save_path)\n",
    "        \n",
    "        folder, filename = os.path.split(save_path)\n",
    "        os.makedirs(folder, exist_ok=True)\n",
    "        plt.savefig(save_path, bbox_inches=bbox_inches, facecolor=plt.gcf().get_facecolor(), edgecolor='none')"
   ]
  },
  {
   "cell_type": "markdown",
   "metadata": {},
   "source": [
    "## Object generator and sample"
   ]
  },
  {
   "cell_type": "code",
   "execution_count": 41,
   "metadata": {},
   "outputs": [],
   "source": [
    "def plot_generator_examples(generator):\n",
    "    plt.figure(figsize=(generator.n_target_types * 2.5, 3))\n",
    "\n",
    "    for i in range(generator.n_target_types):\n",
    "        x = generator.generate((30, 30 + (i * 30)), reference_positions, target_index=i)\n",
    "        ax = plt.subplot(1, generator.n_target_types, i +1)\n",
    "        ax.imshow(x.permute(1, 2, 0).numpy())\n",
    "\n",
    "\n",
    "    plt.show()"
   ]
  },
  {
   "cell_type": "code",
   "execution_count": 46,
   "metadata": {},
   "outputs": [
    {
     "data": {
      "image/png": "[encoded data removed]",
      "text/plain": [
       "<Figure size 540x216 with 3 Axes>"
      ]
     },
     "metadata": {
      "needs_background": "light"
     },
     "output_type": "display_data"
    }
   ],
   "source": [
    "target_size = 15\n",
    "reference_size = (10, 100)\n",
    "reference_positions = [(105, 100)]\n",
    "\n",
    "blue_target_patch = matplotlib.patches.Circle((0, 0), target_size // 2, color='blue')\n",
    "red_target_patch = matplotlib.patches.Circle((0, 0), target_size // 2, color='red')\n",
    "green_target_patch = matplotlib.patches.Circle((0, 0), target_size // 2, color='green')\n",
    "reference_patch = matplotlib.patches.Ellipse((0, 0), width=reference_size[1], \n",
    "                                             height=reference_size[0], color='black')\n",
    "\n",
    "blur_func = lambda x: cv2.blur(x, (5, 5))\n",
    "\n",
    "# gen = NaiveStimulusGenerator(target_size, refernce_size, target_color='black', dtype=torch.float32)\n",
    "gen = PatchStimulusGenerator(target_size, reference_size, [blue_target_patch, red_target_patch, green_target_patch], \n",
    "                             reference_patch, blur_func=blur_func)\n",
    "\n",
    "plot_generator_examples(gen)"
   ]
  },
  {
   "cell_type": "code",
   "execution_count": 47,
   "metadata": {},
   "outputs": [
    {
     "data": {
      "image/png": "[encoded data removed]",
      "text/plain": [
       "<Figure size 180x216 with 1 Axes>"
      ]
     },
     "metadata": {
      "needs_background": "light"
     },
     "output_type": "display_data"
    }
   ],
   "source": [
    "target_patch = matplotlib.patches.Circle((0, 0), target_size // 2, color='black')\n",
    "reference_patch = matplotlib.patches.Ellipse((0, 0), width=reference_size[1], \n",
    "                                             height=reference_size[0], color='black')\n",
    "\n",
    "blur_func = lambda x: cv2.blur(x, (5, 5))\n",
    "\n",
    "# gen = NaiveStimulusGenerator(target_size, refernce_size, target_color='black', dtype=torch.float32)\n",
    "same_color_gen = PatchStimulusGenerator(target_size, reference_size, [target_patch], \n",
    "                                        reference_patch, blur_func=blur_func)\n",
    "\n",
    "plot_generator_examples(same_color_gen)"
   ]
  },
  {
   "cell_type": "code",
   "execution_count": 48,
   "metadata": {},
   "outputs": [
    {
     "data": {
      "image/png": "[encoded data removed]",
      "text/plain": [
       "<Figure size 540x216 with 3 Axes>"
      ]
     },
     "metadata": {
      "needs_background": "light"
     },
     "output_type": "display_data"
    }
   ],
   "source": [
    "target_size = 15\n",
    "reference_size = (10, 100)\n",
    "reference_positions = [(105, 100)]\n",
    "\n",
    "circle_patch = matplotlib.patches.Circle((0, 0), target_size // 2, color='black')\n",
    "square_patch = matplotlib.patches.Rectangle((-target_size // 2, -target_size // 2), target_size, target_size, color='black')\n",
    "triangle_patch = matplotlib.patches.RegularPolygon((0, 0), 3, target_size // 2, color='black')\n",
    "reference_patch = matplotlib.patches.Ellipse((0, 0), width=reference_size[1], \n",
    "                                             height=reference_size[0], color='black')\n",
    "\n",
    "blur_func = lambda x: cv2.blur(x, (5, 5))\n",
    "\n",
    "# gen = NaiveStimulusGenerator(target_size, refernce_size, target_color='black', dtype=torch.float32)\n",
    "different_shapes_gen = PatchStimulusGenerator(target_size, reference_size, \n",
    "                                              [circle_patch, square_patch, triangle_patch], \n",
    "                                              reference_patch, blur_func=blur_func)\n",
    "\n",
    "plot_generator_examples(different_shapes_gen)"
   ]
  },
  {
   "cell_type": "code",
   "execution_count": 45,
   "metadata": {},
   "outputs": [
    {
     "data": {
      "image/png": "[encoded data removed]",
      "text/plain": [
       "<Figure size 540x216 with 3 Axes>"
      ]
     },
     "metadata": {
      "needs_background": "light"
     },
     "output_type": "display_data"
    }
   ],
   "source": [
    "target_size = 15\n",
    "reference_box_size = 10\n",
    "total_reference_size = (10, 120)\n",
    "reference_positions = [(105, 100)]\n",
    "\n",
    "circle_patch = matplotlib.patches.Circle((0, 0), target_size // 2, color='black')\n",
    "square_patch = matplotlib.patches.Rectangle((-target_size // 2, -target_size // 2), target_size, target_size, color='black')\n",
    "triangle_patch = matplotlib.patches.RegularPolygon((0, 0), 3, target_size // 2, color='black')\n",
    "\n",
    "reference_patches = [matplotlib.patches.Rectangle(((-reference_box_size // 2) + (reference_box_size * 2 * i), \n",
    "                                                   (-reference_box_size // 2)), \n",
    "                                                  reference_box_size, reference_box_size, color='black')\n",
    "                    for i in range(8)]\n",
    "\n",
    "\n",
    "blur_func = lambda x: cv2.blur(x, (5, 5))\n",
    "\n",
    "# gen = NaiveStimulusGenerator(target_size, refernce_size, target_color='black', dtype=torch.float32)\n",
    "split_reference_gen = PatchStimulusGenerator(target_size, total_reference_size, \n",
    "                                              [circle_patch, square_patch, triangle_patch], \n",
    "                                              reference_patches, blur_func=blur_func,\n",
    "                                              reference_patch_kwargs=dict(ylim=(-70, 70)))\n",
    "\n",
    "plot_generator_examples(split_reference_gen)"
   ]
  },
  {
   "cell_type": "code",
   "execution_count": 52,
   "metadata": {},
   "outputs": [
    {
     "data": {
      "image/png": "[encoded data removed]",
      "text/plain": [
       "<Figure size 900x216 with 5 Axes>"
      ]
     },
     "metadata": {
      "needs_background": "light"
     },
     "output_type": "display_data"
    }
   ],
   "source": [
    "target_size = (15, 15)\n",
    "reference_box_size = 10\n",
    "total_reference_size = (10, 140)\n",
    "reference_positions = [(105, 100)]\n",
    "\n",
    "triangle_patch = matplotlib.patches.RegularPolygon((0, 0), 3, target_size[0] // 2, color='black')\n",
    "\n",
    "reference_patches = [matplotlib.patches.Rectangle(((-reference_box_size // 2) + (reference_box_size * 2 * i), \n",
    "                                                   (-reference_box_size // 2)), \n",
    "                                                  reference_box_size, reference_box_size, color='black')\n",
    "                    for i in range(8)]\n",
    "\n",
    "\n",
    "blur_func = lambda x: cv2.blur(x, (5, 5))\n",
    "\n",
    "# gen = NaiveStimulusGenerator(target_size, refernce_size, target_color='black', dtype=torch.float32)\n",
    "split_reference_text_gen = PatchStimulusGenerator(target_size, total_reference_size, \n",
    "                                              ['E', '$+$', triangle_patch, 's', '$\\\\to$'], \n",
    "                                              reference_patches, # blur_func=blur_func,\n",
    "                                              reference_patch_kwargs=dict(ylim=(-70, 70)))\n",
    "\n",
    "plot_generator_examples(split_reference_text_gen)"
   ]
  },
  {
   "cell_type": "markdown",
   "metadata": {},
   "source": [
    "## Triplet generators"
   ]
  },
  {
   "cell_type": "code",
   "execution_count": 50,
   "metadata": {},
   "outputs": [],
   "source": [
    "TRIPLET_CACHE_SIZE = 16\n",
    "\n",
    "class TripletGenerator:\n",
    "    def __init__(self, stimulus_generator, \n",
    "                 two_reference_objects=False, two_targets_between=True, n_target_types=1,\n",
    "                 transpose=False, vertical_margin=0, horizontal_margin=0, seed=RANDOM_SEED, use_tqdm=False):\n",
    "        self.stimulus_generator = stimulus_generator\n",
    "        self.two_reference_objects = two_reference_objects\n",
    "        self.two_targets_between = two_targets_between\n",
    "        self.n_target_types = n_target_types\n",
    "        \n",
    "        if n_target_types > self.stimulus_generator.n_target_types:\n",
    "            raise ValueError(f'Expected n_target_types={n_target_types} <= self.stimulus_generator.n_targets={self.stimulus_generator.n_targets}')\n",
    "        \n",
    "        self.transpose = transpose\n",
    "        self.vertical_margin = vertical_margin\n",
    "        self.horizontal_margin = horizontal_margin\n",
    "        self.seed = seed\n",
    "        self.rng = np.random.default_rng(self.seed)\n",
    "        self.use_tqdm = use_tqdm\n",
    "        \n",
    "    @lru_cache(maxsize=TRIPLET_CACHE_SIZE)\n",
    "    def __call__(self, n=1, normalize=True, seed=None):\n",
    "        if seed is None:\n",
    "            seed = self.seed\n",
    "            \n",
    "        self.rng = np.random.default_rng(self.seed)\n",
    "        n_iter = range(n)\n",
    "        if self.use_tqdm:\n",
    "            n_iter = tqdm(range(n), desc='Data Generation')\n",
    "        \n",
    "        results = [self.generate_single_triplet(normalize=normalize)for _ in n_iter]   \n",
    "        result_tensor = torch.stack(results)\n",
    "        \n",
    "        if self.transpose:\n",
    "            return result_tensor.permute(0, 1, 2, 4, 3)\n",
    "        \n",
    "        return result_tensor\n",
    "    \n",
    "    @abstractmethod\n",
    "    def generate_single_triplet(self, normalize=True):\n",
    "        pass\n",
    "    \n",
    "\n",
    "class EquilateralTripletGenerator(TripletGenerator):\n",
    "    def __init__(self, stimulus_generator, side_length_endpoints, \n",
    "                 target_margin_from_reference_edge=0, pair_above=None,\n",
    "                 two_reference_objects=False, two_targets_between=True, \n",
    "                 n_target_types=1, transpose=False, \n",
    "                 vertical_margin=0, horizontal_margin=0, \n",
    "                 seed=RANDOM_SEED, use_tqdm=False):\n",
    "        super(EquilateralTripletGenerator, self).__init__(\n",
    "            stimulus_generator=stimulus_generator, \n",
    "            two_reference_objects=two_reference_objects,\n",
    "            two_targets_between=two_targets_between, n_target_types=n_target_types,\n",
    "            transpose=transpose, vertical_margin=vertical_margin,\n",
    "            horizontal_margin=horizontal_margin, seed=seed, use_tqdm=use_tqdm)\n",
    "        \n",
    "        if not hasattr(side_length_endpoints, '__len__'):\n",
    "            side_length_endpoints = (side_length_endpoints, side_length_endpoints)\n",
    "            \n",
    "        self.side_length_endpoints = side_length_endpoints\n",
    "        self.target_margin_from_reference_edge = target_margin_from_reference_edge\n",
    "        self.pair_above = pair_above\n",
    "        \n",
    "    def generate_single_triplet(self, normalize=True):\n",
    "        side_length = self.rng.integers(*self.side_length_endpoints)\n",
    "        height = (3 ** 0.5) * side_length / 2\n",
    "        half_height = height // 2\n",
    "        if self.two_reference_objects:\n",
    "            min_vertical_margin = height + (self.stimulus_generator.reference_size[0] // 2) + 1\n",
    "        else:\n",
    "            min_vertical_margin = half_height + (self.stimulus_generator.target_size[0] // 2) + 1\n",
    "\n",
    "        vertical_margin = max(min_vertical_margin, self.vertical_margin)\n",
    "        horizontal_margin = max(self.stimulus_generator.reference_size[1] // 2 + 1, self.horizontal_margin)\n",
    "\n",
    "        reference_center_position = np.array(\n",
    "            (self.rng.integers(vertical_margin, self.stimulus_generator.canvas_size[0] - vertical_margin),\n",
    "             self.rng.integers(horizontal_margin, self.stimulus_generator.canvas_size[1] - horizontal_margin)), \n",
    "            dtype=np.int)\n",
    "\n",
    "        target_margin = (self.stimulus_generator.reference_size[1] - self.stimulus_generator.target_size[1]) // 2\n",
    "        left_target_horizontal_offset = self.rng.integers(-target_margin, target_margin - side_length)\n",
    "        middle_target_horizontal_offset = left_target_horizontal_offset + side_length // 2\n",
    "        right_target_horizontal_offset = left_target_horizontal_offset + side_length\n",
    "\n",
    "        if self.pair_above is None:\n",
    "            pair_above = np.sign(self.rng.uniform(-0.5, 0.5))\n",
    "        else:\n",
    "            pair_above = self.pair_above and 1 or -1\n",
    "\n",
    "        left_target_offset = np.array((pair_above * half_height, left_target_horizontal_offset), dtype=np.int)\n",
    "        middle_target_offset = np.array((-1 * pair_above * half_height, middle_target_horizontal_offset), dtype=np.int)\n",
    "        right_target_offset = np.array((pair_above * half_height, right_target_horizontal_offset), dtype=np.int)\n",
    "\n",
    "        target_positions = [tuple(reference_center_position + offset) for offset in \n",
    "                            (left_target_offset, right_target_offset, middle_target_offset)]\n",
    "\n",
    "        if self.two_reference_objects:\n",
    "            second_reference_center = np.copy(reference_center_position)\n",
    "            two_targets_between = self.two_targets_between and 1 or -1\n",
    "            second_reference_vertical_direction = pair_above * two_targets_between\n",
    "            second_reference_center[0] += second_reference_vertical_direction * height\n",
    "            reference_center_position = [reference_center_position, second_reference_center]\n",
    "            \n",
    "        if self.n_target_types == 1:\n",
    "            target_indices = (self.rng.integers(0, self.stimulus_generator.n_target_types), ) * 3\n",
    "        if self.n_target_types == 2:\n",
    "            pair_color = self.rng.uniform() > 0.5\n",
    "            single_color = 1 - pair_color\n",
    "            if self.rng.uniform() > 0.5:\n",
    "                target_indices = (pair_color, single_color, pair_color)\n",
    "            else:\n",
    "                target_indices = (single_color, pair_color, pair_color)\n",
    "        elif self.n_target_types == 3:\n",
    "            target_indices = [0, 1, 2]\n",
    "            self.rng.shuffle(target_indices)\n",
    "            target_indices = tuple(target_indices)\n",
    "            \n",
    "#         if second_reference_center[0] <= (self.stimulus_generator.reference_size[0] // 2) or \\\n",
    "#             second_reference_center[0] >= (223 - (self.stimulus_generator.reference_size[0] // 2)) or \\\n",
    "#             second_reference_center[1] <= (self.stimulus_generator.reference_size[1] // 2) or \\\n",
    "#             second_reference_center[0] >= (223 - (self.stimulus_generator.reference_size[0] // 2)):\n",
    "            \n",
    "#             print(reference_center_position)\n",
    "#             print(side_length, height, half_height, horizontal_margin, vertical_margin)\n",
    "        \n",
    "        return self.stimulus_generator.batch_generate(target_positions, reference_center_position, target_indices, normalize=normalize)\n",
    "    \n",
    "    \n",
    "class QuinnTripletGenerator(TripletGenerator):\n",
    "    def __init__(self, stimulus_generator, distance_endpoints, \n",
    "                 target_margin_from_reference_edge=0, pair_above=None, two_objects_left=None,\n",
    "                 two_reference_objects=False, two_targets_between=True, \n",
    "                 n_target_types=1, transpose=False,\n",
    "                 vertical_margin=0, horizontal_margin=0,\n",
    "                 seed=RANDOM_SEED, use_tqdm=False):\n",
    "        super(QuinnTripletGenerator, self).__init__(\n",
    "            stimulus_generator=stimulus_generator, \n",
    "            two_reference_objects=two_reference_objects,\n",
    "            two_targets_between=two_targets_between, n_target_types=n_target_types,\n",
    "            transpose=transpose, vertical_margin=vertical_margin, \n",
    "            horizontal_margin=horizontal_margin, seed=seed, use_tqdm=use_tqdm)\n",
    "        \n",
    "        if not hasattr(distance_endpoints, '__len__'):\n",
    "            distance_endpoints = (distance_endpoints, distance_endpoints)\n",
    "            \n",
    "        self.distance_endpoints = distance_endpoints        \n",
    "        self.target_margin_from_reference_edge = target_margin_from_reference_edge\n",
    "        self.pair_above = pair_above\n",
    "        self.two_objects_left = two_objects_left\n",
    "    \n",
    "    def generate_single_triplet(self, normalize=True):\n",
    "        distance = self.rng.integers(*self.distance_endpoints)\n",
    "        half_distance = distance // 2\n",
    "        if self.two_reference_objects:\n",
    "            min_vertical_margin = distance + (self.stimulus_generator.reference_size[0] // 2) + 1\n",
    "        else:\n",
    "            min_vertical_margin = half_distance + (self.stimulus_generator.target_size[0] // 2) + 1\n",
    "\n",
    "        vertical_margin = max(min_vertical_margin, self.vertical_margin)\n",
    "        horizontal_margin = max(self.stimulus_generator.reference_size[1] // 2 + 1, self.horizontal_margin)\n",
    "\n",
    "        reference_center_position = np.array(\n",
    "            (self.rng.integers(vertical_margin, self.stimulus_generator.canvas_size[0] - vertical_margin),\n",
    "             self.rng.integers(horizontal_margin, self.stimulus_generator.canvas_size[1] - horizontal_margin)), \n",
    "            dtype=np.int)\n",
    "\n",
    "        target_margin = (self.stimulus_generator.reference_size[1] - self.stimulus_generator.target_size[1]) // 2\n",
    "        left_target_horizontal_offset = self.rng.integers(-target_margin, target_margin - distance)\n",
    "        right_target_horizontal_offset = left_target_horizontal_offset + distance\n",
    "\n",
    "        if self.pair_above is None:\n",
    "            pair_above = np.sign(self.rng.uniform(-0.5, 0.5))\n",
    "        else:\n",
    "            pair_above = self.pair_above and 1 or -1\n",
    "\n",
    "        two_objects_left = self.two_objects_left\n",
    "        if two_objects_left is None:\n",
    "            two_objects_left = self.rng.uniform() > 0.5\n",
    "\n",
    "        left_target_offset = np.array((pair_above * half_distance, left_target_horizontal_offset), dtype=np.int)\n",
    "        right_target_offset = np.array((pair_above * half_distance, right_target_horizontal_offset), dtype=np.int)\n",
    "        other_side_target_offset = np.array((-pair_above * half_distance, two_objects_left and left_target_horizontal_offset or right_target_horizontal_offset), dtype=np.int)\n",
    "\n",
    "        if two_objects_left:\n",
    "            target_offsets = (left_target_offset, right_target_offset, other_side_target_offset)\n",
    "        else: \n",
    "            target_offsets = (right_target_offset, left_target_offset, other_side_target_offset)\n",
    "            \n",
    "        target_positions = [tuple(reference_center_position + offset) for offset in target_offsets]\n",
    "\n",
    "        if self.two_reference_objects:\n",
    "            second_reference_center = np.copy(reference_center_position)\n",
    "            two_targets_between = self.two_targets_between and 1 or -1\n",
    "            second_reference_vertical_direction = pair_above * two_targets_between\n",
    "            second_reference_center[0] += second_reference_vertical_direction * distance\n",
    "            reference_center_position = [reference_center_position, second_reference_center]\n",
    "            \n",
    "        if self.n_target_types == 1:\n",
    "            target_indices = (self.rng.integers(0, self.stimulus_generator.n_target_types), ) * 3\n",
    "        if self.n_target_types == 2:\n",
    "            pair_color, single_color = self.rng.choice(np.arange(self.stimulus_generator.n_target_types),\n",
    "                                                       size=2, replace=False)\n",
    "#             pair_color = self.rng.uniform() > 0.5\n",
    "#             single_color = 1 - pair_color\n",
    "            target_indices = (single_color, pair_color, pair_color)\n",
    "            \n",
    "        elif self.n_target_types == 3:\n",
    "            target_indices = [0, 1, 2]\n",
    "            self.rng.shuffle(target_indices)\n",
    "            target_indices = tuple(target_indices)\n",
    "\n",
    "        return self.stimulus_generator.batch_generate(target_positions, reference_center_position, target_indices, normalize=normalize)\n"
   ]
  },
  {
   "cell_type": "code",
   "execution_count": 51,
   "metadata": {},
   "outputs": [
    {
     "data": {
      "image/png": "[encoded data removed]",
      "text/plain": [
       "<Figure size 504x1080 with 15 Axes>"
      ]
     },
     "metadata": {
      "needs_background": "light"
     },
     "output_type": "display_data"
    }
   ],
   "source": [
    "N = 5\n",
    "\n",
    "above_below_quinn_gen = QuinnTripletGenerator(gen, (30, 70), two_reference_objects=True, n_target_types=2)\n",
    "results = above_below_quinn_gen(N, normalize=False)\n",
    "plt.figure(figsize=(7, 3 * N))\n",
    "\n",
    "for row in range(N):\n",
    "    for col in range(3):\n",
    "        ax = plt.subplot(N, 3, (3 * row) + col + 1)\n",
    "        ax.imshow(results[row, col].permute(1, 2, 0).numpy())\n",
    "\n",
    "plt.show()\n"
   ]
  },
  {
   "cell_type": "code",
   "execution_count": 153,
   "metadata": {},
   "outputs": [
    {
     "data": {
      "image/png": "[encoded data removed]",
      "text/plain": [
       "<Figure size 504x1080 with 15 Axes>"
      ]
     },
     "metadata": {
      "needs_background": "light"
     },
     "output_type": "display_data"
    }
   ],
   "source": [
    "N = 5\n",
    "\n",
    "above_below_quinn_gen = QuinnTripletGenerator(split_reference_text_gen, (30, 70), \n",
    "                                              two_reference_objects=False, \n",
    "                                              n_target_types=2, transpose=True)\n",
    "results = above_below_quinn_gen(N, normalize=False)\n",
    "plt.figure(figsize=(7, 3 * N))\n",
    "\n",
    "for row in range(N):\n",
    "    for col in range(3):\n",
    "        ax = plt.subplot(N, 3, (3 * row) + col + 1)\n",
    "        ax.imshow(results[row, col].permute(1, 2, 0).numpy())\n",
    "\n",
    "plt.show()\n"
   ]
  },
  {
   "cell_type": "markdown",
   "metadata": {},
   "source": [
    "## Metric functions"
   ]
  },
  {
   "cell_type": "code",
   "execution_count": 54,
   "metadata": {},
   "outputs": [],
   "source": [
    "class Metric:\n",
    "    def __init__(self, name, correct_index=0):\n",
    "        self.name = name\n",
    "        self.correct_index = correct_index\n",
    "        \n",
    "    @abstractmethod\n",
    "    def __call__(self, pairwise_cosines):\n",
    "        pass\n",
    "    \n",
    "    def aggregate(self, result_list):\n",
    "        if isinstance(result_list[0], torch.Tensor):\n",
    "            return torch.cat(result_list).detach().cpu().numpy()\n",
    "        \n",
    "        if isinstance(result_list[0], np.ndarray):\n",
    "            return np.concatenate(result_list)\n",
    "        \n",
    "        raise ValueError(f'Can only combine lists of torch.Tensor or np.ndarray, received {type(result_list[0])}')\n",
    "\n",
    "        \n",
    "class AccuracyMetric(Metric):\n",
    "    def __init__(self, name, correct_index=0, pair_only=False, pair_comparison_index=1):\n",
    "        super(AccuracyMetric, self).__init__(name, correct_index)\n",
    "        self.pair_only = pair_only\n",
    "        self.pair_comparison_index = pair_comparison_index\n",
    "        \n",
    "    def __call__(self, pairwise_cosines):\n",
    "        if self.pair_only:\n",
    "            comp = pairwise_cosines[:, self.correct_index] > pairwise_cosines[:, self.pair_comparison_index]\n",
    "        else:\n",
    "            comp = pairwise_cosines.argmax(dim=1) == self.correct_index\n",
    "\n",
    "        return comp.to(torch.float)\n",
    "        \n",
    "        \n",
    "class DifferenceMetric(Metric):\n",
    "    def __init__(self, name, correct_index=0, combine_func=torch.mean,\n",
    "                 combine_func_kwargs=dict(dim=1)):\n",
    "        super(DifferenceMetric, self).__init__(name, correct_index)\n",
    "        self.combine_func = combine_func\n",
    "        self.incorrect_indices = list(range(3))\n",
    "        self.incorrect_indices.remove(correct_index)\n",
    "        self.combine_func_kwargs = combine_func_kwargs\n",
    "        \n",
    "    def __call__(self, pairwise_cosines):\n",
    "        return pairwise_cosines[:, self.correct_index] - self.combine_func(pairwise_cosines[:, self.incorrect_indices], **self.combine_func_kwargs)\n",
    "    \n",
    "    \n",
    "class PairDifferenceMetric(Metric):\n",
    "    def __init__(self, name, correct_index=0, pair_comparison_index=1):\n",
    "        super(PairDifferenceMetric, self).__init__(name, correct_index)\n",
    "        self.pair_comparison_index = pair_comparison_index\n",
    "        \n",
    "    def __call__(self, pairwise_cosines):\n",
    "        return pairwise_cosines[:, self.correct_index] - pairwise_cosines[:, self.pair_comparison_index]\n",
    "    \n",
    "    \n",
    "METRICS = (AccuracyMetric('Accuracy', pair_only=True), \n",
    "#            AccuracyMetric('Accuracy(Triplet)'),\n",
    "           PairDifferenceMetric('Difference'),\n",
    "#            DifferenceMetric('MeanDiff'),\n",
    "#            DifferenceMetric('MaxDiff', combine_func=lambda x: torch.max(x, dim=1).values, combine_func_kwargs={})\n",
    "          )"
   ]
  },
  {
   "cell_type": "markdown",
   "metadata": {},
   "source": [
    "## Actual task implementation"
   ]
  },
  {
   "cell_type": "code",
   "execution_count": 55,
   "metadata": {},
   "outputs": [],
   "source": [
    "TaskResults = namedtuple('TaskResults', ('mean', 'std', 'n'))\n",
    "\n",
    "BATCH_SIZE = 64\n",
    "\n",
    "def quinn_embedding_task_single_generator(\n",
    "    model, triplet_generator, metrics=METRICS, N=1024, batch_size=BATCH_SIZE, use_tqdm=False):\n",
    "    \n",
    "    data = triplet_generator(N)\n",
    "    B = batch_size\n",
    "    dataloader = DataLoader(TensorDataset(data), batch_size=batch_size, shuffle=False)\n",
    "    \n",
    "    model_results = defaultdict(list)\n",
    "    cos = nn.CosineSimilarity(dim=-1)\n",
    "    triangle_indices = np.triu_indices(3, 1)\n",
    "    \n",
    "    model.eval()\n",
    "    \n",
    "    data_iter = dataloader\n",
    "    if use_tqdm:\n",
    "        data_iter = tqdm(dataloader, desc='Batches')\n",
    "        \n",
    "    for b in data_iter:\n",
    "        x = b[0]  # shape (B, 3, 3, 224, 224)\n",
    "        x = x.view(-1, *x.shape[2:])\n",
    "        e = model(x.to(device)).detach().cpu()\n",
    "        e = e.view(B, 3, -1)  # shape (B, 3, Z)\n",
    "\n",
    "        embedding_pairwise_cosine = cos(e[:, :, None, :], e[:, None, :, :])  # shape (B, 3, 3)\n",
    "        triplet_cosines = embedding_pairwise_cosine[:, triangle_indices[0], triangle_indices[1]] # shape (B, 3)\n",
    "\n",
    "        for metric in metrics:\n",
    "            model_results[metric.name].append(metric(triplet_cosines))\n",
    "\n",
    "    for metric in metrics:\n",
    "        model_results[metric.name] = metric.aggregate(model_results[metric.name])\n",
    "\n",
    "    return model_results\n",
    "\n",
    "def quinn_embedding_task_multiple_generators(\n",
    "    model_name, model, condition_names, triplet_generators, \n",
    "    metrics=METRICS, N=1024, batch_size=BATCH_SIZE):\n",
    "    \n",
    "    headers = ['ConditionNames'] + [metric.name for metric in metrics]\n",
    "    all_results = {}\n",
    "    for name, triplet_gen in zip(condition_names, triplet_generators):\n",
    "        results = quinn_embedding_task_single_generator(model, triplet_gen, metrics=metrics,\n",
    "                                                        N=N, batch_size=batch_size)\n",
    "        all_results[name] = {metric.name: TaskResults(np.mean(results[metric.name]), \n",
    "                                                      np.std(results[metric.name]), N) \n",
    "                             for metric in metrics}\n",
    "    return all_results\n",
    "    "
   ]
  },
  {
   "cell_type": "code",
   "execution_count": 116,
   "metadata": {},
   "outputs": [],
   "source": [
    "def run_multiple_models_multiple_generators(model_names, model_kwarg_dicts, \n",
    "                                            condition_names, condition_generators, N):\n",
    "    all_model_results = {}\n",
    "    \n",
    "    for name, model_kwargs in zip (model_names, model_kwarg_dicts):\n",
    "        print(f'Starting model {name}')\n",
    "        model = build_model(**model_kwargs)\n",
    "\n",
    "        all_model_results[name] = quinn_embedding_task_multiple_generators(\n",
    "            name, model, condition_names, condition_generators, N=N)\n",
    "\n",
    "        del model\n",
    "        \n",
    "    return all_model_results\n",
    "\n",
    "\n",
    "def format_results(task_results, print_std=True):\n",
    "    if print_std:\n",
    "        return f'${task_results.mean:.4f} \\\\pm {task_results.std / (task_results.n ** 0.5):.4f}$'\n",
    "    else:\n",
    "        return f'${task_results.mean:.4f}$'\n",
    "\n",
    "\n",
    "def format_replication_results(task_result_lists, print_std=True):\n",
    "    result_means = np.array([tr.mean for tr in task_result_lists])\n",
    "    if print_std:\n",
    "        return f'${result_means.mean():.4f} \\\\pm {result_means.std() / (len(result_means) ** 0.5):.4f}$'\n",
    "    else:\n",
    "        return f'${result_means.mean():.4f}$'\n",
    "\n",
    "def display_multiple_model_results_single_type(group_name, results, tablefmt='github'):\n",
    "    display(Markdown(f'## {group_name} Results'))\n",
    "        \n",
    "    metric_names = tuple(next(iter(next(iter(results.values())).values())).keys())\n",
    "    headers = ['Model'] + [name + '&nbsp; ' * 12 for name in metric_names]\n",
    "    \n",
    "    for key in next(iter(results.values())).keys():\n",
    "        display(Markdown(f'### {key}'))\n",
    "        rows = []\n",
    "        for model_name, model_results in results.items():\n",
    "            rows.append([model_name] + [format_results(model_results[key][metric_name])\n",
    "                                                  for metric_name in metric_names])\n",
    "\n",
    "        display(Markdown(tabulate.tabulate(rows, headers, tablefmt=tablefmt)))\n",
    "\n",
    "\n",
    "def display_multiple_model_results_multiple_types(group_name, results, tablefmt='github'):\n",
    "    display(Markdown(f'## {group_name} Results'))\n",
    "        \n",
    "    key_groups = set([key[:-8] for key in next(iter(results.values())).keys()])\n",
    "    metric_names = tuple(next(iter(next(iter(results.values())).values())).keys())\n",
    "    headers = ['# Target Types', 'Model'] + [name + '&nbsp; ' * 12 for name in metric_names]\n",
    "    \n",
    "    for key_group in key_groups:\n",
    "        display(Markdown(f'### {key_group}'))\n",
    "        \n",
    "        rows = []\n",
    "        \n",
    "        for n_types in range(1, 4):\n",
    "            key = f'{key_group}-{n_types}-types'\n",
    "            for model_name, model_results in results.items():\n",
    "                rows.append([n_types, model_name] + [format_results(model_results[key][metric_name])\n",
    "                                                      for metric_name in metric_names])\n",
    "                \n",
    "        display(Markdown(tabulate.tabulate(rows, headers, tablefmt=tablefmt)))\n",
    "\n",
    "        \n",
    "def display_multiple_model_results_multiple_types_replications(group_name, result_replications, tablefmt='github'):\n",
    "    display(Markdown(f'## {group_name} Results'))\n",
    "    \n",
    "    ex_results = result_replications[0]\n",
    "    key_groups = set([key[:-8] for key in next(iter(ex_results.values())).keys()])\n",
    "    metric_names = tuple(next(iter(next(iter(ex_results.values())).values())).keys())\n",
    "    headers = ['# Target Types', 'Model'] + [name + '&nbsp; ' * 12 for name in metric_names]\n",
    "    \n",
    "    for key_group in key_groups:\n",
    "        display(Markdown(f'### {key_group}'))\n",
    "        \n",
    "        rows = []\n",
    "        \n",
    "        for n_types in range(1, 4):\n",
    "            key = f'{key_group}-{n_types}-types'\n",
    "            for model_name in ex_results:\n",
    "                rows.append([n_types, model_name] + \\\n",
    "                            [format_replication_results([replication[model_name][key][metric_name] \n",
    "                                                         for replication in result_replications])\n",
    "                                                      for metric_name in metric_names])\n",
    "                \n",
    "        display(Markdown(tabulate.tabulate(rows, headers, tablefmt=tablefmt)))\n",
    "        "
   ]
  },
  {
   "cell_type": "code",
   "execution_count": 57,
   "metadata": {},
   "outputs": [],
   "source": [
    "def default_name_func(generator_kwargs, base_name=''):\n",
    "    two_reference_objects = generator_kwargs['two_reference_objects']\n",
    "    transpose = generator_kwargs['transpose']\n",
    "    \n",
    "    if two_reference_objects:\n",
    "        if transpose:\n",
    "            rel_name = 'VerticalBetween'\n",
    "        else:\n",
    "            rel_name = 'Between'\n",
    "    else:\n",
    "        if transpose:\n",
    "            rel_name = 'Left/Right'\n",
    "        else:\n",
    "            rel_name = 'Above/Below'\n",
    "    \n",
    "    name = f'{base_name}{base_name and \"-\" or \"\"}{rel_name}'\n",
    "            \n",
    "    n_target_types = None\n",
    "    if 'n_target_types' in generator_kwargs:\n",
    "        n_target_types = generator_kwargs['n_target_types']\n",
    "        return name + f'-{n_target_types}-types'\n",
    "    \n",
    "    return name\n",
    "\n",
    "\n",
    "def create_generators_and_names(triplet_generator_class, stimulus_generator, kwarg_value_sets, \n",
    "                                name_func=default_name_func, name_func_kwargs=None):\n",
    "    if name_func_kwargs is None:\n",
    "        name_func_kwargs = {}\n",
    "    \n",
    "    names = []\n",
    "    triplet_generators = []\n",
    "\n",
    "    for value_set in itertools.product(*kwarg_value_sets.values()):\n",
    "        kwargs = {k: v for (k, v) in zip(kwarg_value_sets.keys(), value_set)}\n",
    "        names.append(name_func(kwargs, **name_func_kwargs))\n",
    "        triplet_generators.append(triplet_generator_class(stimulus_generator, **kwargs))\n",
    "\n",
    "    return names, triplet_generators\n",
    "    "
   ]
  },
  {
   "cell_type": "code",
   "execution_count": 58,
   "metadata": {},
   "outputs": [],
   "source": [
    "QUINN_DISTANCE_ENDPOINTS = (30, 70)\n",
    "\n",
    "quinn_default_value_sets = dict(\n",
    "    distance_endpoints=(QUINN_DISTANCE_ENDPOINTS,),\n",
    "    two_reference_objects=(False, True),\n",
    "    transpose=(False, True),\n",
    "    n_target_types=range(1, 4)\n",
    ")\n",
    "\n",
    "quinn_names, quinn_triplet_generators = create_generators_and_names(\n",
    "    QuinnTripletGenerator, gen, quinn_default_value_sets, name_func_kwargs=dict(base_name='Quinn'))"
   ]
  },
  {
   "cell_type": "code",
   "execution_count": 59,
   "metadata": {
    "scrolled": false
   },
   "outputs": [],
   "source": [
    "model_kwarg_dicts = (\n",
    "    dict(name=MOBILENET, device=device, pretrained=False, saycam='SAY'),\n",
    "    dict(name=MOBILENET, device=device, pretrained=True),\n",
    "    dict(name=MOBILENET, device=device, pretrained=False),\n",
    "    dict(name=RESNEXT, device=device, pretrained=False, saycam='SAY'),\n",
    "    dict(name=RESNEXT, device=device, pretrained=True),\n",
    "    dict(name=RESNEXT, device=device, pretrained=False),\n",
    ")\n",
    "\n",
    "model_names = [ f'{d[\"name\"]}-{\"saycam\" in d and \"saycam\" or (d[\"pretrained\"] and \"imagenet\" or \"random\")}'\n",
    "               for d in model_kwarg_dicts]\n"
   ]
  },
  {
   "cell_type": "code",
   "execution_count": 60,
   "metadata": {
    "scrolled": false
   },
   "outputs": [
    {
     "name": "stdout",
     "output_type": "stream",
     "text": [
      "Starting model mobilenet-saycam\n",
      "Starting model mobilenet-imagenet\n",
      "Starting model mobilenet-random\n",
      "Starting model resnext-saycam\n",
      "Starting model resnext-imagenet\n",
      "Starting model resnext-random\n"
     ]
    }
   ],
   "source": [
    "N = 1024\n",
    "quinn_generators_all_model_results = run_multiple_models_multiple_generators(\n",
    "    model_names, model_kwarg_dicts, quinn_names, quinn_triplet_generators, N)"
   ]
  },
  {
   "cell_type": "code",
   "execution_count": 61,
   "metadata": {
    "scrolled": false
   },
   "outputs": [
    {
     "data": {
      "text/markdown": [
       "## Quinn Results"
      ],
      "text/plain": [
       "<IPython.core.display.Markdown object>"
      ]
     },
     "metadata": {},
     "output_type": "display_data"
    },
    {
     "data": {
      "text/markdown": [
       "### Quinn-Between-sideways"
      ],
      "text/plain": [
       "<IPython.core.display.Markdown object>"
      ]
     },
     "metadata": {},
     "output_type": "display_data"
    },
    {
     "data": {
      "text/markdown": [
       "|   # Target Types | Model              | Accuracy&nbsp; &nbsp; &nbsp; &nbsp; &nbsp; &nbsp; &nbsp; &nbsp; &nbsp; &nbsp; &nbsp; &nbsp;    | Difference&nbsp; &nbsp; &nbsp; &nbsp; &nbsp; &nbsp; &nbsp; &nbsp; &nbsp; &nbsp; &nbsp; &nbsp;    |\n",
       "|------------------|--------------------|------------------------------------------------------------------------------------------------|--------------------------------------------------------------------------------------------------|\n",
       "|                1 | mobilenet-saycam   | $0.5645 \\pm 0.0155$                                                                            | $0.0010 \\pm 0.0004$                                                                              |\n",
       "|                1 | mobilenet-imagenet | $0.3936 \\pm 0.0153$                                                                            | $-0.0033 \\pm 0.0004$                                                                             |\n",
       "|                1 | mobilenet-random   | $0.3984 \\pm 0.0153$                                                                            | $-0.0000 \\pm 0.0000$                                                                             |\n",
       "|                1 | resnext-saycam     | $0.2783 \\pm 0.0140$                                                                            | $-0.0092 \\pm 0.0005$                                                                             |\n",
       "|                1 | resnext-imagenet   | $0.0938 \\pm 0.0091$                                                                            | $-0.0265 \\pm 0.0007$                                                                             |\n",
       "|                1 | resnext-random     | $0.5322 \\pm 0.0156$                                                                            | $0.0000 \\pm 0.0000$                                                                              |\n",
       "|                2 | mobilenet-saycam   | $0.6260 \\pm 0.0151$                                                                            | $0.0030 \\pm 0.0004$                                                                              |\n",
       "|                2 | mobilenet-imagenet | $0.4248 \\pm 0.0154$                                                                            | $-0.0028 \\pm 0.0006$                                                                             |\n",
       "|                2 | mobilenet-random   | $0.3955 \\pm 0.0153$                                                                            | $-0.0000 \\pm 0.0000$                                                                             |\n",
       "|                2 | resnext-saycam     | $0.2871 \\pm 0.0141$                                                                            | $-0.0092 \\pm 0.0005$                                                                             |\n",
       "|                2 | resnext-imagenet   | $0.1123 \\pm 0.0099$                                                                            | $-0.0311 \\pm 0.0008$                                                                             |\n",
       "|                2 | resnext-random     | $0.5586 \\pm 0.0155$                                                                            | $0.0000 \\pm 0.0000$                                                                              |\n",
       "|                3 | mobilenet-saycam   | $0.6270 \\pm 0.0151$                                                                            | $0.0032 \\pm 0.0004$                                                                              |\n",
       "|                3 | mobilenet-imagenet | $0.4521 \\pm 0.0156$                                                                            | $-0.0024 \\pm 0.0007$                                                                             |\n",
       "|                3 | mobilenet-random   | $0.4355 \\pm 0.0155$                                                                            | $-0.0000 \\pm 0.0000$                                                                             |\n",
       "|                3 | resnext-saycam     | $0.3223 \\pm 0.0146$                                                                            | $-0.0081 \\pm 0.0005$                                                                             |\n",
       "|                3 | resnext-imagenet   | $0.1719 \\pm 0.0118$                                                                            | $-0.0316 \\pm 0.0010$                                                                             |\n",
       "|                3 | resnext-random     | $0.5498 \\pm 0.0155$                                                                            | $0.0000 \\pm 0.0000$                                                                              |"
      ],
      "text/plain": [
       "<IPython.core.display.Markdown object>"
      ]
     },
     "metadata": {},
     "output_type": "display_data"
    },
    {
     "data": {
      "text/markdown": [
       "### Quinn-Between"
      ],
      "text/plain": [
       "<IPython.core.display.Markdown object>"
      ]
     },
     "metadata": {},
     "output_type": "display_data"
    },
    {
     "data": {
      "text/markdown": [
       "|   # Target Types | Model              | Accuracy&nbsp; &nbsp; &nbsp; &nbsp; &nbsp; &nbsp; &nbsp; &nbsp; &nbsp; &nbsp; &nbsp; &nbsp;    | Difference&nbsp; &nbsp; &nbsp; &nbsp; &nbsp; &nbsp; &nbsp; &nbsp; &nbsp; &nbsp; &nbsp; &nbsp;    |\n",
       "|------------------|--------------------|------------------------------------------------------------------------------------------------|--------------------------------------------------------------------------------------------------|\n",
       "|                1 | mobilenet-saycam   | $0.9873 \\pm 0.0035$                                                                            | $0.0305 \\pm 0.0004$                                                                              |\n",
       "|                1 | mobilenet-imagenet | $0.9004 \\pm 0.0094$                                                                            | $0.0225 \\pm 0.0006$                                                                              |\n",
       "|                1 | mobilenet-random   | $0.4512 \\pm 0.0156$                                                                            | $-0.0000 \\pm 0.0000$                                                                             |\n",
       "|                1 | resnext-saycam     | $0.9541 \\pm 0.0065$                                                                            | $0.0349 \\pm 0.0007$                                                                              |\n",
       "|                1 | resnext-imagenet   | $0.6738 \\pm 0.0147$                                                                            | $0.0068 \\pm 0.0006$                                                                              |\n",
       "|                1 | resnext-random     | $0.4980 \\pm 0.0156$                                                                            | $-0.0000 \\pm 0.0000$                                                                             |\n",
       "|                2 | mobilenet-saycam   | $0.9736 \\pm 0.0050$                                                                            | $0.0297 \\pm 0.0005$                                                                              |\n",
       "|                2 | mobilenet-imagenet | $0.8057 \\pm 0.0124$                                                                            | $0.0187 \\pm 0.0007$                                                                              |\n",
       "|                2 | mobilenet-random   | $0.4268 \\pm 0.0155$                                                                            | $-0.0000 \\pm 0.0000$                                                                             |\n",
       "|                2 | resnext-saycam     | $0.9346 \\pm 0.0077$                                                                            | $0.0333 \\pm 0.0007$                                                                              |\n",
       "|                2 | resnext-imagenet   | $0.4434 \\pm 0.0155$                                                                            | $-0.0034 \\pm 0.0010$                                                                             |\n",
       "|                2 | resnext-random     | $0.5322 \\pm 0.0156$                                                                            | $0.0000 \\pm 0.0000$                                                                              |\n",
       "|                3 | mobilenet-saycam   | $0.9775 \\pm 0.0046$                                                                            | $0.0295 \\pm 0.0005$                                                                              |\n",
       "|                3 | mobilenet-imagenet | $0.7734 \\pm 0.0131$                                                                            | $0.0203 \\pm 0.0008$                                                                              |\n",
       "|                3 | mobilenet-random   | $0.4248 \\pm 0.0154$                                                                            | $-0.0000 \\pm 0.0000$                                                                             |\n",
       "|                3 | resnext-saycam     | $0.9443 \\pm 0.0072$                                                                            | $0.0338 \\pm 0.0007$                                                                              |\n",
       "|                3 | resnext-imagenet   | $0.4629 \\pm 0.0156$                                                                            | $-0.0041 \\pm 0.0009$                                                                             |\n",
       "|                3 | resnext-random     | $0.5303 \\pm 0.0156$                                                                            | $0.0000 \\pm 0.0000$                                                                              |"
      ],
      "text/plain": [
       "<IPython.core.display.Markdown object>"
      ]
     },
     "metadata": {},
     "output_type": "display_data"
    },
    {
     "data": {
      "text/markdown": [
       "### Quinn-Above/Below"
      ],
      "text/plain": [
       "<IPython.core.display.Markdown object>"
      ]
     },
     "metadata": {},
     "output_type": "display_data"
    },
    {
     "data": {
      "text/markdown": [
       "|   # Target Types | Model              | Accuracy&nbsp; &nbsp; &nbsp; &nbsp; &nbsp; &nbsp; &nbsp; &nbsp; &nbsp; &nbsp; &nbsp; &nbsp;    | Difference&nbsp; &nbsp; &nbsp; &nbsp; &nbsp; &nbsp; &nbsp; &nbsp; &nbsp; &nbsp; &nbsp; &nbsp;    |\n",
       "|------------------|--------------------|------------------------------------------------------------------------------------------------|--------------------------------------------------------------------------------------------------|\n",
       "|                1 | mobilenet-saycam   | $1.0000 \\pm 0.0000$                                                                            | $0.0773 \\pm 0.0007$                                                                              |\n",
       "|                1 | mobilenet-imagenet | $0.9346 \\pm 0.0077$                                                                            | $0.0420 \\pm 0.0008$                                                                              |\n",
       "|                1 | mobilenet-random   | $0.5156 \\pm 0.0156$                                                                            | $0.0000 \\pm 0.0000$                                                                              |\n",
       "|                1 | resnext-saycam     | $1.0000 \\pm 0.0000$                                                                            | $0.1140 \\pm 0.0010$                                                                              |\n",
       "|                1 | resnext-imagenet   | $0.8916 \\pm 0.0097$                                                                            | $0.0332 \\pm 0.0010$                                                                              |\n",
       "|                1 | resnext-random     | $0.5830 \\pm 0.0154$                                                                            | $0.0000 \\pm 0.0000$                                                                              |\n",
       "|                2 | mobilenet-saycam   | $0.9961 \\pm 0.0019$                                                                            | $0.0712 \\pm 0.0007$                                                                              |\n",
       "|                2 | mobilenet-imagenet | $0.8213 \\pm 0.0120$                                                                            | $0.0322 \\pm 0.0011$                                                                              |\n",
       "|                2 | mobilenet-random   | $0.4961 \\pm 0.0156$                                                                            | $-0.0000 \\pm 0.0000$                                                                             |\n",
       "|                2 | resnext-saycam     | $1.0000 \\pm 0.0000$                                                                            | $0.1097 \\pm 0.0010$                                                                              |\n",
       "|                2 | resnext-imagenet   | $0.7021 \\pm 0.0143$                                                                            | $0.0185 \\pm 0.0014$                                                                              |\n",
       "|                2 | resnext-random     | $0.5713 \\pm 0.0155$                                                                            | $0.0000 \\pm 0.0000$                                                                              |\n",
       "|                3 | mobilenet-saycam   | $0.9980 \\pm 0.0014$                                                                            | $0.0710 \\pm 0.0008$                                                                              |\n",
       "|                3 | mobilenet-imagenet | $0.8271 \\pm 0.0118$                                                                            | $0.0352 \\pm 0.0011$                                                                              |\n",
       "|                3 | mobilenet-random   | $0.4922 \\pm 0.0156$                                                                            | $-0.0000 \\pm 0.0000$                                                                             |\n",
       "|                3 | resnext-saycam     | $1.0000 \\pm 0.0000$                                                                            | $0.1110 \\pm 0.0010$                                                                              |\n",
       "|                3 | resnext-imagenet   | $0.6914 \\pm 0.0144$                                                                            | $0.0183 \\pm 0.0013$                                                                              |\n",
       "|                3 | resnext-random     | $0.5420 \\pm 0.0156$                                                                            | $0.0000 \\pm 0.0000$                                                                              |"
      ],
      "text/plain": [
       "<IPython.core.display.Markdown object>"
      ]
     },
     "metadata": {},
     "output_type": "display_data"
    },
    {
     "data": {
      "text/markdown": [
       "### Quinn-Left/Right"
      ],
      "text/plain": [
       "<IPython.core.display.Markdown object>"
      ]
     },
     "metadata": {},
     "output_type": "display_data"
    },
    {
     "data": {
      "text/markdown": [
       "|   # Target Types | Model              | Accuracy&nbsp; &nbsp; &nbsp; &nbsp; &nbsp; &nbsp; &nbsp; &nbsp; &nbsp; &nbsp; &nbsp; &nbsp;    | Difference&nbsp; &nbsp; &nbsp; &nbsp; &nbsp; &nbsp; &nbsp; &nbsp; &nbsp; &nbsp; &nbsp; &nbsp;    |\n",
       "|------------------|--------------------|------------------------------------------------------------------------------------------------|--------------------------------------------------------------------------------------------------|\n",
       "|                1 | mobilenet-saycam   | $0.6094 \\pm 0.0152$                                                                            | $0.0027 \\pm 0.0005$                                                                              |\n",
       "|                1 | mobilenet-imagenet | $0.3291 \\pm 0.0147$                                                                            | $-0.0066 \\pm 0.0005$                                                                             |\n",
       "|                1 | mobilenet-random   | $0.5059 \\pm 0.0156$                                                                            | $-0.0000 \\pm 0.0000$                                                                             |\n",
       "|                1 | resnext-saycam     | $0.0488 \\pm 0.0067$                                                                            | $-0.0219 \\pm 0.0004$                                                                             |\n",
       "|                1 | resnext-imagenet   | $0.1543 \\pm 0.0113$                                                                            | $-0.0231 \\pm 0.0007$                                                                             |\n",
       "|                1 | resnext-random     | $0.6152 \\pm 0.0152$                                                                            | $0.0000 \\pm 0.0000$                                                                              |\n",
       "|                2 | mobilenet-saycam   | $0.6045 \\pm 0.0153$                                                                            | $0.0035 \\pm 0.0005$                                                                              |\n",
       "|                2 | mobilenet-imagenet | $0.3936 \\pm 0.0153$                                                                            | $-0.0054 \\pm 0.0008$                                                                             |\n",
       "|                2 | mobilenet-random   | $0.5078 \\pm 0.0156$                                                                            | $-0.0000 \\pm 0.0000$                                                                             |\n",
       "|                2 | resnext-saycam     | $0.0615 \\pm 0.0075$                                                                            | $-0.0211 \\pm 0.0005$                                                                             |\n",
       "|                2 | resnext-imagenet   | $0.2637 \\pm 0.0138$                                                                            | $-0.0197 \\pm 0.0011$                                                                             |\n",
       "|                2 | resnext-random     | $0.5742 \\pm 0.0155$                                                                            | $0.0000 \\pm 0.0000$                                                                              |\n",
       "|                3 | mobilenet-saycam   | $0.5830 \\pm 0.0154$                                                                            | $0.0030 \\pm 0.0006$                                                                              |\n",
       "|                3 | mobilenet-imagenet | $0.4492 \\pm 0.0155$                                                                            | $-0.0051 \\pm 0.0009$                                                                             |\n",
       "|                3 | mobilenet-random   | $0.5010 \\pm 0.0156$                                                                            | $-0.0000 \\pm 0.0000$                                                                             |\n",
       "|                3 | resnext-saycam     | $0.0918 \\pm 0.0090$                                                                            | $-0.0208 \\pm 0.0005$                                                                             |\n",
       "|                3 | resnext-imagenet   | $0.3242 \\pm 0.0146$                                                                            | $-0.0189 \\pm 0.0012$                                                                             |\n",
       "|                3 | resnext-random     | $0.5625 \\pm 0.0155$                                                                            | $0.0000 \\pm 0.0000$                                                                              |"
      ],
      "text/plain": [
       "<IPython.core.display.Markdown object>"
      ]
     },
     "metadata": {},
     "output_type": "display_data"
    }
   ],
   "source": [
    "display_multiple_model_results_multiple_types('Quinn', quinn_generators_all_model_results, tablefmt='github')"
   ]
  },
  {
   "cell_type": "code",
   "execution_count": 62,
   "metadata": {
    "scrolled": false
   },
   "outputs": [],
   "source": [
    "quinn_single_color_value_sets = dict(\n",
    "    distance_endpoints=(QUINN_DISTANCE_ENDPOINTS,),\n",
    "    two_reference_objects=(False, True),\n",
    "    transpose=(False, True),\n",
    ")\n",
    "\n",
    "quinn_single_color_names, quinn_single_color_triplet_generators = create_generators_and_names(\n",
    "    QuinnTripletGenerator, same_color_gen, quinn_single_color_value_sets, name_func_kwargs=dict(base_name='Quinn-Single-Color'))\n"
   ]
  },
  {
   "cell_type": "code",
   "execution_count": 63,
   "metadata": {},
   "outputs": [
    {
     "name": "stdout",
     "output_type": "stream",
     "text": [
      "Starting model mobilenet-saycam\n",
      "Starting model mobilenet-imagenet\n",
      "Starting model mobilenet-random\n",
      "Starting model resnext-saycam\n",
      "Starting model resnext-imagenet\n",
      "Starting model resnext-random\n"
     ]
    }
   ],
   "source": [
    "N = 1024\n",
    "quinn_generators_single_color_results = run_multiple_models_multiple_generators(\n",
    "    model_names, model_kwarg_dicts, quinn_single_color_names, quinn_single_color_triplet_generators, N)"
   ]
  },
  {
   "cell_type": "code",
   "execution_count": 64,
   "metadata": {},
   "outputs": [
    {
     "data": {
      "text/markdown": [
       "## Quinn Single Color Results"
      ],
      "text/plain": [
       "<IPython.core.display.Markdown object>"
      ]
     },
     "metadata": {},
     "output_type": "display_data"
    },
    {
     "data": {
      "text/markdown": [
       "### Quinn-Single-Color-Above/Below"
      ],
      "text/plain": [
       "<IPython.core.display.Markdown object>"
      ]
     },
     "metadata": {},
     "output_type": "display_data"
    },
    {
     "data": {
      "text/markdown": [
       "| Model              | Accuracy&nbsp; &nbsp; &nbsp; &nbsp; &nbsp; &nbsp; &nbsp; &nbsp; &nbsp; &nbsp; &nbsp; &nbsp;    | Difference&nbsp; &nbsp; &nbsp; &nbsp; &nbsp; &nbsp; &nbsp; &nbsp; &nbsp; &nbsp; &nbsp; &nbsp;    |\n",
       "|--------------------|------------------------------------------------------------------------------------------------|--------------------------------------------------------------------------------------------------|\n",
       "| mobilenet-saycam   | $1.0000 \\pm 0.0000$                                                                            | $0.0707 \\pm 0.0007$                                                                              |\n",
       "| mobilenet-imagenet | $0.9229 \\pm 0.0083$                                                                            | $0.0318 \\pm 0.0007$                                                                              |\n",
       "| mobilenet-random   | $0.5049 \\pm 0.0156$                                                                            | $0.0000 \\pm 0.0000$                                                                              |\n",
       "| resnext-saycam     | $1.0000 \\pm 0.0000$                                                                            | $0.0930 \\pm 0.0009$                                                                              |\n",
       "| resnext-imagenet   | $0.8867 \\pm 0.0099$                                                                            | $0.0427 \\pm 0.0012$                                                                              |\n",
       "| resnext-random     | $0.6172 \\pm 0.0152$                                                                            | $0.0000 \\pm 0.0000$                                                                              |"
      ],
      "text/plain": [
       "<IPython.core.display.Markdown object>"
      ]
     },
     "metadata": {},
     "output_type": "display_data"
    },
    {
     "data": {
      "text/markdown": [
       "### Quinn-Single-Color-Left/Right"
      ],
      "text/plain": [
       "<IPython.core.display.Markdown object>"
      ]
     },
     "metadata": {},
     "output_type": "display_data"
    },
    {
     "data": {
      "text/markdown": [
       "| Model              | Accuracy&nbsp; &nbsp; &nbsp; &nbsp; &nbsp; &nbsp; &nbsp; &nbsp; &nbsp; &nbsp; &nbsp; &nbsp;    | Difference&nbsp; &nbsp; &nbsp; &nbsp; &nbsp; &nbsp; &nbsp; &nbsp; &nbsp; &nbsp; &nbsp; &nbsp;    |\n",
       "|--------------------|------------------------------------------------------------------------------------------------|--------------------------------------------------------------------------------------------------|\n",
       "| mobilenet-saycam   | $0.5137 \\pm 0.0156$                                                                            | $0.0008 \\pm 0.0006$                                                                              |\n",
       "| mobilenet-imagenet | $0.2139 \\pm 0.0128$                                                                            | $-0.0145 \\pm 0.0006$                                                                             |\n",
       "| mobilenet-random   | $0.5068 \\pm 0.0156$                                                                            | $-0.0000 \\pm 0.0000$                                                                             |\n",
       "| resnext-saycam     | $0.0508 \\pm 0.0069$                                                                            | $-0.0204 \\pm 0.0004$                                                                             |\n",
       "| resnext-imagenet   | $0.1260 \\pm 0.0104$                                                                            | $-0.0273 \\pm 0.0008$                                                                             |\n",
       "| resnext-random     | $0.5986 \\pm 0.0153$                                                                            | $0.0000 \\pm 0.0000$                                                                              |"
      ],
      "text/plain": [
       "<IPython.core.display.Markdown object>"
      ]
     },
     "metadata": {},
     "output_type": "display_data"
    },
    {
     "data": {
      "text/markdown": [
       "### Quinn-Single-Color-Between"
      ],
      "text/plain": [
       "<IPython.core.display.Markdown object>"
      ]
     },
     "metadata": {},
     "output_type": "display_data"
    },
    {
     "data": {
      "text/markdown": [
       "| Model              | Accuracy&nbsp; &nbsp; &nbsp; &nbsp; &nbsp; &nbsp; &nbsp; &nbsp; &nbsp; &nbsp; &nbsp; &nbsp;    | Difference&nbsp; &nbsp; &nbsp; &nbsp; &nbsp; &nbsp; &nbsp; &nbsp; &nbsp; &nbsp; &nbsp; &nbsp;    |\n",
       "|--------------------|------------------------------------------------------------------------------------------------|--------------------------------------------------------------------------------------------------|\n",
       "| mobilenet-saycam   | $0.9844 \\pm 0.0039$                                                                            | $0.0341 \\pm 0.0005$                                                                              |\n",
       "| mobilenet-imagenet | $0.9033 \\pm 0.0092$                                                                            | $0.0213 \\pm 0.0006$                                                                              |\n",
       "| mobilenet-random   | $0.5117 \\pm 0.0156$                                                                            | $0.0000 \\pm 0.0000$                                                                              |\n",
       "| resnext-saycam     | $0.9492 \\pm 0.0069$                                                                            | $0.0348 \\pm 0.0007$                                                                              |\n",
       "| resnext-imagenet   | $0.6260 \\pm 0.0151$                                                                            | $0.0048 \\pm 0.0008$                                                                              |\n",
       "| resnext-random     | $0.5117 \\pm 0.0156$                                                                            | $0.0000 \\pm 0.0000$                                                                              |"
      ],
      "text/plain": [
       "<IPython.core.display.Markdown object>"
      ]
     },
     "metadata": {},
     "output_type": "display_data"
    },
    {
     "data": {
      "text/markdown": [
       "### Quinn-Single-Color-Between-sideways"
      ],
      "text/plain": [
       "<IPython.core.display.Markdown object>"
      ]
     },
     "metadata": {},
     "output_type": "display_data"
    },
    {
     "data": {
      "text/markdown": [
       "| Model              | Accuracy&nbsp; &nbsp; &nbsp; &nbsp; &nbsp; &nbsp; &nbsp; &nbsp; &nbsp; &nbsp; &nbsp; &nbsp;    | Difference&nbsp; &nbsp; &nbsp; &nbsp; &nbsp; &nbsp; &nbsp; &nbsp; &nbsp; &nbsp; &nbsp; &nbsp;    |\n",
       "|--------------------|------------------------------------------------------------------------------------------------|--------------------------------------------------------------------------------------------------|\n",
       "| mobilenet-saycam   | $0.6934 \\pm 0.0144$                                                                            | $0.0057 \\pm 0.0004$                                                                              |\n",
       "| mobilenet-imagenet | $0.2754 \\pm 0.0140$                                                                            | $-0.0094 \\pm 0.0006$                                                                             |\n",
       "| mobilenet-random   | $0.4961 \\pm 0.0156$                                                                            | $-0.0000 \\pm 0.0000$                                                                             |\n",
       "| resnext-saycam     | $0.2646 \\pm 0.0138$                                                                            | $-0.0106 \\pm 0.0005$                                                                             |\n",
       "| resnext-imagenet   | $0.1387 \\pm 0.0108$                                                                            | $-0.0238 \\pm 0.0007$                                                                             |\n",
       "| resnext-random     | $0.5059 \\pm 0.0156$                                                                            | $0.0000 \\pm 0.0000$                                                                              |"
      ],
      "text/plain": [
       "<IPython.core.display.Markdown object>"
      ]
     },
     "metadata": {},
     "output_type": "display_data"
    }
   ],
   "source": [
    "display_multiple_model_results_single_type('Quinn Single Color', quinn_generators_single_color_results, tablefmt='github')"
   ]
  },
  {
   "cell_type": "code",
   "execution_count": 65,
   "metadata": {},
   "outputs": [],
   "source": [
    "quinn_different_shape_names, quinn_different_shape_triplet_generators = create_generators_and_names(\n",
    "    QuinnTripletGenerator, different_shapes_gen, quinn_default_value_sets, name_func_kwargs=dict(base_name='Quinn-Diff-Shapes'))"
   ]
  },
  {
   "cell_type": "code",
   "execution_count": 66,
   "metadata": {},
   "outputs": [
    {
     "name": "stdout",
     "output_type": "stream",
     "text": [
      "Starting model mobilenet-saycam\n",
      "Starting model mobilenet-imagenet\n",
      "Starting model mobilenet-random\n",
      "Starting model resnext-saycam\n",
      "Starting model resnext-imagenet\n",
      "Starting model resnext-random\n"
     ]
    }
   ],
   "source": [
    "N = 1024\n",
    "quinn_generators_different_shapes_results = run_multiple_models_multiple_generators(\n",
    "    model_names, model_kwarg_dicts, quinn_different_shape_names, quinn_different_shape_triplet_generators, N)"
   ]
  },
  {
   "cell_type": "code",
   "execution_count": 67,
   "metadata": {
    "scrolled": true
   },
   "outputs": [
    {
     "data": {
      "text/markdown": [
       "## Quinn Different Shapes Results"
      ],
      "text/plain": [
       "<IPython.core.display.Markdown object>"
      ]
     },
     "metadata": {},
     "output_type": "display_data"
    },
    {
     "data": {
      "text/markdown": [
       "### Quinn-Diff-Shapes-Between-sideways"
      ],
      "text/plain": [
       "<IPython.core.display.Markdown object>"
      ]
     },
     "metadata": {},
     "output_type": "display_data"
    },
    {
     "data": {
      "text/markdown": [
       "|   # Target Types | Model              | Accuracy&nbsp; &nbsp; &nbsp; &nbsp; &nbsp; &nbsp; &nbsp; &nbsp; &nbsp; &nbsp; &nbsp; &nbsp;    | Difference&nbsp; &nbsp; &nbsp; &nbsp; &nbsp; &nbsp; &nbsp; &nbsp; &nbsp; &nbsp; &nbsp; &nbsp;    |\n",
       "|------------------|--------------------|------------------------------------------------------------------------------------------------|--------------------------------------------------------------------------------------------------|\n",
       "|                1 | mobilenet-saycam   | $0.6367 \\pm 0.0150$                                                                            | $0.0034 \\pm 0.0004$                                                                              |\n",
       "|                1 | mobilenet-imagenet | $0.3115 \\pm 0.0145$                                                                            | $-0.0063 \\pm 0.0005$                                                                             |\n",
       "|                1 | mobilenet-random   | $0.5430 \\pm 0.0156$                                                                            | $0.0000 \\pm 0.0000$                                                                              |\n",
       "|                1 | resnext-saycam     | $0.2637 \\pm 0.0138$                                                                            | $-0.0101 \\pm 0.0005$                                                                             |\n",
       "|                1 | resnext-imagenet   | $0.1299 \\pm 0.0105$                                                                            | $-0.0209 \\pm 0.0006$                                                                             |\n",
       "|                1 | resnext-random     | $0.5088 \\pm 0.0156$                                                                            | $0.0000 \\pm 0.0000$                                                                              |\n",
       "|                2 | mobilenet-saycam   | $0.6543 \\pm 0.0149$                                                                            | $0.0052 \\pm 0.0005$                                                                              |\n",
       "|                2 | mobilenet-imagenet | $0.3252 \\pm 0.0146$                                                                            | $-0.0089 \\pm 0.0007$                                                                             |\n",
       "|                2 | mobilenet-random   | $0.5137 \\pm 0.0156$                                                                            | $0.0000 \\pm 0.0000$                                                                              |\n",
       "|                2 | resnext-saycam     | $0.5107 \\pm 0.0156$                                                                            | $-0.0014 \\pm 0.0011$                                                                             |\n",
       "|                2 | resnext-imagenet   | $0.1758 \\pm 0.0119$                                                                            | $-0.0228 \\pm 0.0008$                                                                             |\n",
       "|                2 | resnext-random     | $0.5303 \\pm 0.0156$                                                                            | $0.0000 \\pm 0.0000$                                                                              |\n",
       "|                3 | mobilenet-saycam   | $0.6396 \\pm 0.0150$                                                                            | $0.0052 \\pm 0.0005$                                                                              |\n",
       "|                3 | mobilenet-imagenet | $0.3975 \\pm 0.0153$                                                                            | $-0.0077 \\pm 0.0010$                                                                             |\n",
       "|                3 | mobilenet-random   | $0.5293 \\pm 0.0156$                                                                            | $0.0000 \\pm 0.0000$                                                                              |\n",
       "|                3 | resnext-saycam     | $0.5811 \\pm 0.0154$                                                                            | $0.0117 \\pm 0.0133$                                                                              |\n",
       "|                3 | resnext-imagenet   | $0.1748 \\pm 0.0119$                                                                            | $-0.0244 \\pm 0.0010$                                                                             |\n",
       "|                3 | resnext-random     | $0.5000 \\pm 0.0156$                                                                            | $-0.0000 \\pm 0.0000$                                                                             |"
      ],
      "text/plain": [
       "<IPython.core.display.Markdown object>"
      ]
     },
     "metadata": {},
     "output_type": "display_data"
    },
    {
     "data": {
      "text/markdown": [
       "### Quinn-Diff-Shapes-Between"
      ],
      "text/plain": [
       "<IPython.core.display.Markdown object>"
      ]
     },
     "metadata": {},
     "output_type": "display_data"
    },
    {
     "data": {
      "text/markdown": [
       "|   # Target Types | Model              | Accuracy&nbsp; &nbsp; &nbsp; &nbsp; &nbsp; &nbsp; &nbsp; &nbsp; &nbsp; &nbsp; &nbsp; &nbsp;    | Difference&nbsp; &nbsp; &nbsp; &nbsp; &nbsp; &nbsp; &nbsp; &nbsp; &nbsp; &nbsp; &nbsp; &nbsp;    |\n",
       "|------------------|--------------------|------------------------------------------------------------------------------------------------|--------------------------------------------------------------------------------------------------|\n",
       "|                1 | mobilenet-saycam   | $0.9785 \\pm 0.0045$                                                                            | $0.0269 \\pm 0.0005$                                                                              |\n",
       "|                1 | mobilenet-imagenet | $0.8408 \\pm 0.0114$                                                                            | $0.0179 \\pm 0.0006$                                                                              |\n",
       "|                1 | mobilenet-random   | $0.6025 \\pm 0.0153$                                                                            | $0.0000 \\pm 0.0000$                                                                              |\n",
       "|                1 | resnext-saycam     | $0.8896 \\pm 0.0098$                                                                            | $0.0277 \\pm 0.0008$                                                                              |\n",
       "|                1 | resnext-imagenet   | $0.6631 \\pm 0.0148$                                                                            | $0.0055 \\pm 0.0007$                                                                              |\n",
       "|                1 | resnext-random     | $0.5283 \\pm 0.0156$                                                                            | $0.0000 \\pm 0.0000$                                                                              |\n",
       "|                2 | mobilenet-saycam   | $0.9453 \\pm 0.0071$                                                                            | $0.0251 \\pm 0.0006$                                                                              |\n",
       "|                2 | mobilenet-imagenet | $0.6562 \\pm 0.0148$                                                                            | $0.0096 \\pm 0.0008$                                                                              |\n",
       "|                2 | mobilenet-random   | $0.6016 \\pm 0.0153$                                                                            | $0.0000 \\pm 0.0000$                                                                              |\n",
       "|                2 | resnext-saycam     | $0.6885 \\pm 0.0145$                                                                            | $0.0101 \\pm 0.0011$                                                                              |\n",
       "|                2 | resnext-imagenet   | $0.5117 \\pm 0.0156$                                                                            | $-0.0006 \\pm 0.0008$                                                                             |\n",
       "|                2 | resnext-random     | $0.5566 \\pm 0.0155$                                                                            | $0.0000 \\pm 0.0000$                                                                              |\n",
       "|                3 | mobilenet-saycam   | $0.9131 \\pm 0.0088$                                                                            | $0.0253 \\pm 0.0006$                                                                              |\n",
       "|                3 | mobilenet-imagenet | $0.6025 \\pm 0.0153$                                                                            | $0.0099 \\pm 0.0009$                                                                              |\n",
       "|                3 | mobilenet-random   | $0.5684 \\pm 0.0155$                                                                            | $0.0000 \\pm 0.0000$                                                                              |\n",
       "|                3 | resnext-saycam     | $0.5869 \\pm 0.0154$                                                                            | $0.0229 \\pm 0.0128$                                                                              |\n",
       "|                3 | resnext-imagenet   | $0.5166 \\pm 0.0156$                                                                            | $-0.0016 \\pm 0.0009$                                                                             |\n",
       "|                3 | resnext-random     | $0.5254 \\pm 0.0156$                                                                            | $0.0000 \\pm 0.0000$                                                                              |"
      ],
      "text/plain": [
       "<IPython.core.display.Markdown object>"
      ]
     },
     "metadata": {},
     "output_type": "display_data"
    },
    {
     "data": {
      "text/markdown": [
       "### Quinn-Diff-Shapes-Above/Below"
      ],
      "text/plain": [
       "<IPython.core.display.Markdown object>"
      ]
     },
     "metadata": {},
     "output_type": "display_data"
    },
    {
     "data": {
      "text/markdown": [
       "|   # Target Types | Model              | Accuracy&nbsp; &nbsp; &nbsp; &nbsp; &nbsp; &nbsp; &nbsp; &nbsp; &nbsp; &nbsp; &nbsp; &nbsp;    | Difference&nbsp; &nbsp; &nbsp; &nbsp; &nbsp; &nbsp; &nbsp; &nbsp; &nbsp; &nbsp; &nbsp; &nbsp;    |\n",
       "|------------------|--------------------|------------------------------------------------------------------------------------------------|--------------------------------------------------------------------------------------------------|\n",
       "|                1 | mobilenet-saycam   | $0.9990 \\pm 0.0010$                                                                            | $0.0665 \\pm 0.0007$                                                                              |\n",
       "|                1 | mobilenet-imagenet | $0.9355 \\pm 0.0077$                                                                            | $0.0407 \\pm 0.0009$                                                                              |\n",
       "|                1 | mobilenet-random   | $0.5098 \\pm 0.0156$                                                                            | $0.0000 \\pm 0.0000$                                                                              |\n",
       "|                1 | resnext-saycam     | $0.9355 \\pm 0.0077$                                                                            | $0.0798 \\pm 0.0017$                                                                              |\n",
       "|                1 | resnext-imagenet   | $0.8770 \\pm 0.0103$                                                                            | $0.0375 \\pm 0.0011$                                                                              |\n",
       "|                1 | resnext-random     | $0.6387 \\pm 0.0150$                                                                            | $0.0000 \\pm 0.0000$                                                                              |\n",
       "|                2 | mobilenet-saycam   | $0.9814 \\pm 0.0042$                                                                            | $0.0529 \\pm 0.0008$                                                                              |\n",
       "|                2 | mobilenet-imagenet | $0.7061 \\pm 0.0142$                                                                            | $0.0189 \\pm 0.0012$                                                                              |\n",
       "|                2 | mobilenet-random   | $0.5137 \\pm 0.0156$                                                                            | $0.0000 \\pm 0.0000$                                                                              |\n",
       "|                2 | resnext-saycam     | $0.6611 \\pm 0.0148$                                                                            | $0.0337 \\pm 0.0018$                                                                              |\n",
       "|                2 | resnext-imagenet   | $0.6416 \\pm 0.0150$                                                                            | $0.0134 \\pm 0.0013$                                                                              |\n",
       "|                2 | resnext-random     | $0.5771 \\pm 0.0154$                                                                            | $0.0000 \\pm 0.0000$                                                                              |\n",
       "|                3 | mobilenet-saycam   | $0.9727 \\pm 0.0051$                                                                            | $0.0532 \\pm 0.0008$                                                                              |\n",
       "|                3 | mobilenet-imagenet | $0.6436 \\pm 0.0150$                                                                            | $0.0193 \\pm 0.0016$                                                                              |\n",
       "|                3 | mobilenet-random   | $0.5088 \\pm 0.0156$                                                                            | $0.0000 \\pm 0.0000$                                                                              |\n",
       "|                3 | resnext-saycam     | $0.5039 \\pm 0.0156$                                                                            | $0.0415 \\pm 0.0113$                                                                              |\n",
       "|                3 | resnext-imagenet   | $0.6416 \\pm 0.0150$                                                                            | $0.0151 \\pm 0.0014$                                                                              |\n",
       "|                3 | resnext-random     | $0.5088 \\pm 0.0156$                                                                            | $0.0000 \\pm 0.0000$                                                                              |"
      ],
      "text/plain": [
       "<IPython.core.display.Markdown object>"
      ]
     },
     "metadata": {},
     "output_type": "display_data"
    },
    {
     "data": {
      "text/markdown": [
       "### Quinn-Diff-Shapes-Left/Right"
      ],
      "text/plain": [
       "<IPython.core.display.Markdown object>"
      ]
     },
     "metadata": {},
     "output_type": "display_data"
    },
    {
     "data": {
      "text/markdown": [
       "|   # Target Types | Model              | Accuracy&nbsp; &nbsp; &nbsp; &nbsp; &nbsp; &nbsp; &nbsp; &nbsp; &nbsp; &nbsp; &nbsp; &nbsp;    | Difference&nbsp; &nbsp; &nbsp; &nbsp; &nbsp; &nbsp; &nbsp; &nbsp; &nbsp; &nbsp; &nbsp; &nbsp;    |\n",
       "|------------------|--------------------|------------------------------------------------------------------------------------------------|--------------------------------------------------------------------------------------------------|\n",
       "|                1 | mobilenet-saycam   | $0.6123 \\pm 0.0152$                                                                            | $0.0036 \\pm 0.0005$                                                                              |\n",
       "|                1 | mobilenet-imagenet | $0.2705 \\pm 0.0139$                                                                            | $-0.0106 \\pm 0.0006$                                                                             |\n",
       "|                1 | mobilenet-random   | $0.5020 \\pm 0.0156$                                                                            | $0.0000 \\pm 0.0000$                                                                              |\n",
       "|                1 | resnext-saycam     | $0.1865 \\pm 0.0122$                                                                            | $-0.0141 \\pm 0.0006$                                                                             |\n",
       "|                1 | resnext-imagenet   | $0.1123 \\pm 0.0099$                                                                            | $-0.0302 \\pm 0.0009$                                                                             |\n",
       "|                1 | resnext-random     | $0.6045 \\pm 0.0153$                                                                            | $0.0000 \\pm 0.0000$                                                                              |\n",
       "|                2 | mobilenet-saycam   | $0.4912 \\pm 0.0156$                                                                            | $-0.0003 \\pm 0.0006$                                                                             |\n",
       "|                2 | mobilenet-imagenet | $0.3936 \\pm 0.0153$                                                                            | $-0.0100 \\pm 0.0013$                                                                             |\n",
       "|                2 | mobilenet-random   | $0.5098 \\pm 0.0156$                                                                            | $0.0000 \\pm 0.0000$                                                                              |\n",
       "|                2 | resnext-saycam     | $0.3896 \\pm 0.0152$                                                                            | $-0.0071 \\pm 0.0012$                                                                             |\n",
       "|                2 | resnext-imagenet   | $0.2197 \\pm 0.0129$                                                                            | $-0.0266 \\pm 0.0011$                                                                             |\n",
       "|                2 | resnext-random     | $0.5273 \\pm 0.0156$                                                                            | $0.0000 \\pm 0.0000$                                                                              |\n",
       "|                3 | mobilenet-saycam   | $0.5205 \\pm 0.0156$                                                                            | $-0.0001 \\pm 0.0006$                                                                             |\n",
       "|                3 | mobilenet-imagenet | $0.4668 \\pm 0.0156$                                                                            | $-0.0090 \\pm 0.0019$                                                                             |\n",
       "|                3 | mobilenet-random   | $0.5107 \\pm 0.0156$                                                                            | $0.0000 \\pm 0.0000$                                                                              |\n",
       "|                3 | resnext-saycam     | $0.4971 \\pm 0.0156$                                                                            | $0.0036 \\pm 0.0131$                                                                              |\n",
       "|                3 | resnext-imagenet   | $0.2334 \\pm 0.0132$                                                                            | $-0.0276 \\pm 0.0012$                                                                             |\n",
       "|                3 | resnext-random     | $0.4863 \\pm 0.0156$                                                                            | $0.0000 \\pm 0.0000$                                                                              |"
      ],
      "text/plain": [
       "<IPython.core.display.Markdown object>"
      ]
     },
     "metadata": {},
     "output_type": "display_data"
    }
   ],
   "source": [
    "display_multiple_model_results_multiple_types('Quinn Different Shapes', quinn_generators_different_shapes_results, tablefmt='github')"
   ]
  },
  {
   "cell_type": "code",
   "execution_count": 68,
   "metadata": {},
   "outputs": [],
   "source": [
    "quinn_split_reference_names, quinn_split_reference_triplet_generators = create_generators_and_names(\n",
    "    QuinnTripletGenerator, split_reference_gen, quinn_default_value_sets, name_func_kwargs=dict(base_name='Quinn-Split-Reference'))"
   ]
  },
  {
   "cell_type": "code",
   "execution_count": 69,
   "metadata": {},
   "outputs": [
    {
     "name": "stdout",
     "output_type": "stream",
     "text": [
      "Starting model mobilenet-saycam\n",
      "Starting model mobilenet-imagenet\n",
      "Starting model mobilenet-random\n",
      "Starting model resnext-saycam\n",
      "Starting model resnext-imagenet\n",
      "Starting model resnext-random\n"
     ]
    }
   ],
   "source": [
    "N = 1024\n",
    "quinn_generators_split_reference_results = run_multiple_models_multiple_generators(\n",
    "    model_names, model_kwarg_dicts, quinn_split_reference_names, quinn_split_reference_triplet_generators, N)"
   ]
  },
  {
   "cell_type": "code",
   "execution_count": 70,
   "metadata": {
    "scrolled": true
   },
   "outputs": [
    {
     "data": {
      "text/markdown": [
       "## Quinn Split Reference Results"
      ],
      "text/plain": [
       "<IPython.core.display.Markdown object>"
      ]
     },
     "metadata": {},
     "output_type": "display_data"
    },
    {
     "data": {
      "text/markdown": [
       "### Quinn-Split-Reference-Above/Below"
      ],
      "text/plain": [
       "<IPython.core.display.Markdown object>"
      ]
     },
     "metadata": {},
     "output_type": "display_data"
    },
    {
     "data": {
      "text/markdown": [
       "|   # Target Types | Model              | Accuracy&nbsp; &nbsp; &nbsp; &nbsp; &nbsp; &nbsp; &nbsp; &nbsp; &nbsp; &nbsp; &nbsp; &nbsp;    | Difference&nbsp; &nbsp; &nbsp; &nbsp; &nbsp; &nbsp; &nbsp; &nbsp; &nbsp; &nbsp; &nbsp; &nbsp;    |\n",
       "|------------------|--------------------|------------------------------------------------------------------------------------------------|--------------------------------------------------------------------------------------------------|\n",
       "|                1 | mobilenet-saycam   | $0.9990 \\pm 0.0010$                                                                            | $0.0451 \\pm 0.0006$                                                                              |\n",
       "|                1 | mobilenet-imagenet | $0.9609 \\pm 0.0061$                                                                            | $0.0528 \\pm 0.0011$                                                                              |\n",
       "|                1 | mobilenet-random   | $0.5137 \\pm 0.0156$                                                                            | $0.0000 \\pm 0.0000$                                                                              |\n",
       "|                1 | resnext-saycam     | $0.9541 \\pm 0.0065$                                                                            | $0.0364 \\pm 0.0007$                                                                              |\n",
       "|                1 | resnext-imagenet   | $0.9619 \\pm 0.0060$                                                                            | $0.0542 \\pm 0.0011$                                                                              |\n",
       "|                1 | resnext-random     | $0.6953 \\pm 0.0144$                                                                            | $0.0000 \\pm 0.0000$                                                                              |\n",
       "|                2 | mobilenet-saycam   | $0.9805 \\pm 0.0043$                                                                            | $0.0364 \\pm 0.0007$                                                                              |\n",
       "|                2 | mobilenet-imagenet | $0.7070 \\pm 0.0142$                                                                            | $0.0268 \\pm 0.0018$                                                                              |\n",
       "|                2 | mobilenet-random   | $0.5068 \\pm 0.0156$                                                                            | $-0.0000 \\pm 0.0000$                                                                             |\n",
       "|                2 | resnext-saycam     | $0.6641 \\pm 0.0148$                                                                            | $0.0140 \\pm 0.0012$                                                                              |\n",
       "|                2 | resnext-imagenet   | $0.6836 \\pm 0.0145$                                                                            | $0.0242 \\pm 0.0015$                                                                              |\n",
       "|                2 | resnext-random     | $0.5791 \\pm 0.0154$                                                                            | $0.0000 \\pm 0.0000$                                                                              |\n",
       "|                3 | mobilenet-saycam   | $0.9736 \\pm 0.0050$                                                                            | $0.0367 \\pm 0.0007$                                                                              |\n",
       "|                3 | mobilenet-imagenet | $0.6260 \\pm 0.0151$                                                                            | $0.0261 \\pm 0.0022$                                                                              |\n",
       "|                3 | mobilenet-random   | $0.5215 \\pm 0.0156$                                                                            | $0.0000 \\pm 0.0000$                                                                              |\n",
       "|                3 | resnext-saycam     | $0.5117 \\pm 0.0156$                                                                            | $0.0237 \\pm 0.0115$                                                                              |\n",
       "|                3 | resnext-imagenet   | $0.6465 \\pm 0.0149$                                                                            | $0.0244 \\pm 0.0017$                                                                              |\n",
       "|                3 | resnext-random     | $0.5107 \\pm 0.0156$                                                                            | $-0.0000 \\pm 0.0000$                                                                             |"
      ],
      "text/plain": [
       "<IPython.core.display.Markdown object>"
      ]
     },
     "metadata": {},
     "output_type": "display_data"
    },
    {
     "data": {
      "text/markdown": [
       "### Quinn-Split-Reference-Left/Right"
      ],
      "text/plain": [
       "<IPython.core.display.Markdown object>"
      ]
     },
     "metadata": {},
     "output_type": "display_data"
    },
    {
     "data": {
      "text/markdown": [
       "|   # Target Types | Model              | Accuracy&nbsp; &nbsp; &nbsp; &nbsp; &nbsp; &nbsp; &nbsp; &nbsp; &nbsp; &nbsp; &nbsp; &nbsp;    | Difference&nbsp; &nbsp; &nbsp; &nbsp; &nbsp; &nbsp; &nbsp; &nbsp; &nbsp; &nbsp; &nbsp; &nbsp;    |\n",
       "|------------------|--------------------|------------------------------------------------------------------------------------------------|--------------------------------------------------------------------------------------------------|\n",
       "|                1 | mobilenet-saycam   | $0.7754 \\pm 0.0130$                                                                            | $0.0062 \\pm 0.0003$                                                                              |\n",
       "|                1 | mobilenet-imagenet | $0.6152 \\pm 0.0152$                                                                            | $0.0045 \\pm 0.0004$                                                                              |\n",
       "|                1 | mobilenet-random   | $0.5068 \\pm 0.0156$                                                                            | $0.0000 \\pm 0.0000$                                                                              |\n",
       "|                1 | resnext-saycam     | $0.4238 \\pm 0.0154$                                                                            | $-0.0014 \\pm 0.0005$                                                                             |\n",
       "|                1 | resnext-imagenet   | $0.5762 \\pm 0.0154$                                                                            | $0.0033 \\pm 0.0004$                                                                              |\n",
       "|                1 | resnext-random     | $0.7041 \\pm 0.0143$                                                                            | $0.0000 \\pm 0.0000$                                                                              |\n",
       "|                2 | mobilenet-saycam   | $0.6328 \\pm 0.0151$                                                                            | $0.0024 \\pm 0.0003$                                                                              |\n",
       "|                2 | mobilenet-imagenet | $0.5117 \\pm 0.0156$                                                                            | $0.0010 \\pm 0.0008$                                                                              |\n",
       "|                2 | mobilenet-random   | $0.5127 \\pm 0.0156$                                                                            | $0.0000 \\pm 0.0000$                                                                              |\n",
       "|                2 | resnext-saycam     | $0.4590 \\pm 0.0156$                                                                            | $-0.0007 \\pm 0.0012$                                                                             |\n",
       "|                2 | resnext-imagenet   | $0.4863 \\pm 0.0156$                                                                            | $-0.0004 \\pm 0.0008$                                                                             |\n",
       "|                2 | resnext-random     | $0.5771 \\pm 0.0154$                                                                            | $0.0000 \\pm 0.0000$                                                                              |\n",
       "|                3 | mobilenet-saycam   | $0.6328 \\pm 0.0151$                                                                            | $0.0026 \\pm 0.0004$                                                                              |\n",
       "|                3 | mobilenet-imagenet | $0.5166 \\pm 0.0156$                                                                            | $0.0010 \\pm 0.0010$                                                                              |\n",
       "|                3 | mobilenet-random   | $0.5039 \\pm 0.0156$                                                                            | $0.0000 \\pm 0.0000$                                                                              |\n",
       "|                3 | resnext-saycam     | $0.4990 \\pm 0.0156$                                                                            | $0.0075 \\pm 0.0111$                                                                              |\n",
       "|                3 | resnext-imagenet   | $0.5049 \\pm 0.0156$                                                                            | $0.0012 \\pm 0.0011$                                                                              |\n",
       "|                3 | resnext-random     | $0.5088 \\pm 0.0156$                                                                            | $-0.0000 \\pm 0.0000$                                                                             |"
      ],
      "text/plain": [
       "<IPython.core.display.Markdown object>"
      ]
     },
     "metadata": {},
     "output_type": "display_data"
    },
    {
     "data": {
      "text/markdown": [
       "### Quinn-Split-Reference-Between-sideways"
      ],
      "text/plain": [
       "<IPython.core.display.Markdown object>"
      ]
     },
     "metadata": {},
     "output_type": "display_data"
    },
    {
     "data": {
      "text/markdown": [
       "|   # Target Types | Model              | Accuracy&nbsp; &nbsp; &nbsp; &nbsp; &nbsp; &nbsp; &nbsp; &nbsp; &nbsp; &nbsp; &nbsp; &nbsp;    | Difference&nbsp; &nbsp; &nbsp; &nbsp; &nbsp; &nbsp; &nbsp; &nbsp; &nbsp; &nbsp; &nbsp; &nbsp;    |\n",
       "|------------------|--------------------|------------------------------------------------------------------------------------------------|--------------------------------------------------------------------------------------------------|\n",
       "|                1 | mobilenet-saycam   | $0.8555 \\pm 0.0110$                                                                            | $0.0071 \\pm 0.0002$                                                                              |\n",
       "|                1 | mobilenet-imagenet | $0.6768 \\pm 0.0146$                                                                            | $0.0057 \\pm 0.0004$                                                                              |\n",
       "|                1 | mobilenet-random   | $0.4688 \\pm 0.0156$                                                                            | $-0.0000 \\pm 0.0000$                                                                             |\n",
       "|                1 | resnext-saycam     | $0.4424 \\pm 0.0155$                                                                            | $-0.0026 \\pm 0.0004$                                                                             |\n",
       "|                1 | resnext-imagenet   | $0.6436 \\pm 0.0150$                                                                            | $0.0041 \\pm 0.0003$                                                                              |\n",
       "|                1 | resnext-random     | $0.6582 \\pm 0.0148$                                                                            | $0.0000 \\pm 0.0000$                                                                              |\n",
       "|                2 | mobilenet-saycam   | $0.8174 \\pm 0.0121$                                                                            | $0.0065 \\pm 0.0003$                                                                              |\n",
       "|                2 | mobilenet-imagenet | $0.6504 \\pm 0.0149$                                                                            | $0.0058 \\pm 0.0005$                                                                              |\n",
       "|                2 | mobilenet-random   | $0.4414 \\pm 0.0155$                                                                            | $-0.0000 \\pm 0.0000$                                                                             |\n",
       "|                2 | resnext-saycam     | $0.5879 \\pm 0.0154$                                                                            | $0.0014 \\pm 0.0009$                                                                              |\n",
       "|                2 | resnext-imagenet   | $0.5273 \\pm 0.0156$                                                                            | $0.0012 \\pm 0.0005$                                                                              |\n",
       "|                2 | resnext-random     | $0.5869 \\pm 0.0154$                                                                            | $0.0000 \\pm 0.0000$                                                                              |\n",
       "|                3 | mobilenet-saycam   | $0.7754 \\pm 0.0130$                                                                            | $0.0066 \\pm 0.0003$                                                                              |\n",
       "|                3 | mobilenet-imagenet | $0.6523 \\pm 0.0149$                                                                            | $0.0061 \\pm 0.0005$                                                                              |\n",
       "|                3 | mobilenet-random   | $0.4629 \\pm 0.0156$                                                                            | $-0.0000 \\pm 0.0000$                                                                             |\n",
       "|                3 | resnext-saycam     | $0.5576 \\pm 0.0155$                                                                            | $0.0114 \\pm 0.0111$                                                                              |\n",
       "|                3 | resnext-imagenet   | $0.5137 \\pm 0.0156$                                                                            | $0.0009 \\pm 0.0007$                                                                              |\n",
       "|                3 | resnext-random     | $0.5107 \\pm 0.0156$                                                                            | $0.0000 \\pm 0.0000$                                                                              |"
      ],
      "text/plain": [
       "<IPython.core.display.Markdown object>"
      ]
     },
     "metadata": {},
     "output_type": "display_data"
    },
    {
     "data": {
      "text/markdown": [
       "### Quinn-Split-Reference-Between"
      ],
      "text/plain": [
       "<IPython.core.display.Markdown object>"
      ]
     },
     "metadata": {},
     "output_type": "display_data"
    },
    {
     "data": {
      "text/markdown": [
       "|   # Target Types | Model              | Accuracy&nbsp; &nbsp; &nbsp; &nbsp; &nbsp; &nbsp; &nbsp; &nbsp; &nbsp; &nbsp; &nbsp; &nbsp;    | Difference&nbsp; &nbsp; &nbsp; &nbsp; &nbsp; &nbsp; &nbsp; &nbsp; &nbsp; &nbsp; &nbsp; &nbsp;    |\n",
       "|------------------|--------------------|------------------------------------------------------------------------------------------------|--------------------------------------------------------------------------------------------------|\n",
       "|                1 | mobilenet-saycam   | $0.9648 \\pm 0.0058$                                                                            | $0.0144 \\pm 0.0003$                                                                              |\n",
       "|                1 | mobilenet-imagenet | $0.9424 \\pm 0.0073$                                                                            | $0.0448 \\pm 0.0012$                                                                              |\n",
       "|                1 | mobilenet-random   | $0.4629 \\pm 0.0156$                                                                            | $-0.0000 \\pm 0.0000$                                                                             |\n",
       "|                1 | resnext-saycam     | $0.9033 \\pm 0.0092$                                                                            | $0.0149 \\pm 0.0005$                                                                              |\n",
       "|                1 | resnext-imagenet   | $0.9189 \\pm 0.0085$                                                                            | $0.0280 \\pm 0.0008$                                                                              |\n",
       "|                1 | resnext-random     | $0.6387 \\pm 0.0150$                                                                            | $0.0000 \\pm 0.0000$                                                                              |\n",
       "|                2 | mobilenet-saycam   | $0.9131 \\pm 0.0088$                                                                            | $0.0130 \\pm 0.0003$                                                                              |\n",
       "|                2 | mobilenet-imagenet | $0.8896 \\pm 0.0098$                                                                            | $0.0428 \\pm 0.0013$                                                                              |\n",
       "|                2 | mobilenet-random   | $0.4658 \\pm 0.0156$                                                                            | $-0.0000 \\pm 0.0000$                                                                             |\n",
       "|                2 | resnext-saycam     | $0.6787 \\pm 0.0146$                                                                            | $-0.0027 \\pm 0.0012$                                                                             |\n",
       "|                2 | resnext-imagenet   | $0.7871 \\pm 0.0128$                                                                            | $0.0226 \\pm 0.0010$                                                                              |\n",
       "|                2 | resnext-random     | $0.5850 \\pm 0.0154$                                                                            | $0.0000 \\pm 0.0000$                                                                              |\n",
       "|                3 | mobilenet-saycam   | $0.8730 \\pm 0.0104$                                                                            | $0.0122 \\pm 0.0004$                                                                              |\n",
       "|                3 | mobilenet-imagenet | $0.8701 \\pm 0.0105$                                                                            | $0.0414 \\pm 0.0013$                                                                              |\n",
       "|                3 | mobilenet-random   | $0.5156 \\pm 0.0156$                                                                            | $-0.0000 \\pm 0.0000$                                                                             |\n",
       "|                3 | resnext-saycam     | $0.5742 \\pm 0.0155$                                                                            | $0.0076 \\pm 0.0118$                                                                              |\n",
       "|                3 | resnext-imagenet   | $0.7510 \\pm 0.0135$                                                                            | $0.0213 \\pm 0.0010$                                                                              |\n",
       "|                3 | resnext-random     | $0.5127 \\pm 0.0156$                                                                            | $-0.0000 \\pm 0.0000$                                                                             |"
      ],
      "text/plain": [
       "<IPython.core.display.Markdown object>"
      ]
     },
     "metadata": {},
     "output_type": "display_data"
    }
   ],
   "source": [
    "display_multiple_model_results_multiple_types('Quinn Split Reference', quinn_generators_split_reference_results, tablefmt='github')"
   ]
  },
  {
   "cell_type": "code",
   "execution_count": 93,
   "metadata": {},
   "outputs": [],
   "source": [
    "quinn_split_reference_text_names, quinn_split_reference_text_triplet_generators = create_generators_and_names(\n",
    "    QuinnTripletGenerator, split_reference_text_gen, quinn_default_value_sets, name_func_kwargs=dict(base_name='Quinn-Split-Reference-Text'))"
   ]
  },
  {
   "cell_type": "code",
   "execution_count": 94,
   "metadata": {},
   "outputs": [
    {
     "name": "stdout",
     "output_type": "stream",
     "text": [
      "Starting model mobilenet-saycam\n",
      "Starting model mobilenet-imagenet\n",
      "Starting model mobilenet-random\n",
      "Starting model resnext-saycam\n",
      "Starting model resnext-imagenet\n",
      "Starting model resnext-random\n"
     ]
    }
   ],
   "source": [
    "N = 1024\n",
    "quinn_generators_split_reference_text_results = run_multiple_models_multiple_generators(\n",
    "    model_names, model_kwarg_dicts, quinn_split_reference_text_names, quinn_split_reference_text_triplet_generators, N)"
   ]
  },
  {
   "cell_type": "code",
   "execution_count": 95,
   "metadata": {
    "scrolled": true
   },
   "outputs": [
    {
     "data": {
      "text/markdown": [
       "## Quinn Split Reference Text Target Results"
      ],
      "text/plain": [
       "<IPython.core.display.Markdown object>"
      ]
     },
     "metadata": {},
     "output_type": "display_data"
    },
    {
     "data": {
      "text/markdown": [
       "### Quinn-Split-Reference-Text-Left/Right"
      ],
      "text/plain": [
       "<IPython.core.display.Markdown object>"
      ]
     },
     "metadata": {},
     "output_type": "display_data"
    },
    {
     "data": {
      "text/markdown": [
       "|   # Target Types | Model              | Accuracy&nbsp; &nbsp; &nbsp; &nbsp; &nbsp; &nbsp; &nbsp; &nbsp; &nbsp; &nbsp; &nbsp; &nbsp;    | Difference&nbsp; &nbsp; &nbsp; &nbsp; &nbsp; &nbsp; &nbsp; &nbsp; &nbsp; &nbsp; &nbsp; &nbsp;    |\n",
       "|------------------|--------------------|------------------------------------------------------------------------------------------------|--------------------------------------------------------------------------------------------------|\n",
       "|                1 | mobilenet-saycam   | $0.8135 \\pm 0.0122$                                                                            | $0.0066 \\pm 0.0003$                                                                              |\n",
       "|                1 | mobilenet-imagenet | $0.5986 \\pm 0.0153$                                                                            | $0.0048 \\pm 0.0005$                                                                              |\n",
       "|                1 | mobilenet-random   | $0.4863 \\pm 0.0156$                                                                            | $0.0000 \\pm 0.0000$                                                                              |\n",
       "|                1 | resnext-saycam     | $0.3682 \\pm 0.0151$                                                                            | $-0.0015 \\pm 0.0002$                                                                             |\n",
       "|                1 | resnext-imagenet   | $0.6631 \\pm 0.0148$                                                                            | $0.0051 \\pm 0.0004$                                                                              |\n",
       "|                1 | resnext-random     | $0.6162 \\pm 0.0152$                                                                            | $0.0000 \\pm 0.0000$                                                                              |\n",
       "|                2 | mobilenet-saycam   | $0.7285 \\pm 0.0139$                                                                            | $0.0054 \\pm 0.0003$                                                                              |\n",
       "|                2 | mobilenet-imagenet | $0.5469 \\pm 0.0156$                                                                            | $0.0026 \\pm 0.0007$                                                                              |\n",
       "|                2 | mobilenet-random   | $0.5264 \\pm 0.0156$                                                                            | $0.0000 \\pm 0.0000$                                                                              |\n",
       "|                2 | resnext-saycam     | $0.4111 \\pm 0.0154$                                                                            | $-0.0015 \\pm 0.0002$                                                                             |\n",
       "|                2 | resnext-imagenet   | $0.5967 \\pm 0.0153$                                                                            | $0.0039 \\pm 0.0005$                                                                              |\n",
       "|                2 | resnext-random     | $0.5811 \\pm 0.0154$                                                                            | $0.0000 \\pm 0.0000$                                                                              |\n",
       "|                3 | mobilenet-saycam   | $0.6523 \\pm 0.0149$                                                                            | $0.0050 \\pm 0.0004$                                                                              |\n",
       "|                3 | mobilenet-imagenet | $0.5137 \\pm 0.0156$                                                                            | $0.0020 \\pm 0.0009$                                                                              |\n",
       "|                3 | mobilenet-random   | $0.4951 \\pm 0.0156$                                                                            | $-0.0000 \\pm 0.0000$                                                                             |\n",
       "|                3 | resnext-saycam     | $0.4014 \\pm 0.0153$                                                                            | $-0.0018 \\pm 0.0002$                                                                             |\n",
       "|                3 | resnext-imagenet   | $0.5732 \\pm 0.0155$                                                                            | $0.0033 \\pm 0.0005$                                                                              |\n",
       "|                3 | resnext-random     | $0.5371 \\pm 0.0156$                                                                            | $0.0000 \\pm 0.0000$                                                                              |"
      ],
      "text/plain": [
       "<IPython.core.display.Markdown object>"
      ]
     },
     "metadata": {},
     "output_type": "display_data"
    },
    {
     "data": {
      "text/markdown": [
       "### Quinn-Split-Reference-Text-Between-sideways"
      ],
      "text/plain": [
       "<IPython.core.display.Markdown object>"
      ]
     },
     "metadata": {},
     "output_type": "display_data"
    },
    {
     "data": {
      "text/markdown": [
       "|   # Target Types | Model              | Accuracy&nbsp; &nbsp; &nbsp; &nbsp; &nbsp; &nbsp; &nbsp; &nbsp; &nbsp; &nbsp; &nbsp; &nbsp;    | Difference&nbsp; &nbsp; &nbsp; &nbsp; &nbsp; &nbsp; &nbsp; &nbsp; &nbsp; &nbsp; &nbsp; &nbsp;    |\n",
       "|------------------|--------------------|------------------------------------------------------------------------------------------------|--------------------------------------------------------------------------------------------------|\n",
       "|                1 | mobilenet-saycam   | $0.9189 \\pm 0.0085$                                                                            | $0.0103 \\pm 0.0002$                                                                              |\n",
       "|                1 | mobilenet-imagenet | $0.7441 \\pm 0.0136$                                                                            | $0.0100 \\pm 0.0005$                                                                              |\n",
       "|                1 | mobilenet-random   | $0.5127 \\pm 0.0156$                                                                            | $-0.0000 \\pm 0.0000$                                                                             |\n",
       "|                1 | resnext-saycam     | $0.6377 \\pm 0.0150$                                                                            | $0.0012 \\pm 0.0001$                                                                              |\n",
       "|                1 | resnext-imagenet   | $0.7744 \\pm 0.0131$                                                                            | $0.0050 \\pm 0.0002$                                                                              |\n",
       "|                1 | resnext-random     | $0.4521 \\pm 0.0156$                                                                            | $-0.0000 \\pm 0.0000$                                                                             |\n",
       "|                2 | mobilenet-saycam   | $0.9160 \\pm 0.0087$                                                                            | $0.0110 \\pm 0.0003$                                                                              |\n",
       "|                2 | mobilenet-imagenet | $0.7334 \\pm 0.0138$                                                                            | $0.0103 \\pm 0.0005$                                                                              |\n",
       "|                2 | mobilenet-random   | $0.4941 \\pm 0.0156$                                                                            | $-0.0000 \\pm 0.0000$                                                                             |\n",
       "|                2 | resnext-saycam     | $0.6523 \\pm 0.0149$                                                                            | $0.0015 \\pm 0.0001$                                                                              |\n",
       "|                2 | resnext-imagenet   | $0.6582 \\pm 0.0148$                                                                            | $0.0038 \\pm 0.0003$                                                                              |\n",
       "|                2 | resnext-random     | $0.5029 \\pm 0.0156$                                                                            | $0.0000 \\pm 0.0000$                                                                              |\n",
       "|                3 | mobilenet-saycam   | $0.9033 \\pm 0.0092$                                                                            | $0.0116 \\pm 0.0003$                                                                              |\n",
       "|                3 | mobilenet-imagenet | $0.7480 \\pm 0.0136$                                                                            | $0.0120 \\pm 0.0006$                                                                              |\n",
       "|                3 | mobilenet-random   | $0.5078 \\pm 0.0156$                                                                            | $0.0000 \\pm 0.0000$                                                                              |\n",
       "|                3 | resnext-saycam     | $0.6768 \\pm 0.0146$                                                                            | $0.0017 \\pm 0.0001$                                                                              |\n",
       "|                3 | resnext-imagenet   | $0.5693 \\pm 0.0155$                                                                            | $0.0027 \\pm 0.0004$                                                                              |\n",
       "|                3 | resnext-random     | $0.4727 \\pm 0.0156$                                                                            | $-0.0000 \\pm 0.0000$                                                                             |"
      ],
      "text/plain": [
       "<IPython.core.display.Markdown object>"
      ]
     },
     "metadata": {},
     "output_type": "display_data"
    },
    {
     "data": {
      "text/markdown": [
       "### Quinn-Split-Reference-Text-Between"
      ],
      "text/plain": [
       "<IPython.core.display.Markdown object>"
      ]
     },
     "metadata": {},
     "output_type": "display_data"
    },
    {
     "data": {
      "text/markdown": [
       "|   # Target Types | Model              | Accuracy&nbsp; &nbsp; &nbsp; &nbsp; &nbsp; &nbsp; &nbsp; &nbsp; &nbsp; &nbsp; &nbsp; &nbsp;    | Difference&nbsp; &nbsp; &nbsp; &nbsp; &nbsp; &nbsp; &nbsp; &nbsp; &nbsp; &nbsp; &nbsp; &nbsp;    |\n",
       "|------------------|--------------------|------------------------------------------------------------------------------------------------|--------------------------------------------------------------------------------------------------|\n",
       "|                1 | mobilenet-saycam   | $0.9854 \\pm 0.0038$                                                                            | $0.0140 \\pm 0.0003$                                                                              |\n",
       "|                1 | mobilenet-imagenet | $0.9648 \\pm 0.0058$                                                                            | $0.0366 \\pm 0.0009$                                                                              |\n",
       "|                1 | mobilenet-random   | $0.4492 \\pm 0.0155$                                                                            | $-0.0000 \\pm 0.0000$                                                                             |\n",
       "|                1 | resnext-saycam     | $0.9746 \\pm 0.0049$                                                                            | $0.0140 \\pm 0.0003$                                                                              |\n",
       "|                1 | resnext-imagenet   | $0.9629 \\pm 0.0059$                                                                            | $0.0228 \\pm 0.0007$                                                                              |\n",
       "|                1 | resnext-random     | $0.4111 \\pm 0.0154$                                                                            | $-0.0000 \\pm 0.0000$                                                                             |\n",
       "|                2 | mobilenet-saycam   | $0.9590 \\pm 0.0062$                                                                            | $0.0142 \\pm 0.0003$                                                                              |\n",
       "|                2 | mobilenet-imagenet | $0.9346 \\pm 0.0077$                                                                            | $0.0366 \\pm 0.0010$                                                                              |\n",
       "|                2 | mobilenet-random   | $0.4561 \\pm 0.0156$                                                                            | $-0.0000 \\pm 0.0000$                                                                             |\n",
       "|                2 | resnext-saycam     | $0.9678 \\pm 0.0055$                                                                            | $0.0134 \\pm 0.0003$                                                                              |\n",
       "|                2 | resnext-imagenet   | $0.8545 \\pm 0.0110$                                                                            | $0.0212 \\pm 0.0009$                                                                              |\n",
       "|                2 | resnext-random     | $0.4893 \\pm 0.0156$                                                                            | $0.0000 \\pm 0.0000$                                                                              |\n",
       "|                3 | mobilenet-saycam   | $0.9424 \\pm 0.0073$                                                                            | $0.0146 \\pm 0.0003$                                                                              |\n",
       "|                3 | mobilenet-imagenet | $0.8877 \\pm 0.0099$                                                                            | $0.0374 \\pm 0.0012$                                                                              |\n",
       "|                3 | mobilenet-random   | $0.4541 \\pm 0.0156$                                                                            | $-0.0000 \\pm 0.0000$                                                                             |\n",
       "|                3 | resnext-saycam     | $0.9697 \\pm 0.0054$                                                                            | $0.0127 \\pm 0.0003$                                                                              |\n",
       "|                3 | resnext-imagenet   | $0.7383 \\pm 0.0137$                                                                            | $0.0195 \\pm 0.0010$                                                                              |\n",
       "|                3 | resnext-random     | $0.4678 \\pm 0.0156$                                                                            | $-0.0000 \\pm 0.0000$                                                                             |"
      ],
      "text/plain": [
       "<IPython.core.display.Markdown object>"
      ]
     },
     "metadata": {},
     "output_type": "display_data"
    },
    {
     "data": {
      "text/markdown": [
       "### Quinn-Split-Reference-Text-Above/Below"
      ],
      "text/plain": [
       "<IPython.core.display.Markdown object>"
      ]
     },
     "metadata": {},
     "output_type": "display_data"
    },
    {
     "data": {
      "text/markdown": [
       "|   # Target Types | Model              | Accuracy&nbsp; &nbsp; &nbsp; &nbsp; &nbsp; &nbsp; &nbsp; &nbsp; &nbsp; &nbsp; &nbsp; &nbsp;    | Difference&nbsp; &nbsp; &nbsp; &nbsp; &nbsp; &nbsp; &nbsp; &nbsp; &nbsp; &nbsp; &nbsp; &nbsp;    |\n",
       "|------------------|--------------------|------------------------------------------------------------------------------------------------|--------------------------------------------------------------------------------------------------|\n",
       "|                1 | mobilenet-saycam   | $0.9893 \\pm 0.0032$                                                                            | $0.0260 \\pm 0.0004$                                                                              |\n",
       "|                1 | mobilenet-imagenet | $0.9619 \\pm 0.0060$                                                                            | $0.0411 \\pm 0.0009$                                                                              |\n",
       "|                1 | mobilenet-random   | $0.4893 \\pm 0.0156$                                                                            | $-0.0000 \\pm 0.0000$                                                                             |\n",
       "|                1 | resnext-saycam     | $0.9941 \\pm 0.0024$                                                                            | $0.0342 \\pm 0.0004$                                                                              |\n",
       "|                1 | resnext-imagenet   | $0.9688 \\pm 0.0054$                                                                            | $0.0406 \\pm 0.0011$                                                                              |\n",
       "|                1 | resnext-random     | $0.5879 \\pm 0.0154$                                                                            | $0.0000 \\pm 0.0000$                                                                              |\n",
       "|                2 | mobilenet-saycam   | $0.9619 \\pm 0.0060$                                                                            | $0.0226 \\pm 0.0005$                                                                              |\n",
       "|                2 | mobilenet-imagenet | $0.8594 \\pm 0.0109$                                                                            | $0.0327 \\pm 0.0012$                                                                              |\n",
       "|                2 | mobilenet-random   | $0.4980 \\pm 0.0156$                                                                            | $-0.0000 \\pm 0.0000$                                                                             |\n",
       "|                2 | resnext-saycam     | $0.9834 \\pm 0.0040$                                                                            | $0.0301 \\pm 0.0005$                                                                              |\n",
       "|                2 | resnext-imagenet   | $0.7803 \\pm 0.0129$                                                                            | $0.0225 \\pm 0.0016$                                                                              |\n",
       "|                2 | resnext-random     | $0.5918 \\pm 0.0154$                                                                            | $0.0000 \\pm 0.0000$                                                                              |\n",
       "|                3 | mobilenet-saycam   | $0.8877 \\pm 0.0099$                                                                            | $0.0224 \\pm 0.0006$                                                                              |\n",
       "|                3 | mobilenet-imagenet | $0.7637 \\pm 0.0133$                                                                            | $0.0261 \\pm 0.0015$                                                                              |\n",
       "|                3 | mobilenet-random   | $0.4893 \\pm 0.0156$                                                                            | $-0.0000 \\pm 0.0000$                                                                             |\n",
       "|                3 | resnext-saycam     | $0.9648 \\pm 0.0058$                                                                            | $0.0279 \\pm 0.0005$                                                                              |\n",
       "|                3 | resnext-imagenet   | $0.6973 \\pm 0.0144$                                                                            | $0.0173 \\pm 0.0017$                                                                              |\n",
       "|                3 | resnext-random     | $0.5527 \\pm 0.0155$                                                                            | $0.0000 \\pm 0.0000$                                                                              |"
      ],
      "text/plain": [
       "<IPython.core.display.Markdown object>"
      ]
     },
     "metadata": {},
     "output_type": "display_data"
    }
   ],
   "source": [
    "display_multiple_model_results_multiple_types('Quinn Split Reference Text Target', quinn_generators_split_reference_text_results, tablefmt='github')"
   ]
  },
  {
   "cell_type": "code",
   "execution_count": 74,
   "metadata": {},
   "outputs": [],
   "source": [
    "def build_random_color_stimulus_generator(rng, cmap=cc.cm.glasbey, cmap_range=(0, 255),\n",
    "                                         target_size=20, reference_size=(10, 100)):\n",
    "    start_int = rng.integers(cmap_range[0], cmap_range[1] - 4)\n",
    "\n",
    "    blue_target_patch = matplotlib.patches.Circle((0, 0), target_size // 2, \n",
    "                                                  color=cmap(start_int))\n",
    "    red_target_patch = matplotlib.patches.Circle((0, 0), target_size // 2,\n",
    "                                                 color=cmap(start_int + 1))\n",
    "    green_target_patch = matplotlib.patches.Circle((0, 0), target_size // 2,\n",
    "                                                   color=cmap(start_int + 2))\n",
    "    reference_patch = matplotlib.patches.Ellipse((0, 0), width=reference_size[1], \n",
    "                                                 height=reference_size[0], \n",
    "                                                 color=cmap(start_int + 3))\n",
    "\n",
    "    blur_func = lambda x: cv2.blur(x, (5, 5))\n",
    "\n",
    "    return PatchStimulusGenerator(target_size, reference_size, \n",
    "                                  [blue_target_patch, red_target_patch, green_target_patch], \n",
    "                                  reference_patch, blur_func=blur_func)\n"
   ]
  },
  {
   "cell_type": "code",
   "execution_count": 151,
   "metadata": {
    "scrolled": false
   },
   "outputs": [
    {
     "name": "stdout",
     "output_type": "stream",
     "text": [
      "0\n",
      "Starting model mobilenet-saycam\n",
      "Starting model mobilenet-imagenet\n",
      "Starting model mobilenet-random\n",
      "Starting model resnext-saycam\n",
      "Starting model resnext-imagenet\n",
      "Starting model resnext-random\n",
      "1\n",
      "Starting model mobilenet-saycam\n",
      "Starting model mobilenet-imagenet\n",
      "Starting model mobilenet-random\n",
      "Starting model resnext-saycam\n",
      "Starting model resnext-imagenet\n",
      "Starting model resnext-random\n",
      "2\n",
      "Starting model mobilenet-saycam\n",
      "Starting model mobilenet-imagenet\n",
      "Starting model mobilenet-random\n",
      "Starting model resnext-saycam\n",
      "Starting model resnext-imagenet\n",
      "Starting model resnext-random\n",
      "3\n",
      "Starting model mobilenet-saycam\n",
      "Starting model mobilenet-imagenet\n",
      "Starting model mobilenet-random\n",
      "Starting model resnext-saycam\n",
      "Starting model resnext-imagenet\n",
      "Starting model resnext-random\n",
      "4\n",
      "Starting model mobilenet-saycam\n",
      "Starting model mobilenet-imagenet\n",
      "Starting model mobilenet-random\n",
      "Starting model resnext-saycam\n",
      "Starting model resnext-imagenet\n",
      "Starting model resnext-random\n",
      "5\n",
      "Starting model mobilenet-saycam\n",
      "Starting model mobilenet-imagenet\n",
      "Starting model mobilenet-random\n",
      "Starting model resnext-saycam\n",
      "Starting model resnext-imagenet\n",
      "Starting model resnext-random\n"
     ]
    },
    {
     "ename": "KeyboardInterrupt",
     "evalue": "",
     "output_type": "error",
     "traceback": [
      "\u001b[0;31m---------------------------------------------------------------------------\u001b[0m",
      "\u001b[0;31mKeyboardInterrupt\u001b[0m                         Traceback (most recent call last)",
      "\u001b[0;32m<ipython-input-151-910993ec113b>\u001b[0m in \u001b[0;36m<module>\u001b[0;34m\u001b[0m\n\u001b[1;32m     17\u001b[0m \u001b[0;34m\u001b[0m\u001b[0m\n\u001b[1;32m     18\u001b[0m     random_color_results.append(run_multiple_models_multiple_generators(\n\u001b[0;32m---> 19\u001b[0;31m         model_names, model_kwarg_dicts, random_color_names, random_color_triplet_generators, N))\n\u001b[0m",
      "\u001b[0;32m<ipython-input-116-c090fde215ee>\u001b[0m in \u001b[0;36mrun_multiple_models_multiple_generators\u001b[0;34m(model_names, model_kwarg_dicts, condition_names, condition_generators, N)\u001b[0m\n\u001b[1;32m      8\u001b[0m \u001b[0;34m\u001b[0m\u001b[0m\n\u001b[1;32m      9\u001b[0m         all_model_results[name] = quinn_embedding_task_multiple_generators(\n\u001b[0;32m---> 10\u001b[0;31m             name, model, condition_names, condition_generators, N=N)\n\u001b[0m\u001b[1;32m     11\u001b[0m \u001b[0;34m\u001b[0m\u001b[0m\n\u001b[1;32m     12\u001b[0m         \u001b[0;32mdel\u001b[0m \u001b[0mmodel\u001b[0m\u001b[0;34m\u001b[0m\u001b[0;34m\u001b[0m\u001b[0m\n",
      "\u001b[0;32m<ipython-input-55-9a2b9e425b3e>\u001b[0m in \u001b[0;36mquinn_embedding_task_multiple_generators\u001b[0;34m(model_name, model, condition_names, triplet_generators, metrics, N, batch_size)\u001b[0m\n\u001b[1;32m     45\u001b[0m     \u001b[0;32mfor\u001b[0m \u001b[0mname\u001b[0m\u001b[0;34m,\u001b[0m \u001b[0mtriplet_gen\u001b[0m \u001b[0;32min\u001b[0m \u001b[0mzip\u001b[0m\u001b[0;34m(\u001b[0m\u001b[0mcondition_names\u001b[0m\u001b[0;34m,\u001b[0m \u001b[0mtriplet_generators\u001b[0m\u001b[0;34m)\u001b[0m\u001b[0;34m:\u001b[0m\u001b[0;34m\u001b[0m\u001b[0;34m\u001b[0m\u001b[0m\n\u001b[1;32m     46\u001b[0m         results = quinn_embedding_task_single_generator(model, triplet_gen, metrics=metrics,\n\u001b[0;32m---> 47\u001b[0;31m                                                         N=N, batch_size=batch_size)\n\u001b[0m\u001b[1;32m     48\u001b[0m         all_results[name] = {metric.name: TaskResults(np.mean(results[metric.name]), \n\u001b[1;32m     49\u001b[0m                                                       np.std(results[metric.name]), N) \n",
      "\u001b[0;32m<ipython-input-55-9a2b9e425b3e>\u001b[0m in \u001b[0;36mquinn_embedding_task_single_generator\u001b[0;34m(model, triplet_generator, metrics, N, batch_size, use_tqdm)\u001b[0m\n\u001b[1;32m     23\u001b[0m         \u001b[0mx\u001b[0m \u001b[0;34m=\u001b[0m \u001b[0mb\u001b[0m\u001b[0;34m[\u001b[0m\u001b[0;36m0\u001b[0m\u001b[0;34m]\u001b[0m  \u001b[0;31m# shape (B, 3, 3, 224, 224)\u001b[0m\u001b[0;34m\u001b[0m\u001b[0;34m\u001b[0m\u001b[0m\n\u001b[1;32m     24\u001b[0m         \u001b[0mx\u001b[0m \u001b[0;34m=\u001b[0m \u001b[0mx\u001b[0m\u001b[0;34m.\u001b[0m\u001b[0mview\u001b[0m\u001b[0;34m(\u001b[0m\u001b[0;34m-\u001b[0m\u001b[0;36m1\u001b[0m\u001b[0;34m,\u001b[0m \u001b[0;34m*\u001b[0m\u001b[0mx\u001b[0m\u001b[0;34m.\u001b[0m\u001b[0mshape\u001b[0m\u001b[0;34m[\u001b[0m\u001b[0;36m2\u001b[0m\u001b[0;34m:\u001b[0m\u001b[0;34m]\u001b[0m\u001b[0;34m)\u001b[0m\u001b[0;34m\u001b[0m\u001b[0;34m\u001b[0m\u001b[0m\n\u001b[0;32m---> 25\u001b[0;31m         \u001b[0me\u001b[0m \u001b[0;34m=\u001b[0m \u001b[0mmodel\u001b[0m\u001b[0;34m(\u001b[0m\u001b[0mx\u001b[0m\u001b[0;34m.\u001b[0m\u001b[0mto\u001b[0m\u001b[0;34m(\u001b[0m\u001b[0mdevice\u001b[0m\u001b[0;34m)\u001b[0m\u001b[0;34m)\u001b[0m\u001b[0;34m.\u001b[0m\u001b[0mdetach\u001b[0m\u001b[0;34m(\u001b[0m\u001b[0;34m)\u001b[0m\u001b[0;34m.\u001b[0m\u001b[0mcpu\u001b[0m\u001b[0;34m(\u001b[0m\u001b[0;34m)\u001b[0m\u001b[0;34m\u001b[0m\u001b[0;34m\u001b[0m\u001b[0m\n\u001b[0m\u001b[1;32m     26\u001b[0m         \u001b[0me\u001b[0m \u001b[0;34m=\u001b[0m \u001b[0me\u001b[0m\u001b[0;34m.\u001b[0m\u001b[0mview\u001b[0m\u001b[0;34m(\u001b[0m\u001b[0mB\u001b[0m\u001b[0;34m,\u001b[0m \u001b[0;36m3\u001b[0m\u001b[0;34m,\u001b[0m \u001b[0;34m-\u001b[0m\u001b[0;36m1\u001b[0m\u001b[0;34m)\u001b[0m  \u001b[0;31m# shape (B, 3, Z)\u001b[0m\u001b[0;34m\u001b[0m\u001b[0;34m\u001b[0m\u001b[0m\n\u001b[1;32m     27\u001b[0m \u001b[0;34m\u001b[0m\u001b[0m\n",
      "\u001b[0;31mKeyboardInterrupt\u001b[0m: "
     ]
    }
   ],
   "source": [
    "C = 10\n",
    "N = 1024\n",
    "all_random_color_names = []\n",
    "all_random_color_triplet_generators = []\n",
    "random_color_results = []\n",
    "\n",
    "for c in range(C):\n",
    "    print(c)\n",
    "    rng = np.random.default_rng(c)\n",
    "    random_gen = build_random_color_stimulus_generator(rng)\n",
    "    \n",
    "    random_color_names, random_color_triplet_generators = create_generators_and_names(\n",
    "        QuinnTripletGenerator, random_gen, quinn_default_value_sets, name_func_kwargs=dict(base_name='Quinn-Random-Color'))\n",
    "    \n",
    "    all_random_color_names.append(random_color_names)\n",
    "    all_random_color_triplet_generators.append(random_color_triplet_generators)\n",
    "    \n",
    "    random_color_results.append(run_multiple_models_multiple_generators(\n",
    "        model_names, model_kwarg_dicts, random_color_names, random_color_triplet_generators, N))"
   ]
  },
  {
   "cell_type": "code",
   "execution_count": 77,
   "metadata": {
    "scrolled": true
   },
   "outputs": [
    {
     "data": {
      "text/markdown": [
       "## Quinn Random Color Replications Results"
      ],
      "text/plain": [
       "<IPython.core.display.Markdown object>"
      ]
     },
     "metadata": {},
     "output_type": "display_data"
    },
    {
     "data": {
      "text/markdown": [
       "### Quinn-Random-Color-Left/Right"
      ],
      "text/plain": [
       "<IPython.core.display.Markdown object>"
      ]
     },
     "metadata": {},
     "output_type": "display_data"
    },
    {
     "data": {
      "text/markdown": [
       "|   # Target Types | Model              | Accuracy&nbsp; &nbsp; &nbsp; &nbsp; &nbsp; &nbsp; &nbsp; &nbsp; &nbsp; &nbsp; &nbsp; &nbsp;    | Difference&nbsp; &nbsp; &nbsp; &nbsp; &nbsp; &nbsp; &nbsp; &nbsp; &nbsp; &nbsp; &nbsp; &nbsp;    |\n",
       "|------------------|--------------------|------------------------------------------------------------------------------------------------|--------------------------------------------------------------------------------------------------|\n",
       "|                1 | mobilenet-saycam   | $0.5137 \\pm 0.0000$                                                                            | $0.0004 \\pm 0.0000$                                                                              |\n",
       "|                1 | mobilenet-imagenet | $0.2959 \\pm 0.0000$                                                                            | $-0.0092 \\pm 0.0000$                                                                             |\n",
       "|                1 | mobilenet-random   | $0.4905 \\pm 0.0044$                                                                            | $-0.0000 \\pm 0.0000$                                                                             |\n",
       "|                1 | resnext-saycam     | $0.0654 \\pm 0.0000$                                                                            | $-0.0285 \\pm 0.0000$                                                                             |\n",
       "|                1 | resnext-imagenet   | $0.1260 \\pm 0.0000$                                                                            | $-0.0219 \\pm 0.0000$                                                                             |\n",
       "|                1 | resnext-random     | $0.5876 \\pm 0.0069$                                                                            | $0.0000 \\pm 0.0000$                                                                              |\n",
       "|                2 | mobilenet-saycam   | $0.4834 \\pm 0.0000$                                                                            | $0.0004 \\pm 0.0000$                                                                              |\n",
       "|                2 | mobilenet-imagenet | $0.2959 \\pm 0.0000$                                                                            | $-0.0114 \\pm 0.0000$                                                                             |\n",
       "|                2 | mobilenet-random   | $0.5003 \\pm 0.0035$                                                                            | $-0.0000 \\pm 0.0000$                                                                             |\n",
       "|                2 | resnext-saycam     | $0.1016 \\pm 0.0000$                                                                            | $-0.0278 \\pm 0.0000$                                                                             |\n",
       "|                2 | resnext-imagenet   | $0.1758 \\pm 0.0000$                                                                            | $-0.0206 \\pm 0.0000$                                                                             |\n",
       "|                2 | resnext-random     | $0.5795 \\pm 0.0076$                                                                            | $0.0000 \\pm 0.0000$                                                                              |\n",
       "|                3 | mobilenet-saycam   | $0.4922 \\pm 0.0000$                                                                            | $0.0012 \\pm 0.0000$                                                                              |\n",
       "|                3 | mobilenet-imagenet | $0.3613 \\pm 0.0000$                                                                            | $-0.0106 \\pm 0.0000$                                                                             |\n",
       "|                3 | mobilenet-random   | $0.4969 \\pm 0.0034$                                                                            | $-0.0000 \\pm 0.0000$                                                                             |\n",
       "|                3 | resnext-saycam     | $0.1230 \\pm 0.0000$                                                                            | $-0.0277 \\pm 0.0000$                                                                             |\n",
       "|                3 | resnext-imagenet   | $0.2207 \\pm 0.0000$                                                                            | $-0.0206 \\pm 0.0000$                                                                             |\n",
       "|                3 | resnext-random     | $0.5371 \\pm 0.0063$                                                                            | $0.0000 \\pm 0.0000$                                                                              |"
      ],
      "text/plain": [
       "<IPython.core.display.Markdown object>"
      ]
     },
     "metadata": {},
     "output_type": "display_data"
    },
    {
     "data": {
      "text/markdown": [
       "### Quinn-Random-Color-Between"
      ],
      "text/plain": [
       "<IPython.core.display.Markdown object>"
      ]
     },
     "metadata": {},
     "output_type": "display_data"
    },
    {
     "data": {
      "text/markdown": [
       "|   # Target Types | Model              | Accuracy&nbsp; &nbsp; &nbsp; &nbsp; &nbsp; &nbsp; &nbsp; &nbsp; &nbsp; &nbsp; &nbsp; &nbsp;    | Difference&nbsp; &nbsp; &nbsp; &nbsp; &nbsp; &nbsp; &nbsp; &nbsp; &nbsp; &nbsp; &nbsp; &nbsp;    |\n",
       "|------------------|--------------------|------------------------------------------------------------------------------------------------|--------------------------------------------------------------------------------------------------|\n",
       "|                1 | mobilenet-saycam   | $0.9766 \\pm 0.0000$                                                                            | $0.0392 \\pm 0.0000$                                                                              |\n",
       "|                1 | mobilenet-imagenet | $0.8887 \\pm 0.0000$                                                                            | $0.0303 \\pm 0.0000$                                                                              |\n",
       "|                1 | mobilenet-random   | $0.4791 \\pm 0.0110$                                                                            | $-0.0000 \\pm 0.0000$                                                                             |\n",
       "|                1 | resnext-saycam     | $0.9580 \\pm 0.0000$                                                                            | $0.0406 \\pm 0.0000$                                                                              |\n",
       "|                1 | resnext-imagenet   | $0.7949 \\pm 0.0000$                                                                            | $0.0152 \\pm 0.0000$                                                                              |\n",
       "|                1 | resnext-random     | $0.5109 \\pm 0.0071$                                                                            | $0.0000 \\pm 0.0000$                                                                              |\n",
       "|                2 | mobilenet-saycam   | $0.9473 \\pm 0.0000$                                                                            | $0.0369 \\pm 0.0000$                                                                              |\n",
       "|                2 | mobilenet-imagenet | $0.7998 \\pm 0.0000$                                                                            | $0.0256 \\pm 0.0000$                                                                              |\n",
       "|                2 | mobilenet-random   | $0.4636 \\pm 0.0124$                                                                            | $-0.0000 \\pm 0.0000$                                                                             |\n",
       "|                2 | resnext-saycam     | $0.9277 \\pm 0.0000$                                                                            | $0.0356 \\pm 0.0000$                                                                              |\n",
       "|                2 | resnext-imagenet   | $0.6826 \\pm 0.0000$                                                                            | $0.0114 \\pm 0.0000$                                                                              |\n",
       "|                2 | resnext-random     | $0.5499 \\pm 0.0096$                                                                            | $0.0000 \\pm 0.0000$                                                                              |\n",
       "|                3 | mobilenet-saycam   | $0.9541 \\pm 0.0000$                                                                            | $0.0361 \\pm 0.0000$                                                                              |\n",
       "|                3 | mobilenet-imagenet | $0.7793 \\pm 0.0000$                                                                            | $0.0286 \\pm 0.0000$                                                                              |\n",
       "|                3 | mobilenet-random   | $0.4874 \\pm 0.0096$                                                                            | $-0.0000 \\pm 0.0000$                                                                             |\n",
       "|                3 | resnext-saycam     | $0.9277 \\pm 0.0000$                                                                            | $0.0351 \\pm 0.0000$                                                                              |\n",
       "|                3 | resnext-imagenet   | $0.6504 \\pm 0.0000$                                                                            | $0.0122 \\pm 0.0000$                                                                              |\n",
       "|                3 | resnext-random     | $0.5326 \\pm 0.0071$                                                                            | $0.0000 \\pm 0.0000$                                                                              |"
      ],
      "text/plain": [
       "<IPython.core.display.Markdown object>"
      ]
     },
     "metadata": {},
     "output_type": "display_data"
    },
    {
     "data": {
      "text/markdown": [
       "### Quinn-Random-Color-Above/Below"
      ],
      "text/plain": [
       "<IPython.core.display.Markdown object>"
      ]
     },
     "metadata": {},
     "output_type": "display_data"
    },
    {
     "data": {
      "text/markdown": [
       "|   # Target Types | Model              | Accuracy&nbsp; &nbsp; &nbsp; &nbsp; &nbsp; &nbsp; &nbsp; &nbsp; &nbsp; &nbsp; &nbsp; &nbsp;    | Difference&nbsp; &nbsp; &nbsp; &nbsp; &nbsp; &nbsp; &nbsp; &nbsp; &nbsp; &nbsp; &nbsp; &nbsp;    |\n",
       "|------------------|--------------------|------------------------------------------------------------------------------------------------|--------------------------------------------------------------------------------------------------|\n",
       "|                1 | mobilenet-saycam   | $0.9990 \\pm 0.0000$                                                                            | $0.0945 \\pm 0.0000$                                                                              |\n",
       "|                1 | mobilenet-imagenet | $0.8867 \\pm 0.0000$                                                                            | $0.0361 \\pm 0.0000$                                                                              |\n",
       "|                1 | mobilenet-random   | $0.5005 \\pm 0.0050$                                                                            | $-0.0000 \\pm 0.0000$                                                                             |\n",
       "|                1 | resnext-saycam     | $1.0000 \\pm 0.0000$                                                                            | $0.1117 \\pm 0.0000$                                                                              |\n",
       "|                1 | resnext-imagenet   | $0.9404 \\pm 0.0000$                                                                            | $0.0406 \\pm 0.0000$                                                                              |\n",
       "|                1 | resnext-random     | $0.5991 \\pm 0.0078$                                                                            | $0.0000 \\pm 0.0000$                                                                              |\n",
       "|                2 | mobilenet-saycam   | $0.9961 \\pm 0.0000$                                                                            | $0.0860 \\pm 0.0000$                                                                              |\n",
       "|                2 | mobilenet-imagenet | $0.7715 \\pm 0.0000$                                                                            | $0.0280 \\pm 0.0000$                                                                              |\n",
       "|                2 | mobilenet-random   | $0.4939 \\pm 0.0042$                                                                            | $-0.0000 \\pm 0.0000$                                                                             |\n",
       "|                2 | resnext-saycam     | $0.9990 \\pm 0.0000$                                                                            | $0.1042 \\pm 0.0000$                                                                              |\n",
       "|                2 | resnext-imagenet   | $0.8135 \\pm 0.0000$                                                                            | $0.0278 \\pm 0.0000$                                                                              |\n",
       "|                2 | resnext-random     | $0.5981 \\pm 0.0086$                                                                            | $0.0000 \\pm 0.0000$                                                                              |\n",
       "|                3 | mobilenet-saycam   | $0.9951 \\pm 0.0000$                                                                            | $0.0861 \\pm 0.0000$                                                                              |\n",
       "|                3 | mobilenet-imagenet | $0.7539 \\pm 0.0000$                                                                            | $0.0313 \\pm 0.0000$                                                                              |\n",
       "|                3 | mobilenet-random   | $0.4991 \\pm 0.0056$                                                                            | $-0.0000 \\pm 0.0000$                                                                             |\n",
       "|                3 | resnext-saycam     | $0.9990 \\pm 0.0000$                                                                            | $0.1036 \\pm 0.0000$                                                                              |\n",
       "|                3 | resnext-imagenet   | $0.7588 \\pm 0.0000$                                                                            | $0.0303 \\pm 0.0000$                                                                              |\n",
       "|                3 | resnext-random     | $0.5482 \\pm 0.0063$                                                                            | $0.0000 \\pm 0.0000$                                                                              |"
      ],
      "text/plain": [
       "<IPython.core.display.Markdown object>"
      ]
     },
     "metadata": {},
     "output_type": "display_data"
    },
    {
     "data": {
      "text/markdown": [
       "### Quinn-Random-Color-Between-sideways"
      ],
      "text/plain": [
       "<IPython.core.display.Markdown object>"
      ]
     },
     "metadata": {},
     "output_type": "display_data"
    },
    {
     "data": {
      "text/markdown": [
       "|   # Target Types | Model              | Accuracy&nbsp; &nbsp; &nbsp; &nbsp; &nbsp; &nbsp; &nbsp; &nbsp; &nbsp; &nbsp; &nbsp; &nbsp;    | Difference&nbsp; &nbsp; &nbsp; &nbsp; &nbsp; &nbsp; &nbsp; &nbsp; &nbsp; &nbsp; &nbsp; &nbsp;    |\n",
       "|------------------|--------------------|------------------------------------------------------------------------------------------------|--------------------------------------------------------------------------------------------------|\n",
       "|                1 | mobilenet-saycam   | $0.5879 \\pm 0.0000$                                                                            | $0.0029 \\pm 0.0000$                                                                              |\n",
       "|                1 | mobilenet-imagenet | $0.2910 \\pm 0.0000$                                                                            | $-0.0110 \\pm 0.0000$                                                                             |\n",
       "|                1 | mobilenet-random   | $0.4734 \\pm 0.0188$                                                                            | $-0.0000 \\pm 0.0000$                                                                             |\n",
       "|                1 | resnext-saycam     | $0.1787 \\pm 0.0000$                                                                            | $-0.0187 \\pm 0.0000$                                                                             |\n",
       "|                1 | resnext-imagenet   | $0.2861 \\pm 0.0000$                                                                            | $-0.0103 \\pm 0.0000$                                                                             |\n",
       "|                1 | resnext-random     | $0.5010 \\pm 0.0068$                                                                            | $-0.0000 \\pm 0.0000$                                                                             |\n",
       "|                2 | mobilenet-saycam   | $0.5527 \\pm 0.0000$                                                                            | $0.0051 \\pm 0.0000$                                                                              |\n",
       "|                2 | mobilenet-imagenet | $0.3291 \\pm 0.0000$                                                                            | $-0.0108 \\pm 0.0000$                                                                             |\n",
       "|                2 | mobilenet-random   | $0.4680 \\pm 0.0180$                                                                            | $-0.0000 \\pm 0.0000$                                                                             |\n",
       "|                2 | resnext-saycam     | $0.1855 \\pm 0.0000$                                                                            | $-0.0196 \\pm 0.0000$                                                                             |\n",
       "|                2 | resnext-imagenet   | $0.3057 \\pm 0.0000$                                                                            | $-0.0102 \\pm 0.0000$                                                                             |\n",
       "|                2 | resnext-random     | $0.5310 \\pm 0.0086$                                                                            | $0.0000 \\pm 0.0000$                                                                              |\n",
       "|                3 | mobilenet-saycam   | $0.5693 \\pm 0.0000$                                                                            | $0.0055 \\pm 0.0000$                                                                              |\n",
       "|                3 | mobilenet-imagenet | $0.3447 \\pm 0.0000$                                                                            | $-0.0106 \\pm 0.0000$                                                                             |\n",
       "|                3 | mobilenet-random   | $0.4837 \\pm 0.0140$                                                                            | $-0.0000 \\pm 0.0000$                                                                             |\n",
       "|                3 | resnext-saycam     | $0.1963 \\pm 0.0000$                                                                            | $-0.0186 \\pm 0.0000$                                                                             |\n",
       "|                3 | resnext-imagenet   | $0.3262 \\pm 0.0000$                                                                            | $-0.0107 \\pm 0.0000$                                                                             |\n",
       "|                3 | resnext-random     | $0.5230 \\pm 0.0074$                                                                            | $0.0000 \\pm 0.0000$                                                                              |"
      ],
      "text/plain": [
       "<IPython.core.display.Markdown object>"
      ]
     },
     "metadata": {},
     "output_type": "display_data"
    }
   ],
   "source": [
    "display_multiple_model_results_multiple_types_replications('Quinn Random Color Replications', random_color_results)"
   ]
  },
  {
   "cell_type": "code",
   "execution_count": null,
   "metadata": {},
   "outputs": [],
   "source": []
  },
  {
   "cell_type": "code",
   "execution_count": 121,
   "metadata": {},
   "outputs": [],
   "source": [
    "MODEL_ORDERS = [f'{model}-{dataset}' for (dataset, model) \n",
    "                in itertools.product(('saycam', 'imagenet', 'random'), ('mobilenet', 'resnext'))]\n",
    "\n",
    "HEADERS = ['Stimulus Rendering', 'Target Type'] + MODEL_ORDERS\n",
    "\n",
    "PRETTY_NAMES = {\n",
    "    'Quinn-Split-Reference-Text': 'Quinn-like',\n",
    "    'Quinn-Diff-Shapes': 'Different Shapes',\n",
    "    'Quinn-Random-Color': 'Different Colors'\n",
    "}\n",
    "\n",
    "\n",
    "def prettify(text):\n",
    "    if text in PRETTY_NAMES:\n",
    "        return PRETTY_NAMES[text]\n",
    "    \n",
    "    return text\n",
    "\n",
    "\n",
    "def parse_condition_name(name):\n",
    "    name = name.replace('Between-sideways', 'VerticalBetween')\n",
    "    n_types = int(name[-7])\n",
    "    name_without_types = name[:-8]\n",
    "    condition, relation = name_without_types.rsplit('-', 1)\n",
    "        \n",
    "    return prettify(relation), prettify(condition), n_types\n",
    "\n",
    "\n",
    "def format_result_or_result_list(task_result_or_list, print_std=True):\n",
    "    if isinstance(task_result_or_list, list):\n",
    "        return format_replication_results(task_result_or_list, print_std=print_std)\n",
    "    \n",
    "    return format_results(task_result_or_list, print_std=print_std)\n",
    "\n",
    "\n",
    "\n",
    "def format_condition(condition, prev_condition):\n",
    "    if condition == prev_condition:\n",
    "        return ''\n",
    "    \n",
    "    return f'\\\\multirow{{2}}{{*}}{{\\\\textbf{{ {condition} }}}}'\n",
    "\n",
    "\n",
    "def table_per_relation_multiple_results(all_results, tablefmt='github', model_orders=MODEL_ORDERS, \n",
    "                                        n_types_to_print=(1, 2), headers=HEADERS, print_std=True):\n",
    "    models_datasets = list(all_results[0].keys())\n",
    "    \n",
    "    results_by_relation = defaultdict(lambda: defaultdict(lambda: defaultdict(dict)))\n",
    "    \n",
    "    for result_set in all_results:\n",
    "        # TODO: handle the case where it's a list and I need to average over it\n",
    "        if isinstance(result_set, list):\n",
    "            for result_set_replication in result_set:\n",
    "                for model_and_dataset, model_and_dataset_results in result_set_replication.items():\n",
    "                    for full_condition_name, condition_results in model_and_dataset_results.items():\n",
    "                        relation, condition, n_types = parse_condition_name(full_condition_name)\n",
    "                        if model_and_dataset not in results_by_relation[relation][condition][n_types]:\n",
    "                            results_by_relation[relation][condition][n_types][model_and_dataset] = []\n",
    "                        results_by_relation[relation][condition][n_types][model_and_dataset].append(condition_results['Accuracy'])\n",
    "            \n",
    "        # it's a dict\n",
    "        else:\n",
    "            for model_and_dataset, model_and_dataset_results in result_set.items():\n",
    "                for full_condition_name, condition_results in model_and_dataset_results.items():\n",
    "                    relation, condition, n_types = parse_condition_name(full_condition_name)\n",
    "                    results_by_relation[relation][condition][n_types][model_and_dataset] = condition_results['Accuracy']\n",
    "                \n",
    "    # parse out results by relation to a set of tables\n",
    "    \n",
    "    for relation, relation_results in results_by_relation.items():\n",
    "        display(Markdown(f'## {relation}'))\n",
    "        rows = []\n",
    "        prev_condition = None\n",
    "        for condition, condition_results in relation_results.items():\n",
    "            for n_types in n_types_to_print:\n",
    "                condition_and_n_types_results = condition_results[n_types]\n",
    "                types_name = n_types == 1 and 'Same Target' or 'Different Target'\n",
    "                formatted_condition = format_condition(condition, prev_condition)\n",
    "                prev_condition = condition\n",
    "                row = [formatted_condition, types_name] + [format_result_or_result_list(condition_and_n_types_results[model_and_dataset], \n",
    "                                                                                        print_std=print_std) \n",
    "                                                           for model_and_dataset in model_orders]\n",
    "                rows.append(row) \n",
    "            \n",
    "        display(Markdown(tabulate.tabulate(rows, headers, tablefmt=tablefmt)))\n",
    "    "
   ]
  },
  {
   "cell_type": "code",
   "execution_count": null,
   "metadata": {},
   "outputs": [],
   "source": [
    "result_set = (quinn_generators_split_reference_text_results, \n",
    "              quinn_generators_different_shapes_results,\n",
    "              random_color_results)\n",
    "table_per_relation_multiple_results(result_set, print_std=False, tablefmt='latex_raw')"
   ]
  },
  {
   "cell_type": "code",
   "execution_count": null,
   "metadata": {},
   "outputs": [],
   "source": []
  },
  {
   "cell_type": "code",
   "execution_count": null,
   "metadata": {},
   "outputs": [],
   "source": []
  },
  {
   "cell_type": "code",
   "execution_count": null,
   "metadata": {},
   "outputs": [],
   "source": []
  },
  {
   "cell_type": "code",
   "execution_count": null,
   "metadata": {},
   "outputs": [],
   "source": []
  },
  {
   "cell_type": "code",
   "execution_count": 178,
   "metadata": {},
   "outputs": [
    {
     "data": {
      "image/png": "[encoded data removed]",
      "text/plain": [
       "<Figure size 3600x1890 with 18 Axes>"
      ]
     },
     "metadata": {},
     "output_type": "display_data"
    }
   ],
   "source": [
    "c = 23\n",
    "rng = np.random.default_rng(c)\n",
    "random_gen = build_random_color_stimulus_generator(rng)\n",
    "\n",
    "random_color_names, random_color_triplet_generators = create_generators_and_names(\n",
    "    QuinnTripletGenerator, random_gen, quinn_default_value_sets, name_func_kwargs=dict(base_name='Quinn-Random-Color'))\n",
    "\n",
    "\n",
    "\n",
    "triplet_generator_lists = (quinn_split_reference_text_triplet_generators, \n",
    "                           quinn_different_shape_triplet_generators,\n",
    "                           random_color_triplet_generators, )\n",
    "N_rows = len(triplet_generator_lists)\n",
    "\n",
    "fig = plt.figure(figsize=(18, 3.15 * N_rows), dpi=200)\n",
    "\n",
    "row = 0\n",
    "for triplet_generator_list in triplet_generator_lists:\n",
    "    col = 0\n",
    "    for trip_gen in triplet_generator_list:\n",
    "        if trip_gen.n_target_types == 2 and not trip_gen.transpose:\n",
    "            triplet = trip_gen(1, normalize=False)\n",
    "            for sub_col in range(3):\n",
    "                ax = plt.subplot(N_rows, 6, (row * 6) + (col * 3) + sub_col + 1)\n",
    "                ax.imshow(triplet[0, sub_col].permute(1, 2, 0).numpy())\n",
    "                ax.get_xaxis().set_ticks([])\n",
    "                ax.get_yaxis().set_ticks([])\n",
    "                if row == 0 and sub_col == 1:\n",
    "                    if col == 0:\n",
    "                        ax.set_title('$\\\\it{Above/Below}$', fontsize=20)\n",
    "                    else:\n",
    "                        ax.set_title('$\\\\it{Between}$', fontsize=20)\n",
    "            \n",
    "            col += 1\n",
    "        \n",
    "    row += 1\n",
    "        \n",
    "fig.text(0.5, .99, 'Quinn-Like', fontsize=24,\n",
    "        horizontalalignment='center', verticalalignment='center',)\n",
    "\n",
    "fig.text(0.5, 0.7, 'Geometric Shapes', fontsize=24,\n",
    "        horizontalalignment='center', verticalalignment='center',)\n",
    "        \n",
    "fig.text(0.5, 0.41, 'Colors', fontsize=24,\n",
    "        horizontalalignment='center', verticalalignment='center',)\n",
    "fig.subplots_adjust(wspace=0.1, hspace=0.06, top=0.99)\n",
    "\n",
    "save_plot('exp2_example_stimuli.pdf')\n",
    "\n",
    "plt.show()"
   ]
  },
  {
   "cell_type": "code",
   "execution_count": null,
   "metadata": {},
   "outputs": [],
   "source": []
  }
 ],
 "metadata": {
  "kernelspec": {
   "display_name": "Python [conda env:rainbow] *",
   "language": "python",
   "name": "conda-env-rainbow-py"
  },
  "language_info": {
   "codemirror_mode": {
    "name": "ipython",
    "version": 3
   },
   "file_extension": ".py",
   "mimetype": "text/x-python",
   "name": "python",
   "nbconvert_exporter": "python",
   "pygments_lexer": "ipython3",
   "version": "3.7.4"
  }
 },
 "nbformat": 4,
 "nbformat_minor": 2
}
