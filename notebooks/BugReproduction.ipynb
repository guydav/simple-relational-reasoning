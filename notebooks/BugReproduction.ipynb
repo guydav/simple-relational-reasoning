{
 "cells": [
  {
   "cell_type": "code",
   "execution_count": 1,
   "metadata": {},
   "outputs": [],
   "source": [
    "import os\n",
    "import sys\n",
    "sys.path.append(os.path.abspath('.'))\n",
    "sys.path.append(os.path.abspath('..'))\n",
    "sys.path.append(os.path.abspath('../run'))\n",
    "\n",
    "from collections import defaultdict\n",
    "import itertools\n",
    "import numpy as np\n",
    "import matplotlib\n",
    "import matplotlib.pyplot as plt\n",
    "from scipy import stats\n",
    "import typing\n",
    "import pandas as pd\n",
    "from tqdm.notebook import tqdm\n",
    "import time\n",
    "\n",
    "from torchvision.transforms import functional as F\n",
    "\n",
    "from IPython.display import display, Markdown\n",
    "\n",
    "from simple_relational_reasoning.embeddings.stimuli import build_differet_shapes_stimulus_generator, build_split_text_stimulus_generator, build_random_color_stimulus_generator,\\\n",
    "    find_non_empty_indices, EMPTY_TENSOR_PIXEL\n",
    "from simple_relational_reasoning.embeddings.triplets import QuinnTripletGenerator, ABOVE_BELOW_RELATION, BETWEEN_RELATION\n",
    "from simple_relational_reasoning.embeddings.visualizations import filter_and_group, DEFAULT_TEXT_KWARGS, save_plot"
   ]
  },
  {
   "cell_type": "code",
   "execution_count": 3,
   "metadata": {},
   "outputs": [
    {
     "data": {
      "application/vnd.jupyter.widget-view+json": {
       "model_id": "5b9abbf64a594f97ab43fa9af74fd710",
       "version_major": 2,
       "version_minor": 0
      },
      "text/plain": [
       "  0%|          | 0/10 [00:00<?, ?it/s]"
      ]
     },
     "metadata": {},
     "output_type": "display_data"
    },
    {
     "name": "stdout",
     "output_type": "stream",
     "text": [
      "0\n"
     ]
    },
    {
     "ename": "",
     "evalue": "",
     "output_type": "error",
     "traceback": [
      "\u001b[1;31mFailed to interrupt the Kernel. \n",
      "Canceled. \n",
      "View Jupyter <a href='command:jupyter.viewOutput'>log</a> for further details."
     ]
    },
    {
     "name": "stderr",
     "output_type": "stream",
     "text": [
      "Traceback (most recent call last):\n",
      "  File \"_pydevd_bundle/pydevd_cython.pyx\", line 1081, in _pydevd_bundle.pydevd_cython.PyDBFrame.trace_dispatch\n",
      "  File \"_pydevd_bundle/pydevd_cython.pyx\", line 297, in _pydevd_bundle.pydevd_cython.PyDBFrame.do_wait_suspend\n",
      "  File \"/Users/guydavidson/opt/anaconda3/envs/debugPyLatest/lib/python3.9/site-packages/debugpy/_vendored/pydevd/pydevd.py\", line 2023, in do_wait_suspend\n",
      "    keep_suspended = self._do_wait_suspend(thread, frame, event, arg, suspend_type, from_this_thread, frames_tracker)\n",
      "  File \"/Users/guydavidson/opt/anaconda3/envs/debugPyLatest/lib/python3.9/site-packages/debugpy/_vendored/pydevd/pydevd.py\", line 2059, in _do_wait_suspend\n",
      "    time.sleep(0.01)\n",
      "KeyboardInterrupt\n"
     ]
    },
    {
     "ename": "KeyboardInterrupt",
     "evalue": "",
     "output_type": "error",
     "traceback": [
      "\u001b[0;31m---------------------------------------------------------------------------\u001b[0m",
      "\u001b[0;31mKeyboardInterrupt\u001b[0m                         Traceback (most recent call last)",
      "\u001b[1;32m/Users/guydavidson/projects/simple-relational-reasoning/notebooks/BugReproduction.ipynb Cell 2'\u001b[0m in \u001b[0;36m<cell line: 7>\u001b[0;34m()\u001b[0m\n\u001b[1;32m      <a href='vscode-notebook-cell:/Users/guydavidson/projects/simple-relational-reasoning/notebooks/BugReproduction.ipynb#ch0000005?line=4'>5</a>\u001b[0m     \u001b[39miter\u001b[39m \u001b[39m=\u001b[39m tqdm(\u001b[39miter\u001b[39m)\n\u001b[1;32m      <a href='vscode-notebook-cell:/Users/guydavidson/projects/simple-relational-reasoning/notebooks/BugReproduction.ipynb#ch0000005?line=6'>7</a>\u001b[0m \u001b[39mfor\u001b[39;00m i \u001b[39min\u001b[39;00m \u001b[39miter\u001b[39m:\n\u001b[0;32m----> <a href='vscode-notebook-cell:/Users/guydavidson/projects/simple-relational-reasoning/notebooks/BugReproduction.ipynb#ch0000005?line=7'>8</a>\u001b[0m     time\u001b[39m.\u001b[39msleep(\u001b[39m0.1\u001b[39m)\n\u001b[1;32m      <a href='vscode-notebook-cell:/Users/guydavidson/projects/simple-relational-reasoning/notebooks/BugReproduction.ipynb#ch0000005?line=8'>9</a>\u001b[0m     \u001b[39mprint\u001b[39m(i)\n",
      "\u001b[1;32m/Users/guydavidson/projects/simple-relational-reasoning/notebooks/BugReproduction.ipynb Cell 2'\u001b[0m in \u001b[0;36m<cell line: 7>\u001b[0;34m()\u001b[0m\n\u001b[1;32m      <a href='vscode-notebook-cell:/Users/guydavidson/projects/simple-relational-reasoning/notebooks/BugReproduction.ipynb#ch0000005?line=4'>5</a>\u001b[0m     \u001b[39miter\u001b[39m \u001b[39m=\u001b[39m tqdm(\u001b[39miter\u001b[39m)\n\u001b[1;32m      <a href='vscode-notebook-cell:/Users/guydavidson/projects/simple-relational-reasoning/notebooks/BugReproduction.ipynb#ch0000005?line=6'>7</a>\u001b[0m \u001b[39mfor\u001b[39;00m i \u001b[39min\u001b[39;00m \u001b[39miter\u001b[39m:\n\u001b[0;32m----> <a href='vscode-notebook-cell:/Users/guydavidson/projects/simple-relational-reasoning/notebooks/BugReproduction.ipynb#ch0000005?line=7'>8</a>\u001b[0m     time\u001b[39m.\u001b[39msleep(\u001b[39m0.1\u001b[39m)\n\u001b[1;32m      <a href='vscode-notebook-cell:/Users/guydavidson/projects/simple-relational-reasoning/notebooks/BugReproduction.ipynb#ch0000005?line=8'>9</a>\u001b[0m     \u001b[39mprint\u001b[39m(i)\n",
      "File \u001b[0;32m_pydevd_bundle/pydevd_cython.pyx:1366\u001b[0m, in \u001b[0;36m_pydevd_bundle.pydevd_cython.SafeCallWrapper.__call__\u001b[0;34m()\u001b[0m\n",
      "File \u001b[0;32m_pydevd_bundle/pydevd_cython.pyx:662\u001b[0m, in \u001b[0;36m_pydevd_bundle.pydevd_cython.PyDBFrame.trace_dispatch\u001b[0;34m()\u001b[0m\n",
      "File \u001b[0;32m_pydevd_bundle/pydevd_cython.pyx:1090\u001b[0m, in \u001b[0;36m_pydevd_bundle.pydevd_cython.PyDBFrame.trace_dispatch\u001b[0;34m()\u001b[0m\n",
      "File \u001b[0;32m_pydevd_bundle/pydevd_cython.pyx:1081\u001b[0m, in \u001b[0;36m_pydevd_bundle.pydevd_cython.PyDBFrame.trace_dispatch\u001b[0;34m()\u001b[0m\n",
      "File \u001b[0;32m_pydevd_bundle/pydevd_cython.pyx:297\u001b[0m, in \u001b[0;36m_pydevd_bundle.pydevd_cython.PyDBFrame.do_wait_suspend\u001b[0;34m()\u001b[0m\n",
      "File \u001b[0;32m~/opt/anaconda3/envs/debugPyLatest/lib/python3.9/site-packages/debugpy/_vendored/pydevd/pydevd.py:2023\u001b[0m, in \u001b[0;36mPyDB.do_wait_suspend\u001b[0;34m(self, thread, frame, event, arg, exception_type)\u001b[0m\n\u001b[1;32m   <a href='file:///Users/guydavidson/opt/anaconda3/envs/debugPyLatest/lib/python3.9/site-packages/debugpy/_vendored/pydevd/pydevd.py?line=2019'>2020</a>\u001b[0m             from_this_thread\u001b[39m.\u001b[39mappend(frame_custom_thread_id)\n\u001b[1;32m   <a href='file:///Users/guydavidson/opt/anaconda3/envs/debugPyLatest/lib/python3.9/site-packages/debugpy/_vendored/pydevd/pydevd.py?line=2021'>2022</a>\u001b[0m     \u001b[39mwith\u001b[39;00m \u001b[39mself\u001b[39m\u001b[39m.\u001b[39m_threads_suspended_single_notification\u001b[39m.\u001b[39mnotify_thread_suspended(thread_id, stop_reason):\n\u001b[0;32m-> <a href='file:///Users/guydavidson/opt/anaconda3/envs/debugPyLatest/lib/python3.9/site-packages/debugpy/_vendored/pydevd/pydevd.py?line=2022'>2023</a>\u001b[0m         keep_suspended \u001b[39m=\u001b[39m \u001b[39mself\u001b[39;49m\u001b[39m.\u001b[39;49m_do_wait_suspend(thread, frame, event, arg, suspend_type, from_this_thread, frames_tracker)\n\u001b[1;32m   <a href='file:///Users/guydavidson/opt/anaconda3/envs/debugPyLatest/lib/python3.9/site-packages/debugpy/_vendored/pydevd/pydevd.py?line=2024'>2025</a>\u001b[0m frames_list \u001b[39m=\u001b[39m \u001b[39mNone\u001b[39;00m\n\u001b[1;32m   <a href='file:///Users/guydavidson/opt/anaconda3/envs/debugPyLatest/lib/python3.9/site-packages/debugpy/_vendored/pydevd/pydevd.py?line=2026'>2027</a>\u001b[0m \u001b[39mif\u001b[39;00m keep_suspended:\n\u001b[1;32m   <a href='file:///Users/guydavidson/opt/anaconda3/envs/debugPyLatest/lib/python3.9/site-packages/debugpy/_vendored/pydevd/pydevd.py?line=2027'>2028</a>\u001b[0m     \u001b[39m# This means that we should pause again after a set next statement.\u001b[39;00m\n",
      "File \u001b[0;32m~/opt/anaconda3/envs/debugPyLatest/lib/python3.9/site-packages/debugpy/_vendored/pydevd/pydevd.py:2059\u001b[0m, in \u001b[0;36mPyDB._do_wait_suspend\u001b[0;34m(self, thread, frame, event, arg, suspend_type, from_this_thread, frames_tracker)\u001b[0m\n\u001b[1;32m   <a href='file:///Users/guydavidson/opt/anaconda3/envs/debugPyLatest/lib/python3.9/site-packages/debugpy/_vendored/pydevd/pydevd.py?line=2055'>2056</a>\u001b[0m         \u001b[39mself\u001b[39m\u001b[39m.\u001b[39m_call_input_hook()\n\u001b[1;32m   <a href='file:///Users/guydavidson/opt/anaconda3/envs/debugPyLatest/lib/python3.9/site-packages/debugpy/_vendored/pydevd/pydevd.py?line=2057'>2058</a>\u001b[0m     \u001b[39mself\u001b[39m\u001b[39m.\u001b[39mprocess_internal_commands()\n\u001b[0;32m-> <a href='file:///Users/guydavidson/opt/anaconda3/envs/debugPyLatest/lib/python3.9/site-packages/debugpy/_vendored/pydevd/pydevd.py?line=2058'>2059</a>\u001b[0m     time\u001b[39m.\u001b[39;49msleep(\u001b[39m0.01\u001b[39;49m)\n\u001b[1;32m   <a href='file:///Users/guydavidson/opt/anaconda3/envs/debugPyLatest/lib/python3.9/site-packages/debugpy/_vendored/pydevd/pydevd.py?line=2060'>2061</a>\u001b[0m \u001b[39mself\u001b[39m\u001b[39m.\u001b[39mcancel_async_evaluation(get_current_thread_id(thread), \u001b[39mstr\u001b[39m(\u001b[39mid\u001b[39m(frame)))\n\u001b[1;32m   <a href='file:///Users/guydavidson/opt/anaconda3/envs/debugPyLatest/lib/python3.9/site-packages/debugpy/_vendored/pydevd/pydevd.py?line=2062'>2063</a>\u001b[0m \u001b[39m# process any stepping instructions\u001b[39;00m\n",
      "\u001b[0;31mKeyboardInterrupt\u001b[0m: "
     ]
    }
   ],
   "source": [
    "use_tqdm = True\n",
    "\n",
    "iter = range(10)\n",
    "if use_tqdm:\n",
    "    iter = tqdm(iter)\n",
    "\n",
    "for i in iter:\n",
    "    time.sleep(0.1)\n",
    "    print(i)\n",
    "    "
   ]
  },
  {
   "cell_type": "code",
   "execution_count": 2,
   "metadata": {},
   "outputs": [],
   "source": [
    "BASELINE_TRIPLET_KWARGS = dict(n_target_types=2, extra_diagonal_margin=0)\n",
    "\n",
    "def parse_above_below_condition(df):\n",
    "    above_below_types = []\n",
    "\n",
    "    for _, (relation, two_refs, adjacent_refs) in \\\n",
    "        df.loc[:, ['relation', 'two_reference_objects', 'adjacent_reference_objects']].iterrows():\n",
    "        a_b_type = None\n",
    "\n",
    "        if relation == 'above_below':\n",
    "            if not two_refs:\n",
    "                a_b_type = 'one_reference'\n",
    "\n",
    "            elif adjacent_refs:\n",
    "                a_b_type = 'adjacent_references'\n",
    "\n",
    "            else:\n",
    "                a_b_type = 'gapped_references'\n",
    "\n",
    "        above_below_types.append(a_b_type)\n",
    "\n",
    "    return df.assign(above_below_type=above_below_types)\n",
    "\n",
    "\n",
    "GENERATOR_NAMES = ('color bar', 'split text', 'random colors')\n",
    "\n",
    "\n",
    "def create_stimulus_generators_and_names(names=GENERATOR_NAMES, seed=None, **kwargs):\n",
    "    rng = np.random.default_rng(seed if seed is not None else np.random.randint(0, 2**32))\n",
    "\n",
    "    generators = (\n",
    "        build_differet_shapes_stimulus_generator(rng=rng, **kwargs), \n",
    "        \n",
    "        build_split_text_stimulus_generator(\n",
    "            # reference_box_size=10,\n",
    "            # total_reference_size=(10, 140), n_reference_patches=8,\n",
    "            # reference_patch_kwargs=dict(ylim=(-70, 70)),\n",
    "            rng=rng, **kwargs),\n",
    "        build_random_color_stimulus_generator(rng=rng, **kwargs)\n",
    "    )\n",
    "    \n",
    "    return zip(generators, names)"
   ]
  },
  {
   "cell_type": "code",
   "execution_count": 3,
   "metadata": {},
   "outputs": [],
   "source": [
    "DATA_PATH = 'centroid_sizes.csv'\n",
    "LIST_COLUMNS = [\n",
    "    'row_centroids', 'col_centroids', \n",
    "    'first_non_empty_row', 'last_non_empty_row', \n",
    "    'first_non_empty_col', 'last_non_empty_col'\n",
    "]\n",
    "COLUMNS = [\n",
    "    'relation', 'two_reference_objects', \n",
    "    'adjacent_reference_objects', 'transpose', \n",
    "    'n_habituation_stimuli', 'rotate_angle', 'stimulus_generator'\n",
    "] + LIST_COLUMNS\n",
    "N_examples = 100\n",
    "ANGLES = [0, 30, 45, 60, 90, 120, 135, 150]\n",
    "\n",
    "OPTION_SET = (\n",
    "    (ABOVE_BELOW_RELATION, BETWEEN_RELATION),\n",
    "    (False, True),\n",
    "    (False, True),\n",
    "    (False, True),\n",
    "    [1, 4],\n",
    "    ANGLES\n",
    ") \n",
    "\n",
    "DISTANCE_ENDPOINTS_DICT = {\n",
    "    (ABOVE_BELOW_RELATION, False, False): (30, 80),\n",
    "    (ABOVE_BELOW_RELATION, True, False): (60, 115),\n",
    "    (ABOVE_BELOW_RELATION, True, True): (40, 80),\n",
    "    (BETWEEN_RELATION, True, False): (50, 80),\n",
    "}\n"
   ]
  },
  {
   "cell_type": "code",
   "execution_count": 4,
   "metadata": {},
   "outputs": [
    {
     "data": {
      "application/vnd.jupyter.widget-view+json": {
       "model_id": "c0cf75b70e034e8bbdcc59be16819c64",
       "version_major": 2,
       "version_minor": 0
      },
      "text/plain": [
       "  0%|          | 0/256 [00:00<?, ?it/s]"
      ]
     },
     "metadata": {},
     "output_type": "display_data"
    },
    {
     "name": "stdout",
     "output_type": "stream",
     "text": [
      "relation=above_below two_refs=False adj_refs=False transpose=False n_hs=1 angle=0 endpoints=(30, 80)\n",
      "Ignoring kwargs: {'rng': Generator(PCG64) at 0x111754F20}\n",
      "Ignoring kwargs: {'rng': Generator(PCG64) at 0x111754F20}\n"
     ]
    }
   ],
   "source": [
    "generate_data = True\n",
    "use_tqdm = True\n",
    "i = 0\n",
    "\n",
    "if generate_data:\n",
    "    total_options = np.prod([len(v) for v in OPTION_SET])\n",
    "    option_iter = itertools.product(*OPTION_SET)\n",
    "\n",
    "    if use_tqdm:\n",
    "        option_iter = tqdm(option_iter, total=total_options)\n",
    "\n",
    "    data_rows = []\n",
    "\n",
    "    for relation, two_reference_objects, adjacent_reference_objects, transpose, n_habituation_stimuli, rotate_angle in option_iter:\n",
    "        if (relation == ABOVE_BELOW_RELATION) and not two_reference_objects and adjacent_reference_objects:\n",
    "            continue\n",
    "\n",
    "        if (relation == BETWEEN_RELATION) and ((not two_reference_objects) or adjacent_reference_objects):\n",
    "            continue\n",
    "\n",
    "        distance_endpoints = DISTANCE_ENDPOINTS_DICT[(relation, two_reference_objects, adjacent_reference_objects)]\n",
    "\n",
    "        print(f'relation={relation} two_refs={two_reference_objects} adj_refs={adjacent_reference_objects} transpose={transpose} n_hs={n_habituation_stimuli} angle={rotate_angle} endpoints={distance_endpoints}')\n",
    "\n",
    "        if i >= 2:\n",
    "            break\n",
    "\n",
    "        i += 1\n",
    "\n",
    "        for stimulus_generator, generator_name in create_stimulus_generators_and_names(rotate_angle=rotate_angle):\n",
    "            triplet_generator = QuinnTripletGenerator(stimulus_generator, distance_endpoints,\n",
    "                relation=relation, two_reference_objects=two_reference_objects,\n",
    "                adjacent_reference_objects=adjacent_reference_objects, \n",
    "                transpose=transpose,\n",
    "                n_habituation_stimuli=n_habituation_stimuli,\n",
    "                track_centroids=True,\n",
    "                **BASELINE_TRIPLET_KWARGS)\n",
    "\n",
    "            triplets = triplet_generator(N_examples, normalize=False)\n",
    "            non_empty_tuples = [find_non_empty_indices(t, empty_value=EMPTY_TENSOR_PIXEL, color_axis=0) for t in triplets.view(-1, *triplets.shape[2:])]\n",
    "            del triplets\n",
    "            row_centroids, col_centroids = zip(*triplet_generator.stimulus_centroids)\n",
    "            row_centroids = list(row_centroids)\n",
    "            col_centroids = list(col_centroids)\n",
    "\n",
    "            first_non_empty_row, last_non_empty_row, first_non_empty_col, last_non_empty_col = zip(*non_empty_tuples)\n",
    "            first_non_empty_row = [i.item() for i in first_non_empty_row]\n",
    "            last_non_empty_row = [i.item() for i in last_non_empty_row]\n",
    "            first_non_empty_col = [i.item() for i in first_non_empty_col]\n",
    "            last_non_empty_col = [i.item() for i in last_non_empty_col]\n",
    "            \n",
    "            row = [relation, two_reference_objects, adjacent_reference_objects, transpose,\n",
    "                n_habituation_stimuli, rotate_angle, generator_name, \n",
    "                row_centroids, col_centroids, \n",
    "                first_non_empty_row, last_non_empty_row, first_non_empty_col, last_non_empty_col\n",
    "            ]\n",
    "            data_rows.append(row)\n",
    "\n",
    "            del triplet_generator\n",
    "            del stimulus_generator\n",
    "\n",
    "    \n",
    "    data_df = pd.DataFrame(data_rows, columns=COLUMNS)\n",
    "    data_df = parse_above_below_condition(data_df)\n",
    "    data_df.to_csv(DATA_PATH, index=False)\n",
    "\n",
    "else:\n",
    "    data_df = pd.read_csv(DATA_PATH, converters={col: pd.eval for col in LIST_COLUMNS})    \n",
    "    data_df = data_df.assign(**{col: data_df[col].apply(list) for col in LIST_COLUMNS})\n",
    "    data_df = data_df.assign(relation_and_type=data_df.above_below_type)\n",
    "    data_df.relation_and_type[data_df.relation_and_type.isna()] = 'between'\n",
    "    \n",
    "\n",
    "# data_df.head() \n",
    "\n"
   ]
  },
  {
   "cell_type": "code",
   "execution_count": null,
   "metadata": {},
   "outputs": [],
   "source": []
  }
 ],
 "metadata": {
  "interpreter": {
   "hash": "fc8ce3b4e49fa10841934280e5f306e6f1780b2abcb072fce95e1c2f7ee55760"
  },
  "kernelspec": {
   "display_name": "Python 3.9.12 ('debugPyLatest')",
   "language": "python",
   "name": "python3"
  },
  "language_info": {
   "codemirror_mode": {
    "name": "ipython",
    "version": 3
   },
   "file_extension": ".py",
   "mimetype": "text/x-python",
   "name": "python",
   "nbconvert_exporter": "python",
   "pygments_lexer": "ipython3",
   "version": "3.9.12"
  },
  "orig_nbformat": 4
 },
 "nbformat": 4,
 "nbformat_minor": 2
}
