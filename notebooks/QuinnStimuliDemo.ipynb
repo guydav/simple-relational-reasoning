{
 "cells": [
  {
   "cell_type": "code",
   "execution_count": 1,
   "metadata": {},
   "outputs": [],
   "source": [
    "%autoreload 2"
   ]
  },
  {
   "cell_type": "code",
   "execution_count": 2,
   "metadata": {},
   "outputs": [],
   "source": [
    "import os\n",
    "import sys\n",
    "sys.path.append(os.path.abspath('.'))\n",
    "sys.path.append(os.path.abspath('..'))\n",
    "sys.path.append(os.path.abspath('../run'))\n",
    "\n",
    "import cv2\n",
    "import itertools\n",
    "import numpy as np\n",
    "import matplotlib\n",
    "import matplotlib.pyplot as plt\n",
    "import torch\n",
    "import pandas as pd\n",
    "from tqdm.notebook import tqdm\n",
    "from scipy import ndimage\n",
    "import skimage\n",
    "import skimage.filters\n",
    "\n",
    "from torchvision.transforms import functional as F\n",
    "\n",
    "from IPython.display import display, Markdown\n",
    "\n",
    "from simple_relational_reasoning.embeddings.stimuli import build_differet_shapes_stimulus_generator, build_split_text_stimulus_generator, build_random_color_stimulus_generator,\\\n",
    "    find_non_empty_indices, EMPTY_TENSOR_PIXEL\n",
    "from simple_relational_reasoning.embeddings.triplets import QuinnTripletGenerator,\\\n",
    "    NoReferenceEquidistantTripletGenerator, NoReferenceDiagonalTripletGenerator,\\\n",
    "    SameHalfTripletGenerator, SameQuadrantTripletGenerator, TSNEStimuliSetGenerator, ABOVE_BELOW_RELATION, BETWEEN_RELATION"
   ]
  },
  {
   "cell_type": "code",
   "execution_count": 3,
   "metadata": {},
   "outputs": [],
   "source": [
    "\n",
    "FIGURE_TEMPLATE = r'''\\begin{{figure}}[!htb]\n",
    "% \\vspace{{-0.225in}}\n",
    "\\centering\n",
    "\\includegraphics[width=\\linewidth]{{figures/{save_path}}}\n",
    "\\caption{{ {{\\bf FIGURE TITLE.}} FIGURE DESCRIPTION.}}\n",
    "\\label{{fig:{label_name}}}\n",
    "% \\vspace{{-0.2in}}\n",
    "\\end{{figure}}\n",
    "'''\n",
    "WRAPFIGURE_TEMPLATE = r'''\\begin{{wrapfigure}}{{r}}{{0.5\\linewidth}}\n",
    "\\vspace{{-.3in}}\n",
    "\\begin{{spacing}}{{1.0}}\n",
    "\\centering\n",
    "\\includegraphics[width=0.95\\linewidth]{{figures/{save_path}}}\n",
    "\\caption{{ {{\\bf FIGURE TITLE.}} FIGURE DESCRIPTION.}}\n",
    "\\label{{fig:{label_name}}}\n",
    "\\end{{spacing}}\n",
    "% \\vspace{{-.25in}}\n",
    "\\end{{wrapfigure}}'''\n",
    "\n",
    "SAVE_PATH_PREFIX = 'figures'\n",
    "\n",
    "\n",
    "def save_plot(save_path, bbox_inches='tight', should_print=False, should_prefix=True):\n",
    "    if save_path is not None:\n",
    "        save_path = os.path.abspath(save_path)\n",
    "        save_path_no_ext = os.path.splitext(save_path)[0]\n",
    "        if should_print:\n",
    "            print('Figure:\\n')\n",
    "            print(FIGURE_TEMPLATE.format(save_path=save_path, label_name=save_path_no_ext.replace('/', '-').replace('_', '-')))\n",
    "            print('\\nWrapfigure:\\n')\n",
    "            print(WRAPFIGURE_TEMPLATE.format(save_path=save_path, label_name=save_path_no_ext.replace('/', '-').replace('_', '-')))\n",
    "            print('')\n",
    "        \n",
    "        if not save_path.startswith(SAVE_PATH_PREFIX) and should_prefix:\n",
    "            save_path = os.path.join(SAVE_PATH_PREFIX, save_path)\n",
    "        \n",
    "        folder, filename = os.path.split(save_path)\n",
    "        os.makedirs(folder, exist_ok=True)\n",
    "        plt.savefig(save_path, bbox_inches=bbox_inches, facecolor=plt.gcf().get_facecolor(), edgecolor='none')"
   ]
  },
  {
   "cell_type": "code",
   "execution_count": 8,
   "metadata": {},
   "outputs": [],
   "source": [
    "reference_positions = [(105, 100)]\n",
    "\n",
    "def plot_generator_examples(generator, ref_pos=reference_positions):\n",
    "    plt.figure(figsize=(generator.n_target_types * 2.5, 3))\n",
    "\n",
    "    for i in range(generator.n_target_types):\n",
    "        x = generator.generate((80, 100 + (i * 20)), ref_pos, target_index=i)\n",
    "        ax = plt.subplot(1, generator.n_target_types, i +1)\n",
    "        ax.imshow(x.permute(1, 2, 0).numpy())\n",
    "\n",
    "\n",
    "    plt.show()\n",
    "\n",
    "def plot_triplets(triplets, plot_midlines=False, plot_diagonals=False, add_titles=True, save_path=None):\n",
    "    n = triplets.shape[0]\n",
    "    k = triplets.shape[1]\n",
    "\n",
    "    fig = plt.figure(figsize=(2 * k, 2 * n))\n",
    "    fig.patch.set_facecolor('white')\n",
    "\n",
    "    for row in range(n):\n",
    "        for col in range(k):\n",
    "            ax = plt.subplot(n, k, (k * row) + col + 1)\n",
    "            ax.set_xticks([])\n",
    "            ax.set_yticks([])\n",
    "            ax.imshow(triplets[row, col].permute(1, 2, 0).numpy())\n",
    "\n",
    "            if plot_midlines:\n",
    "                ax.axhline(y=triplets.shape[-2] // 2, color='black', linestyle='--', alpha=0.5)\n",
    "                ax.axvline(x=triplets.shape[-1] // 2, color='black', linestyle='--', alpha=0.5)\n",
    "            \n",
    "            if plot_diagonals:\n",
    "                ax.plot([0, 1], [0, 1], transform=ax.transAxes, color='black', linestyle='--', alpha=0.5)\n",
    "                ax.plot([1, 0], [0, 1], transform=ax.transAxes, color='black', linestyle='--', alpha=0.5)\n",
    "\n",
    "            if add_titles:\n",
    "                if row == 0:\n",
    "                    if col == k - 1:\n",
    "                        ax.set_title('Different Relation')\n",
    "                    elif col == k - 2:\n",
    "                        ax.set_title('Same Relation')\n",
    "                    elif col == 0 and k == 3:\n",
    "                        ax.set_title(f'Familiarization')\n",
    "                    else:\n",
    "                        ax.set_title(f'Familiarization #{col + 1}')\n",
    "\n",
    "    fig.tight_layout()\n",
    "\n",
    "    if save_path is not None:\n",
    "        save_plot(save_path)\n",
    "\n",
    "    plt.show()\n",
    "\n",
    "def plot_cropped_centered_triplets(triplets, canvas_size=(3, 200, 200), edge_color=(1, 0, 0)):\n",
    "    n = triplets.shape[0]\n",
    "    k = triplets.shape[1]\n",
    "\n",
    "    if not isinstance(edge_color, torch.Tensor):\n",
    "        edge_color = torch.tensor(edge_color, dtype=torch.float32).view(3, 1)\n",
    "\n",
    "    fig = plt.figure(figsize=(2 * k, 2 * n))\n",
    "    fig.patch.set_facecolor('white')\n",
    "\n",
    "    for row in range(n):\n",
    "        for col in range(k):\n",
    "            ax = plt.subplot(n, k, (k * row) + col + 1)\n",
    "            ax.set_xticks([])\n",
    "            ax.set_yticks([])\n",
    "\n",
    "            img = triplets[row, col]\n",
    "            r1, r2, c1, c2 = find_non_empty_indices(img, EMPTY_TENSOR_PIXEL, color_axis=0)\n",
    "            img = img[:, r1:r2, c1:c2]\n",
    "            canvas = torch.ones(*canvas_size)\n",
    "            h = r2 - r1\n",
    "            w = c2 - c1\n",
    "            h_start = torch.div(canvas_size[1] - h, 2, rounding_mode='floor')\n",
    "            w_start = torch.div(canvas_size[2] - w, 2, rounding_mode='floor')\n",
    "            canvas[:, h_start:h_start + h, w_start:w_start + w] = img\n",
    "            canvas[:, h_start - 1, w_start:w_start + w] = edge_color\n",
    "            canvas[:, h_start + h, w_start:w_start + w] = edge_color\n",
    "            canvas[:, h_start:h_start + h, w_start - 1] = edge_color\n",
    "            canvas[:, h_start:h_start + h, w_start + w] = edge_color\n",
    "            ax.imshow(canvas.permute(1, 2, 0).numpy())\n",
    "\n",
    "            ax.set_title(f'{h} x {w} = {h * w}')\n",
    "\n",
    "    fig.tight_layout()\n",
    "\n",
    "    plt.show()\n",
    "\n",
    "FLIPS = (\n",
    "    lambda x: x,\n",
    "    F.hflip,\n",
    "    F.vflip,\n",
    "    lambda x: F.hflip(F.vflip(x))\n",
    ")\n",
    "\n",
    "FLIP_NAMES = ('None', 'Horizontal', 'Vertical', 'Both')\n",
    "\n",
    "\n",
    "def plot_flipped_versions(base_images, base_image_names, save_path=None,\n",
    "    flips=FLIPS, flip_names=FLIP_NAMES, text_kwargs=None):\n",
    "\n",
    "    if text_kwargs is None:\n",
    "        text_kwargs = {}\n",
    "    \n",
    "    k = len(base_images)\n",
    "    n = len(flips)\n",
    "\n",
    "    fig = plt.figure(figsize=(2 * k, 2 * n))\n",
    "    fig.patch.set_facecolor('white')\n",
    "\n",
    "    for row in range(n):\n",
    "        for col in range(k):\n",
    "            ax = plt.subplot(n, k, (k * row) + col + 1)\n",
    "            ax.set_xticks([])\n",
    "            ax.set_yticks([])\n",
    "\n",
    "            ax.imshow(flips[row](base_images[col]).permute(1, 2, 0).numpy())\n",
    "\n",
    "            if row == 0:\n",
    "                ax.set_title(base_image_names[col], **text_kwargs)\n",
    "\n",
    "            if col == 0:\n",
    "                ax.set_ylabel(flip_names[row], **text_kwargs)\n",
    "\n",
    "    fig.tight_layout()\n",
    "\n",
    "    if save_path is not None:\n",
    "        save_plot(save_path, should_prefix=False)\n",
    "\n",
    "    plt.show()\n",
    "\n",
    "\n",
    "GENERATOR_NAMES = ('color bar', 'split text', 'random colors')\n",
    "\n",
    "\n",
    "def create_stimulus_generators_and_names(names=GENERATOR_NAMES, seed=None, **kwargs):\n",
    "    rng = np.random.default_rng(seed if seed is not None else np.random.randint(0, 2**32))\n",
    "\n",
    "    generators = (\n",
    "        # build_differet_shapes_stimulus_generator(reference_size=(10, 140), rng=rng, \n",
    "        # # blur_func=lambda x: cv2.blur(x, (7, 7)), \n",
    "        # # blur_func=lambda x: skimage.filters.gaussian(x, sigma=1, channel_axis=-1),\n",
    "        # **kwargs), \n",
    "        \n",
    "        build_split_text_stimulus_generator(\n",
    "        #     # reference_box_size=10,\n",
    "        #     # total_reference_size=(10, 140), n_reference_patches=8,\n",
    "        #     # reference_patch_kwargs=dict(ylim=(-70, 70)),\n",
    "            rng=rng, **kwargs),\n",
    "        # build_random_color_stimulus_generator(reference_size=(10, 140), rng=rng, **kwargs)\n",
    "    )\n",
    "    \n",
    "    return zip(generators, names)"
   ]
  },
  {
   "cell_type": "code",
   "execution_count": 5,
   "metadata": {},
   "outputs": [],
   "source": [
    "BASELINE_TRIPLET_KWARGS = dict(n_target_types=2)\n",
    "distance_endpoints_dict = {\n",
    "    (False, False): (30, 80),\n",
    "    (True, False): (80, 120),\n",
    "    (True, True): (40, 80),  \n",
    "}"
   ]
  },
  {
   "cell_type": "markdown",
   "metadata": {},
   "source": [
    "## t-SNE"
   ]
  },
  {
   "cell_type": "code",
   "execution_count": null,
   "metadata": {},
   "outputs": [],
   "source": [
    "two_reference_objects = 0\n",
    "adjacent_reference_objects = 0\n",
    "\n",
    "for stimulus_generator, generator_name in create_stimulus_generators_and_names(seed=34, rotate_angle=0):\n",
    "        \n",
    "        triplet_generator = TSNEStimuliSetGenerator(stimulus_generator, \n",
    "            distance_endpoints=distance_endpoints_dict[(two_reference_objects, adjacent_reference_objects)],\n",
    "            relation=ABOVE_BELOW_RELATION,\n",
    "            two_reference_objects=two_reference_objects, \n",
    "            adjacent_reference_objects=adjacent_reference_objects,\n",
    "            target_step=12,\n",
    "            fixed_inter_reference_distance=80,\n",
    "            margin_buffer=16,\n",
    "            fixed_target_index=None, \n",
    "            track_targets=True,\n",
    "            no_reference_objects=True,\n",
    "            tile_targets_uniformly=True,\n",
    "            )\n",
    "\n",
    "        title = f'{generator_name}'\n",
    "        display(Markdown(f'## {title}'))\n",
    "        triplets = triplet_generator(1, normalize=False)\n",
    "        print(triplets.shape)\n",
    "        try:\n",
    "            triplets = triplets.reshape(15, 15, 3, 224, 224)\n",
    "        except RuntimeError as e:\n",
    "            print(np.product(triplets.size()) / (3 * 224 * 224))\n",
    "            raise e\n",
    "        print(triplets.shape)\n",
    "        # print(triplets.shape)\n",
    "        plot_triplets(triplets, add_titles=False, save_path='tsne_above_below')\n",
    "        display(Markdown('----'))"
   ]
  },
  {
   "cell_type": "code",
   "execution_count": null,
   "metadata": {},
   "outputs": [],
   "source": [
    "targets = triplet_generator.target_positions[0]\n",
    "print(sorted(set([t[0] for t in targets])))\n",
    "print(sorted(set([t[1] for t in targets])))"
   ]
  },
  {
   "cell_type": "code",
   "execution_count": null,
   "metadata": {},
   "outputs": [],
   "source": [
    "triplet_generator.stimulus_generator.cached_batch_generate.cache_clear()\n",
    "\n",
    "targets = (tuple([tuple(tp) for tp in triplet_generator.target_positions[0]]),)\n",
    "\n",
    "cmap = matplotlib.colormaps['coolwarm']\n",
    "colors = tuple([tuple(c[:-1]) for c in cmap(np.arange(80) // 8 / 9.1)])\n",
    "\n",
    "stim = triplet_generator.stimulus_generator.cached_batch_generate(\n",
    "    targets,\n",
    "    ((112, 112),),\n",
    "    target_indices=(2,),\n",
    "    multiple_target_positions=True,\n",
    "    target_colors=colors,\n",
    "    crop_to_center=True,\n",
    "    normalize=False,\n",
    ")\n",
    "\n",
    "\n",
    "plt.imshow(stim[0][0].permute(1, 2, 0).numpy())\n",
    "# plt.tick_params(\n",
    "#     axis='both',         \n",
    "#     which='both',      \n",
    "#     bottom=False,    \n",
    "#     left=False,  \n",
    "#     top=False, \n",
    "#     right=False,       \n",
    "#     labelbottom=False,\n",
    "#     labelleft=False,\n",
    "# )\n",
    "\n",
    "plt.gca().set_xticks([])\n",
    "plt.gca().set_yticks([])\n"
   ]
  },
  {
   "cell_type": "code",
   "execution_count": null,
   "metadata": {},
   "outputs": [],
   "source": [
    "two_reference_objects = 1\n",
    "adjacent_reference_objects = 0\n",
    "\n",
    "for stimulus_generator, generator_name in create_stimulus_generators_and_names(seed=34, rotate_angle=0):\n",
    "        \n",
    "        triplet_generator = TSNEStimuliSetGenerator(stimulus_generator, \n",
    "            distance_endpoints=distance_endpoints_dict[(two_reference_objects, adjacent_reference_objects)],\n",
    "            relation=BETWEEN_RELATION,\n",
    "            two_reference_objects=two_reference_objects, \n",
    "            adjacent_reference_objects=adjacent_reference_objects,\n",
    "            target_step=12,\n",
    "            fixed_inter_reference_distance=80,\n",
    "            margin_buffer=16,\n",
    "            fixed_target_index=None, \n",
    "            track_targets=True,\n",
    "            )\n",
    "\n",
    "        title = f'{generator_name}'\n",
    "        display(Markdown(f'## {title}'))\n",
    "        triplets = triplet_generator(1, normalize=False)\n",
    "        print(triplets.shape)\n",
    "        try:\n",
    "            triplets = triplets.reshape(6, 8, 3, 224, 224)\n",
    "        except RuntimeError as e:\n",
    "            print(np.product(triplets.size()) / (3 * 224 * 224))\n",
    "            raise e\n",
    "        print(triplets.shape)\n",
    "        # print(triplets.shape)\n",
    "        plot_triplets(triplets, add_titles=False, save_path='tsne_above_below')\n",
    "        display(Markdown('----'))"
   ]
  },
  {
   "cell_type": "code",
   "execution_count": null,
   "metadata": {},
   "outputs": [],
   "source": [
    "triplet_generator.stimulus_generator.cached_batch_generate.cache_clear()\n",
    "\n",
    "targets = (tuple([tuple(tp) for tp in triplet_generator.target_positions[0]]),)\n",
    "\n",
    "cmap = matplotlib.colormaps['Spectral']\n",
    "colors = tuple([tuple(c[:-1]) for c in cmap(np.arange(48) // 8 / 6.1)])\n",
    "\n",
    "stim = triplet_generator.stimulus_generator.cached_batch_generate(\n",
    "    targets,\n",
    "    (((72, 112), (152, 112)),),\n",
    "    target_indices=(2,),\n",
    "    multiple_target_positions=True,\n",
    "    target_colors=colors,\n",
    "    crop_to_center=True,\n",
    "    normalize=False,\n",
    ")\n",
    "\n",
    "\n",
    "plt.imshow(stim[0][0].permute(1, 2, 0).numpy())\n",
    "plt.xticks([])\n",
    "plt.yticks([])\n",
    "\n"
   ]
  },
  {
   "cell_type": "code",
   "execution_count": null,
   "metadata": {},
   "outputs": [],
   "source": [
    "two_reference_objects = 0\n",
    "adjacent_reference_objects = 0\n",
    "\n",
    "for stimulus_generator, generator_name in create_stimulus_generators_and_names(seed=34, rotate_angle=0):\n",
    "        \n",
    "        triplet_generator = TSNEStimuliSetGenerator(stimulus_generator, \n",
    "            distance_endpoints=distance_endpoints_dict[(two_reference_objects, adjacent_reference_objects)],\n",
    "            relation=ABOVE_BELOW_RELATION,\n",
    "            two_reference_objects=two_reference_objects, \n",
    "            adjacent_reference_objects=adjacent_reference_objects,\n",
    "            target_step=12,\n",
    "            fixed_inter_reference_distance=80,\n",
    "            margin_buffer=16,\n",
    "            fixed_target_index=None, \n",
    "            track_targets=True,\n",
    "            fixed_centroid_position=(132, 152),\n",
    "            extra_bottom_margin=-8,\n",
    "            )\n",
    "\n",
    "        title = f'{generator_name}'\n",
    "        display(Markdown(f'## {title}'))\n",
    "        triplets = triplet_generator(1, normalize=False)\n",
    "        print(triplets.shape)\n",
    "        try:\n",
    "            triplets = triplets.reshape(10, 8, 3, 224, 224)\n",
    "        except RuntimeError as e:\n",
    "            print(np.product(triplets.size()) / (3 * 224 * 224))\n",
    "            raise e\n",
    "        print(triplets.shape)\n",
    "        # print(triplets.shape)\n",
    "        plot_triplets(triplets, add_titles=False, save_path='tsne_above_below')\n",
    "        display(Markdown('----'))"
   ]
  },
  {
   "cell_type": "code",
   "execution_count": null,
   "metadata": {},
   "outputs": [],
   "source": [
    "two_reference_objects = True\n",
    "adjacent_reference_objects = True\n",
    "\n",
    "for stimulus_generator, generator_name in create_stimulus_generators_and_names():\n",
    "        \n",
    "        triplet_generator = TSNEStimuliSetGenerator(stimulus_generator, \n",
    "            distance_endpoints=distance_endpoints_dict[(two_reference_objects, adjacent_reference_objects)],\n",
    "            relation=ABOVE_BELOW_RELATION,\n",
    "            two_reference_objects=two_reference_objects, \n",
    "            adjacent_reference_objects=adjacent_reference_objects,\n",
    "            target_step=16)\n",
    "\n",
    "        title = f'{generator_name}'\n",
    "        display(Markdown(f'## {title}'))\n",
    "        triplets = triplet_generator(1, normalize=False)\n",
    "        triplets = triplets.reshape(10, 8, 3, 224, 224)\n",
    "        # print(triplets.shape)\n",
    "        plot_triplets(triplets, add_titles=False, save_path='tsne_above_below_adjacent')\n",
    "        display(Markdown('----'))"
   ]
  },
  {
   "cell_type": "code",
   "execution_count": null,
   "metadata": {},
   "outputs": [],
   "source": [
    "two_reference_objects = True\n",
    "adjacent_reference_objects = False\n",
    "\n",
    "for stimulus_generator, generator_name in create_stimulus_generators_and_names():\n",
    "        \n",
    "        triplet_generator = TSNEStimuliSetGenerator(stimulus_generator, \n",
    "            distance_endpoints=distance_endpoints_dict[(two_reference_objects, adjacent_reference_objects)],\n",
    "            relation=ABOVE_BELOW_RELATION,\n",
    "            two_reference_objects=two_reference_objects, \n",
    "            adjacent_reference_objects=adjacent_reference_objects,\n",
    "            target_step=16)\n",
    "\n",
    "        title = f'{generator_name}'\n",
    "        display(Markdown(f'## {title}'))\n",
    "        triplets = triplet_generator(1, normalize=False)\n",
    "        triplets = triplets.reshape(8, 8, 3, 224, 224)\n",
    "        # print(triplets.shape)\n",
    "        plot_triplets(triplets, add_titles=False, save_path='tsne_above_below_gapped')\n",
    "        display(Markdown('----'))"
   ]
  },
  {
   "cell_type": "code",
   "execution_count": null,
   "metadata": {},
   "outputs": [],
   "source": [
    "two_reference_objects = True\n",
    "adjacent_reference_objects = False\n",
    "\n",
    "for stimulus_generator, generator_name in create_stimulus_generators_and_names():\n",
    "        \n",
    "        triplet_generator = TSNEStimuliSetGenerator(stimulus_generator, \n",
    "            distance_endpoints=distance_endpoints_dict[(two_reference_objects, adjacent_reference_objects)],\n",
    "            relation=BETWEEN_RELATION,\n",
    "            two_reference_objects=two_reference_objects, \n",
    "            adjacent_reference_objects=adjacent_reference_objects,\n",
    "            target_step=16)\n",
    "\n",
    "        title = f'{generator_name}'\n",
    "        display(Markdown(f'## {title}'))\n",
    "        triplets = triplet_generator(1, normalize=False)\n",
    "        triplets = triplets.reshape(-1, 8, 3, 224, 224)\n",
    "        # print(triplets.shape)\n",
    "        plot_triplets(triplets, add_titles=False, save_path='tsne_between')\n",
    "        display(Markdown('----'))"
   ]
  },
  {
   "cell_type": "code",
   "execution_count": null,
   "metadata": {},
   "outputs": [],
   "source": [
    "N_examples = 5\n",
    "\n",
    "for n_habituation_stimuli in (1, 4):\n",
    "    for stimulus_generator, generator_name in create_stimulus_generators_and_names():\n",
    "        \n",
    "        triplet_generator = NoReferenceEquidistantTripletGenerator(stimulus_generator, n_target_types=2,\n",
    "            n_habituation_stimuli=n_habituation_stimuli)\n",
    "\n",
    "        title = f'{generator_name}'\n",
    "        display(Markdown(f'## {title}'))\n",
    "        triplets = triplet_generator(N_examples, normalize=False)\n",
    "        print(triplets.shape)\n",
    "        plot_triplets(triplets, plot_midlines=True)\n",
    "        display(Markdown('----'))"
   ]
  },
  {
   "cell_type": "code",
   "execution_count": null,
   "metadata": {},
   "outputs": [],
   "source": []
  },
  {
   "cell_type": "code",
   "execution_count": null,
   "metadata": {},
   "outputs": [],
   "source": [
    "N_examples = 5\n",
    "\n",
    "for n_habituation_stimuli in (1, 4):\n",
    "    for stimulus_generator, generator_name in create_stimulus_generators_and_names():\n",
    "        \n",
    "        triplet_generator = NoReferenceDiagonalTripletGenerator(stimulus_generator, n_target_types=2,\n",
    "            n_habituation_stimuli=n_habituation_stimuli)\n",
    "\n",
    "        title = f'{generator_name}'\n",
    "        display(Markdown(f'## {title}'))\n",
    "        triplets = triplet_generator(N_examples, normalize=False)\n",
    "        plot_triplets(triplets, plot_diagonals=True)\n",
    "        display(Markdown('----'))\n"
   ]
  },
  {
   "cell_type": "code",
   "execution_count": null,
   "metadata": {},
   "outputs": [],
   "source": [
    "N_examples = 5\n",
    "\n",
    "for n_habituation_stimuli in (1, 4):\n",
    "    for same_horizontal_half in (True, False):\n",
    "        display(Markdown(f'# {\"Same Horizontal Half\" if same_horizontal_half else \"Same Vertical Half\"}'))\n",
    "        for stimulus_generator, generator_name in create_stimulus_generators_and_names():\n",
    "            \n",
    "            triplet_generator = SameHalfTripletGenerator(stimulus_generator, \n",
    "                same_horizontal_half=same_horizontal_half, n_target_types=2,\n",
    "                n_habituation_stimuli=n_habituation_stimuli)\n",
    "\n",
    "            title = f'{generator_name}'\n",
    "            display(Markdown(f'## {title}'))\n",
    "            triplets = triplet_generator(N_examples, normalize=False)\n",
    "            plot_triplets(triplets, plot_midlines=True)\n",
    "            display(Markdown('----'))"
   ]
  },
  {
   "cell_type": "code",
   "execution_count": null,
   "metadata": {},
   "outputs": [],
   "source": [
    "N_examples = 5\n",
    "\n",
    "for n_habituation_stimuli in (1, 4):\n",
    "    display(Markdown(f'# Same Quadrant'))\n",
    "    for stimulus_generator, generator_name in create_stimulus_generators_and_names():\n",
    "        \n",
    "        triplet_generator = SameQuadrantTripletGenerator(stimulus_generator, \n",
    "            n_target_types=2, n_habituation_stimuli=n_habituation_stimuli)\n",
    "\n",
    "        title = f'{generator_name}'\n",
    "        display(Markdown(f'## {title}'))\n",
    "        triplets = triplet_generator(N_examples, normalize=False)\n",
    "        plot_triplets(triplets, plot_midlines=True)\n",
    "        display(Markdown('----'))"
   ]
  },
  {
   "cell_type": "code",
   "execution_count": null,
   "metadata": {},
   "outputs": [],
   "source": []
  },
  {
   "cell_type": "markdown",
   "metadata": {},
   "source": [
    "# Stimulus conditions we have\n",
    "* Above/below\n",
    "    * With two reference objects\n",
    "        * With or without a gap between them\n",
    "* Between\n",
    "* *The above two relations, but sideways (left/right and vertical between)* -- currently not plotted because it's just the regular stimuli transposed, but I can add that demo.\n",
    "* Diagonal\n",
    "* With both generators above\n",
    "\n"
   ]
  },
  {
   "cell_type": "code",
   "execution_count": 12,
   "metadata": {},
   "outputs": [
    {
     "data": {
      "text/markdown": [
       "# Above/Below"
      ],
      "text/plain": [
       "<IPython.core.display.Markdown object>"
      ]
     },
     "metadata": {},
     "output_type": "display_data"
    },
    {
     "data": {
      "text/markdown": [
       "## color bar | above_below | one ref"
      ],
      "text/plain": [
       "<IPython.core.display.Markdown object>"
      ]
     },
     "metadata": {},
     "output_type": "display_data"
    },
    {
     "data": {
      "image/png": "[encoded data removed]",
      "text/plain": [
       "<Figure size 432x720 with 15 Axes>"
      ]
     },
     "metadata": {},
     "output_type": "display_data"
    },
    {
     "data": {
      "text/markdown": [
       "----"
      ],
      "text/plain": [
       "<IPython.core.display.Markdown object>"
      ]
     },
     "metadata": {},
     "output_type": "display_data"
    },
    {
     "data": {
      "text/markdown": [
       "## color bar | above_below | two refs | non-adjacent refs"
      ],
      "text/plain": [
       "<IPython.core.display.Markdown object>"
      ]
     },
     "metadata": {},
     "output_type": "display_data"
    },
    {
     "data": {
      "image/png": "[encoded data removed]",
      "text/plain": [
       "<Figure size 432x720 with 15 Axes>"
      ]
     },
     "metadata": {},
     "output_type": "display_data"
    },
    {
     "data": {
      "text/markdown": [
       "----"
      ],
      "text/plain": [
       "<IPython.core.display.Markdown object>"
      ]
     },
     "metadata": {},
     "output_type": "display_data"
    },
    {
     "data": {
      "text/markdown": [
       "## color bar | above_below | two refs | adjacent refs"
      ],
      "text/plain": [
       "<IPython.core.display.Markdown object>"
      ]
     },
     "metadata": {},
     "output_type": "display_data"
    },
    {
     "data": {
      "image/png": "[encoded data removed]",
      "text/plain": [
       "<Figure size 432x720 with 15 Axes>"
      ]
     },
     "metadata": {},
     "output_type": "display_data"
    },
    {
     "data": {
      "text/markdown": [
       "----"
      ],
      "text/plain": [
       "<IPython.core.display.Markdown object>"
      ]
     },
     "metadata": {},
     "output_type": "display_data"
    }
   ],
   "source": [
    "relation = ABOVE_BELOW_RELATION\n",
    "N_examples = 5\n",
    "\n",
    "display(Markdown('# Above/Below'))\n",
    "\n",
    "for two_reference_objects in (False, True):\n",
    "    for adjacent_reference_objects in (False, True):\n",
    "        if not two_reference_objects and adjacent_reference_objects:\n",
    "            continue\n",
    "\n",
    "        distance_endpoints = distance_endpoints_dict[(two_reference_objects, adjacent_reference_objects)]\n",
    "\n",
    "        for stimulus_generator, generator_name in create_stimulus_generators_and_names(rotate_angle=90):\n",
    "            \n",
    "            triplet_generator = QuinnTripletGenerator(stimulus_generator, distance_endpoints, n_habituation_stimuli=1,\n",
    "                relation=relation, two_reference_objects=two_reference_objects, same_relation_target_distance_ratio=1.0,\n",
    "                adjacent_reference_objects=adjacent_reference_objects, **BASELINE_TRIPLET_KWARGS)\n",
    "\n",
    "            adj_str = 'adjacent refs' if adjacent_reference_objects else ('non-adjacent refs' if two_reference_objects else '')\n",
    "            title = f'{generator_name} | {relation} | {\"two refs\" if two_reference_objects else \"one ref\"}{\" | \" if adj_str else \"\"}{adj_str}'\n",
    "            display(Markdown(f'## {title}'))\n",
    "            triplets = triplet_generator(N_examples, normalize=False)\n",
    "            plot_triplets(triplets)\n",
    "            display(Markdown('----'))\n"
   ]
  },
  {
   "cell_type": "code",
   "execution_count": 14,
   "metadata": {},
   "outputs": [
    {
     "data": {
      "text/markdown": [
       "# Between"
      ],
      "text/plain": [
       "<IPython.core.display.Markdown object>"
      ]
     },
     "metadata": {},
     "output_type": "display_data"
    },
    {
     "data": {
      "text/markdown": [
       "## color bar | between | two refs | non-adjacent refs"
      ],
      "text/plain": [
       "<IPython.core.display.Markdown object>"
      ]
     },
     "metadata": {},
     "output_type": "display_data"
    },
    {
     "data": {
      "image/png": "[encoded data removed]",
      "text/plain": [
       "<Figure size 432x720 with 15 Axes>"
      ]
     },
     "metadata": {},
     "output_type": "display_data"
    },
    {
     "data": {
      "text/markdown": [
       "----"
      ],
      "text/plain": [
       "<IPython.core.display.Markdown object>"
      ]
     },
     "metadata": {},
     "output_type": "display_data"
    }
   ],
   "source": [
    "relation = BETWEEN_RELATION\n",
    "N_examples = 5\n",
    "\n",
    "display(Markdown('# Between'))\n",
    "two_reference_objects = True\n",
    "adjacent_reference_objects = False\n",
    "distance_endpoints = distance_endpoints_dict[(two_reference_objects, adjacent_reference_objects)]\n",
    "\n",
    "for stimulus_generator, generator_name in create_stimulus_generators_and_names(rotate_angle=90):\n",
    "    triplet_generator = QuinnTripletGenerator(stimulus_generator, distance_endpoints, n_habituation_stimuli=1,\n",
    "        relation=relation, two_reference_objects=two_reference_objects, same_relation_target_distance_ratio=1.0,\n",
    "        adjacent_reference_objects=adjacent_reference_objects, **BASELINE_TRIPLET_KWARGS)\n",
    "\n",
    "    adj_str = 'adjacent refs' if adjacent_reference_objects else ('non-adjacent refs' if two_reference_objects else '')\n",
    "    title = f'{generator_name} | {relation} | {\"two refs\" if two_reference_objects else \"one ref\"}{\" | \" if adj_str else \"\"}{adj_str}'\n",
    "    display(Markdown(f'## {title}'))\n",
    "    triplets = triplet_generator(N_examples, normalize=False)\n",
    "    plot_triplets(triplets)\n",
    "    display(Markdown('----'))\n"
   ]
  },
  {
   "cell_type": "code",
   "execution_count": 13,
   "metadata": {},
   "outputs": [
    {
     "data": {
      "text/markdown": [
       "# Above/Below"
      ],
      "text/plain": [
       "<IPython.core.display.Markdown object>"
      ]
     },
     "metadata": {},
     "output_type": "display_data"
    },
    {
     "data": {
      "text/markdown": [
       "## color bar | above_below | one ref"
      ],
      "text/plain": [
       "<IPython.core.display.Markdown object>"
      ]
     },
     "metadata": {},
     "output_type": "display_data"
    },
    {
     "data": {
      "image/png": "[encoded data removed]",
      "text/plain": [
       "<Figure size 864x720 with 30 Axes>"
      ]
     },
     "metadata": {},
     "output_type": "display_data"
    },
    {
     "data": {
      "text/markdown": [
       "----"
      ],
      "text/plain": [
       "<IPython.core.display.Markdown object>"
      ]
     },
     "metadata": {},
     "output_type": "display_data"
    },
    {
     "data": {
      "text/markdown": [
       "## color bar | above_below | two refs | non-adjacent refs"
      ],
      "text/plain": [
       "<IPython.core.display.Markdown object>"
      ]
     },
     "metadata": {},
     "output_type": "display_data"
    },
    {
     "data": {
      "image/png": "[encoded data removed]",
      "text/plain": [
       "<Figure size 864x720 with 30 Axes>"
      ]
     },
     "metadata": {},
     "output_type": "display_data"
    },
    {
     "data": {
      "text/markdown": [
       "----"
      ],
      "text/plain": [
       "<IPython.core.display.Markdown object>"
      ]
     },
     "metadata": {},
     "output_type": "display_data"
    },
    {
     "data": {
      "text/markdown": [
       "## color bar | above_below | two refs | adjacent refs"
      ],
      "text/plain": [
       "<IPython.core.display.Markdown object>"
      ]
     },
     "metadata": {},
     "output_type": "display_data"
    },
    {
     "data": {
      "image/png": "[encoded data removed]",
      "text/plain": [
       "<Figure size 864x720 with 30 Axes>"
      ]
     },
     "metadata": {},
     "output_type": "display_data"
    },
    {
     "data": {
      "text/markdown": [
       "----"
      ],
      "text/plain": [
       "<IPython.core.display.Markdown object>"
      ]
     },
     "metadata": {},
     "output_type": "display_data"
    }
   ],
   "source": [
    "relation = ABOVE_BELOW_RELATION\n",
    "N_examples = 5\n",
    "\n",
    "display(Markdown('# Above/Below'))\n",
    "\n",
    "for two_reference_objects in (False, True):\n",
    "    for adjacent_reference_objects in (False, True):\n",
    "        if not two_reference_objects and adjacent_reference_objects:\n",
    "            continue\n",
    "\n",
    "        distance_endpoints = distance_endpoints_dict[(two_reference_objects, adjacent_reference_objects)]\n",
    "\n",
    "        for stimulus_generator, generator_name in create_stimulus_generators_and_names():\n",
    "            \n",
    "            triplet_generator = QuinnTripletGenerator(stimulus_generator, distance_endpoints, n_habituation_stimuli=4,\n",
    "                relation=relation, two_reference_objects=two_reference_objects, same_relation_target_distance_ratio=1.3,\n",
    "                adjacent_reference_objects=adjacent_reference_objects, **BASELINE_TRIPLET_KWARGS)\n",
    "\n",
    "            adj_str = 'adjacent refs' if adjacent_reference_objects else ('non-adjacent refs' if two_reference_objects else '')\n",
    "            title = f'{generator_name} | {relation} | {\"two refs\" if two_reference_objects else \"one ref\"}{\" | \" if adj_str else \"\"}{adj_str}'\n",
    "            display(Markdown(f'## {title}'))\n",
    "            triplets = triplet_generator(N_examples, normalize=False)\n",
    "            plot_triplets(triplets)\n",
    "            display(Markdown('----'))\n"
   ]
  },
  {
   "cell_type": "code",
   "execution_count": 9,
   "metadata": {},
   "outputs": [
    {
     "data": {
      "text/markdown": [
       "# Between/Outside"
      ],
      "text/plain": [
       "<IPython.core.display.Markdown object>"
      ]
     },
     "metadata": {},
     "output_type": "display_data"
    },
    {
     "data": {
      "text/markdown": [
       "## color bar | between"
      ],
      "text/plain": [
       "<IPython.core.display.Markdown object>"
      ]
     },
     "metadata": {},
     "output_type": "display_data"
    },
    {
     "data": {
      "image/png": "[encoded data removed]",
      "text/plain": [
       "<Figure size 864x720 with 30 Axes>"
      ]
     },
     "metadata": {},
     "output_type": "display_data"
    },
    {
     "data": {
      "text/markdown": [
       "----"
      ],
      "text/plain": [
       "<IPython.core.display.Markdown object>"
      ]
     },
     "metadata": {},
     "output_type": "display_data"
    }
   ],
   "source": [
    "relation = BETWEEN_RELATION\n",
    "distance_endpoints = distance_endpoints_dict[(True, False)]\n",
    "N_examples = 5\n",
    "\n",
    "display(Markdown('# Between/Outside'))\n",
    "\n",
    "distance_endpoints = distance_endpoints_dict[(two_reference_objects, adjacent_reference_objects)]\n",
    "\n",
    "for stimulus_generator, generator_name in create_stimulus_generators_and_names():\n",
    "    \n",
    "    triplet_generator = QuinnTripletGenerator(stimulus_generator, distance_endpoints, n_habituation_stimuli=4,\n",
    "        relation=relation, two_reference_objects=True, same_relation_target_distance_ratio=1.25,\n",
    "        adjacent_reference_objects=False, **BASELINE_TRIPLET_KWARGS)\n",
    "\n",
    "    # adj_str = 'adjacent refs' if adjacent_reference_objects else ('non-adjacent refs' if two_reference_objects else '')\n",
    "    # title = f'{generator_name} | {relation} | {\"two refs\" if two_reference_objects else \"one ref\"}{\" | \" if adj_str else \"\"}{adj_str}'\n",
    "    title = f'{generator_name} | {relation}'\n",
    "    display(Markdown(f'## {title}'))\n",
    "    triplets = triplet_generator(N_examples, normalize=False)\n",
    "    plot_triplets(triplets)\n",
    "    display(Markdown('----'))\n"
   ]
  },
  {
   "cell_type": "code",
   "execution_count": null,
   "metadata": {},
   "outputs": [],
   "source": [
    "relation = ABOVE_BELOW_RELATION\n",
    "distance_endpoints = distance_endpoints_dict[(False, False)]\n",
    "N_examples = 5\n",
    "\n",
    "display(Markdown('# Diagonal Above/Below'))\n",
    "\n",
    "# distance_endpoints = distance_endpoints_dict[(two_reference_objects, adjacent_reference_objects)]\n",
    "\n",
    "for rotate_angle in (30, 45, 60, 90, 120, 135, 150):\n",
    "    for stimulus_generator, generator_name in create_stimulus_generators_and_names(rotate_angle=rotate_angle):\n",
    "        \n",
    "        triplet_generator = QuinnTripletGenerator(stimulus_generator, distance_endpoints,\n",
    "            relation=relation, two_reference_objects=False,\n",
    "            adjacent_reference_objects=False, **BASELINE_TRIPLET_KWARGS)\n",
    "\n",
    "        # adj_str = 'adjacent refs' if adjacent_reference_objects else ('non-adjacent refs' if two_reference_objects else '')\n",
    "        # title = f'{generator_name} | {relation} | {\"two refs\" if two_reference_objects else \"one ref\"}{\" | \" if adj_str else \"\"}{adj_str}'\n",
    "        title = f'{generator_name} | {relation} | {rotate_angle} degrees'\n",
    "        display(Markdown(f'## {title}'))\n",
    "        triplets = triplet_generator(N_examples, normalize=False)\n",
    "        plot_triplets(triplets)\n",
    "        display(Markdown('----'))\n"
   ]
  },
  {
   "cell_type": "code",
   "execution_count": null,
   "metadata": {},
   "outputs": [],
   "source": [
    "relation = BETWEEN_RELATION\n",
    "distance_endpoints = (40, 80)\n",
    "N_examples = 5\n",
    "n_habituation_stimuli = 4\n",
    "\n",
    "display(Markdown('# Multiple Habituation Stimuli'))\n",
    "\n",
    "rng = np.random.default_rng(n_habituation_stimuli)\n",
    "stimulus_generator = build_split_text_stimulus_generator(rng=rng, rotate_angle=60)\n",
    "# stimulus_generator = build_random_color_stimulus_generator(rng=rng)\n",
    "\n",
    "triplet_generator = QuinnTripletGenerator(stimulus_generator, distance_endpoints,\n",
    "    relation=relation, two_reference_objects=True, \n",
    "    adjacent_reference_objects=False, n_habituation_stimuli=n_habituation_stimuli,\n",
    "    **BASELINE_TRIPLET_KWARGS)\n",
    "\n",
    "# adj_str = 'adjacent refs' if adjacent_reference_objects else ('non-adjacent refs' if two_reference_objects else '')\n",
    "# title = f'{generator_name} | {relation} | {\"two refs\" if two_reference_objects else \"one ref\"}{\" | \" if adj_str else \"\"}{adj_str}'\n",
    "title = f'{n_habituation_stimuli} habituation stimuli'\n",
    "display(Markdown(f'## {title}'))\n",
    "triplets = triplet_generator(N_examples, normalize=False)\n",
    "plot_triplets(triplets)\n",
    "display(Markdown('----'))\n"
   ]
  },
  {
   "cell_type": "code",
   "execution_count": null,
   "metadata": {},
   "outputs": [],
   "source": [
    "\n",
    "relation = ABOVE_BELOW_RELATION\n",
    "distance_endpoints = (30, 80)\n",
    "N_examples = 1\n",
    "seed = 33\n",
    "display(Markdown('## Flipping Manipulation -- Above/Below'))\n",
    "\n",
    "images = []\n",
    "\n",
    "for rotate_angle in [0, 30, 45, 60, 90, 120, 135, 150]:\n",
    "    rng = np.random.default_rng(seed if seed is not None else np.random.randint(0, 2**32))\n",
    "    stimulus_generator = build_split_text_stimulus_generator(rng=rng, rotate_angle=rotate_angle)\n",
    "\n",
    "    triplet_generator = QuinnTripletGenerator(stimulus_generator, distance_endpoints,\n",
    "        relation=relation, two_reference_objects=False, transpose=False,\n",
    "        adjacent_reference_objects=False, **BASELINE_TRIPLET_KWARGS)\n",
    "\n",
    "    triplets = triplet_generator(N_examples, normalize=False)\n",
    "    images.append(triplets[0][0])\n",
    "\n",
    "plot_flipped_versions(images, [0, 30, 45, 60, 90, 120, 135, 150],\n",
    "    save_path='/Users/guydavidson/Downloads/flipping_above_below.png',\n",
    "    text_kwargs=dict(fontsize=16))"
   ]
  },
  {
   "cell_type": "code",
   "execution_count": null,
   "metadata": {},
   "outputs": [],
   "source": [
    "\n",
    "relation = BETWEEN_RELATION\n",
    "distance_endpoints = (30, 80)\n",
    "N_examples = 1\n",
    "TRIPLET_INDEX = 0\n",
    "\n",
    "display(Markdown('## Flipping Manipulation -- Between'))\n",
    "\n",
    "images = []\n",
    "\n",
    "for rotate_angle in [0, 30, 45, 60, 90, 120, 135, 150]:\n",
    "    rng = np.random.default_rng(seed if seed is not None else np.random.randint(0, 2**32))\n",
    "    stimulus_generator = build_split_text_stimulus_generator(rng=rng, rotate_angle=rotate_angle)\n",
    "    triplet_generator = QuinnTripletGenerator(stimulus_generator, distance_endpoints,\n",
    "        relation=relation, two_reference_objects=True, transpose=False,\n",
    "        adjacent_reference_objects=False, **BASELINE_TRIPLET_KWARGS)\n",
    "\n",
    "    triplets = triplet_generator(N_examples, normalize=False)\n",
    "    images.append(triplets[0][TRIPLET_INDEX])\n",
    "\n",
    "\n",
    "\n",
    "plot_flipped_versions(images, [0, 30, 45, 60, 90, 120, 135, 150],\n",
    "    save_path='/Users/guydavidson/Downloads/flipping_between.png',\n",
    "    text_kwargs=dict(fontsize=16))"
   ]
  },
  {
   "cell_type": "code",
   "execution_count": null,
   "metadata": {},
   "outputs": [],
   "source": [
    "\n",
    "relation = BETWEEN_RELATION\n",
    "distance_endpoints = (30, 80)\n",
    "N_examples = 1\n",
    "TRIPLET_INDEX = 2\n",
    "\n",
    "display(Markdown('## Flipping Manipulation -- Between'))\n",
    "\n",
    "images = []\n",
    "\n",
    "for rotate_angle in [0, 30, 45, 60, 90, 120, 135, 150]:\n",
    "    rng = np.random.default_rng(seed if seed is not None else np.random.randint(0, 2**32))\n",
    "    stimulus_generator = build_split_text_stimulus_generator(rng=rng, rotate_angle=rotate_angle)\n",
    "\n",
    "    triplet_generator = QuinnTripletGenerator(stimulus_generator, distance_endpoints,\n",
    "        relation=relation, two_reference_objects=True, transpose=False,\n",
    "        adjacent_reference_objects=False, **BASELINE_TRIPLET_KWARGS)\n",
    "\n",
    "    triplets = triplet_generator(N_examples, normalize=False)\n",
    "    images.append(triplets[0][TRIPLET_INDEX])\n",
    "\n",
    "\n",
    "\n",
    "plot_flipped_versions(images, [0, 30, 45, 60, 90, 120, 135, 150],\n",
    "    save_path='/Users/guydavidson/Downloads/flipping_outside.png',\n",
    "    text_kwargs=dict(fontsize=16))"
   ]
  },
  {
   "cell_type": "code",
   "execution_count": null,
   "metadata": {},
   "outputs": [],
   "source": [
    "relation = ABOVE_BELOW_RELATION\n",
    "distance_endpoints = (30, 80)\n",
    "N_examples = 5\n",
    "\n",
    "display(Markdown('# Diagonal Above/Below'))\n",
    "\n",
    "# distance_endpoints = distance_endpoints_dict[(two_reference_objects, adjacent_reference_objects)]\n",
    "\n",
    "rotate_angle = 45\n",
    "for stimulus_generator, generator_name in create_stimulus_generators_and_names(rotate_angle=rotate_angle):\n",
    "    \n",
    "    triplet_generator = QuinnTripletGenerator(stimulus_generator, distance_endpoints,\n",
    "        relation=relation, two_reference_objects=False,\n",
    "        adjacent_reference_objects=False, **BASELINE_TRIPLET_KWARGS)\n",
    "\n",
    "    # adj_str = 'adjacent refs' if adjacent_reference_objects else ('non-adjacent refs' if two_reference_objects else '')\n",
    "    # title = f'{generator_name} | {relation} | {\"two refs\" if two_reference_objects else \"one ref\"}{\" | \" if adj_str else \"\"}{adj_str}'\n",
    "    title = f'{generator_name} | {relation} | {rotate_angle} degrees'\n",
    "    display(Markdown(f'## {title}'))\n",
    "    triplets = triplet_generator(N_examples, normalize=False)\n",
    "    plot_triplets(triplets)\n",
    "    display(Markdown('----'))\n",
    "    break\n"
   ]
  },
  {
   "cell_type": "code",
   "execution_count": null,
   "metadata": {},
   "outputs": [],
   "source": [
    "N_examples = 3\n",
    "ANGLES = [0, 30, 45, 60, 90, 120, 135, 150]\n",
    "\n",
    "rotate_angle = 0\n",
    "n_habituation_stimuli = 1\n",
    "\n",
    "OPTION_SET = (\n",
    "    (ABOVE_BELOW_RELATION, BETWEEN_RELATION),\n",
    "    (False, True),\n",
    "    (False, True),\n",
    "    # [1, 4],\n",
    "    # ANGLES\n",
    ") \n",
    "\n",
    "total_options = np.prod([len(v) for v in OPTION_SET])\n",
    "option_iter = itertools.product(*OPTION_SET)\n",
    "\n",
    "# for relation, two_reference_objects, adjacent_reference_objects, n_habituation_stimuli, rotate_angle in tqdm(option_iter, total=total_options):\n",
    "for relation, two_reference_objects, adjacent_reference_objects in tqdm(option_iter, total=total_options):\n",
    "    if (relation == ABOVE_BELOW_RELATION) and not two_reference_objects and adjacent_reference_objects:\n",
    "        continue\n",
    "\n",
    "    if (relation == BETWEEN_RELATION) and ((not two_reference_objects) or adjacent_reference_objects):\n",
    "        continue\n",
    "\n",
    "    distance_endpoints = distance_endpoints_dict[(two_reference_objects, adjacent_reference_objects)]\n",
    "\n",
    "    for stimulus_generator, generator_name in create_stimulus_generators_and_names(rotate_angle=rotate_angle):\n",
    "        triplet_generator = QuinnTripletGenerator(stimulus_generator, distance_endpoints,\n",
    "            relation=relation, two_reference_objects=two_reference_objects,\n",
    "            adjacent_reference_objects=adjacent_reference_objects,\n",
    "             n_habituation_stimuli=n_habituation_stimuli,\n",
    "            track_centroids=True,\n",
    "            **BASELINE_TRIPLET_KWARGS)\n",
    "\n",
    "        triplets = triplet_generator(N_examples, normalize=False)\n",
    "        plot_cropped_centered_triplets(triplets)\n"
   ]
  },
  {
   "cell_type": "markdown",
   "metadata": {},
   "source": [
    "## Comparing 90 degree rotated to transposed stimuli"
   ]
  },
  {
   "cell_type": "code",
   "execution_count": null,
   "metadata": {},
   "outputs": [],
   "source": [
    "relation = ABOVE_BELOW_RELATION\n",
    "N_examples = 5\n",
    "\n",
    "display(Markdown('# Above/Below'))\n",
    "\n",
    "for two_reference_objects in (False, True):\n",
    "    for adjacent_reference_objects in (False, True):\n",
    "        if not two_reference_objects and adjacent_reference_objects:\n",
    "            continue\n",
    "\n",
    "        distance_endpoints = distance_endpoints_dict[(two_reference_objects, adjacent_reference_objects)]\n",
    "\n",
    "        for rotate_angle, transpose, name in ((0, False, 'Baseline'),  (90, False, 'Rotated 90 degrees'), (0, True, 'Transposed')):\n",
    "\n",
    "            for stimulus_generator, generator_name in create_stimulus_generators_and_names(rotate_angle=rotate_angle):\n",
    "                \n",
    "                triplet_generator = QuinnTripletGenerator(stimulus_generator, distance_endpoints,\n",
    "                    relation=relation, two_reference_objects=two_reference_objects, transpose=transpose,\n",
    "                    adjacent_reference_objects=adjacent_reference_objects, **BASELINE_TRIPLET_KWARGS)\n",
    "\n",
    "                adj_str = 'adjacent refs' if adjacent_reference_objects else ('non-adjacent refs' if two_reference_objects else '')\n",
    "                # title = f'{generator_name} | {relation} | {\"two refs\" if two_reference_objects else \"one ref\"}{\" | \" if adj_str else \"\"}{adj_str}'\n",
    "                title = f'{name} | {\"two refs\" if two_reference_objects else \"one ref\"}{\" | \" if adj_str else \"\"}{adj_str}'\n",
    "                display(Markdown(f'## {title}'))\n",
    "                triplets = triplet_generator(N_examples, normalize=False)\n",
    "                plot_triplets(triplets)\n",
    "                display(Markdown('----'))\n"
   ]
  },
  {
   "cell_type": "code",
   "execution_count": null,
   "metadata": {},
   "outputs": [],
   "source": [
    "relation = ABOVE_BELOW_RELATION\n",
    "N_examples = 5\n",
    "\n",
    "display(Markdown('# Above/Below'))\n",
    "\n",
    "for two_reference_objects in (False, True):\n",
    "    for adjacent_reference_objects in (False, True):\n",
    "        if not two_reference_objects and adjacent_reference_objects:\n",
    "            continue\n",
    "\n",
    "        distance_endpoints = distance_endpoints_dict[(two_reference_objects, adjacent_reference_objects)]\n",
    "\n",
    "        for rotate_angle, transpose, name in ((0, False, 'Baseline'), (90, True, 'Transposed and rotated')):\n",
    "\n",
    "            for stimulus_generator, generator_name in create_stimulus_generators_and_names(rotate_angle=rotate_angle):\n",
    "                \n",
    "                triplet_generator = QuinnTripletGenerator(stimulus_generator, distance_endpoints,\n",
    "                    relation=relation, two_reference_objects=two_reference_objects, transpose=transpose,\n",
    "                    adjacent_reference_objects=adjacent_reference_objects, **BASELINE_TRIPLET_KWARGS)\n",
    "\n",
    "                adj_str = 'adjacent refs' if adjacent_reference_objects else ('non-adjacent refs' if two_reference_objects else '')\n",
    "                # title = f'{generator_name} | {relation} | {\"two refs\" if two_reference_objects else \"one ref\"}{\" | \" if adj_str else \"\"}{adj_str}'\n",
    "                title = f'{name} | {\"two refs\" if two_reference_objects else \"one ref\"}{\" | \" if adj_str else \"\"}{adj_str}'\n",
    "                display(Markdown(f'## {title}'))\n",
    "                triplets = triplet_generator(N_examples, normalize=False)\n",
    "                plot_triplets(triplets)\n",
    "                display(Markdown('----'))\n"
   ]
  },
  {
   "cell_type": "code",
   "execution_count": null,
   "metadata": {},
   "outputs": [],
   "source": []
  }
 ],
 "metadata": {
  "interpreter": {
   "hash": "c7f8e00f851a7185e5345342178c14041451eaa6562c62790473e641b6de40ed"
  },
  "kernelspec": {
   "display_name": "Python 3.8.2 ('torch')",
   "language": "python",
   "name": "python3"
  },
  "language_info": {
   "codemirror_mode": {
    "name": "ipython",
    "version": 3
   },
   "file_extension": ".py",
   "mimetype": "text/x-python",
   "name": "python",
   "nbconvert_exporter": "python",
   "pygments_lexer": "ipython3",
   "version": "3.8.2"
  },
  "orig_nbformat": 4
 },
 "nbformat": 4,
 "nbformat_minor": 2
}
